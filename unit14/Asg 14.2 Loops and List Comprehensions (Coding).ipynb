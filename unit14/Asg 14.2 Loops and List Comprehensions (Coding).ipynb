{
 "cells": [
  {
   "cell_type": "markdown",
   "id": "b9f9ac70",
   "metadata": {},
   "source": [
    "# <center>Unit 14\n",
    "# <center>Loops & List Comprehensions</center>\n",
    "# <center>Asg 14.2 (Coding)</center>"
   ]
  },
  {
   "cell_type": "code",
   "execution_count": 5,
   "id": "28565f21",
   "metadata": {
    "id": "28565f21"
   },
   "outputs": [
    {
     "name": "stdout",
     "output_type": "stream",
     "text": [
      "The notebook is set up to display multiple output in one cell.\n"
     ]
    }
   ],
   "source": [
    "# set up notebook to display multiple output in one cell\n",
    "\n",
    "from IPython.core.interactiveshell import InteractiveShell\n",
    "InteractiveShell.ast_node_interactivity = \"all\"\n",
    "\n",
    "print('The notebook is set up to display multiple output in one cell.')"
   ]
  },
  {
   "cell_type": "markdown",
   "id": "4dee6245",
   "metadata": {
    "id": "4dee6245"
   },
   "source": [
    "<div class=\"alert alert-block alert-success\"><b>Practice Problem #1:</b>\n",
    "\n",
    "<b>Teams in the NFC North Division:</b><br>\n",
    "Bears<br>\n",
    "Lions<br>\n",
    "Packers<br>\n",
    "Vikings<br>\n",
    "<p>&nbsp;</p>\n",
    "<b>Desired Output:</b><br>\n",
    "The Bears are in the NFC North Division.<br>\n",
    "The Lions are in the NFC North Division.<br>\n",
    "The Packers are in the NFC North Division.<br>\n",
    "The Vikings are in the NFC North Division.<br>\n",
    "<p>&nbsp;</p>\n",
    "a. Write code that doesn't use iteration to print out the desired output.<br>\n",
    "b. Create a list called nfc_north that contains the 4 teams that are in the NFC North Division.  Then iterate over that list to produce the desired output.\n",
    "\n",
    "</div>"
   ]
  },
  {
   "cell_type": "code",
   "execution_count": 6,
   "id": "734e0ff7",
   "metadata": {
    "id": "734e0ff7"
   },
   "outputs": [
    {
     "name": "stdout",
     "output_type": "stream",
     "text": [
      "The Bears are in the NFC North Division.\n",
      "The Lions are in the NFC North Division.\n",
      "The Packers are in the NFC North Division.\n",
      "The Vikings are in the NFC North Division.\n",
      "\n",
      "The Bears are in the NFC North Division.\n",
      "The Lions are in the NFC North Division.\n",
      "The Packers are in the NFC North Division.\n",
      "The Vikings are in the NFC North Division.\n"
     ]
    }
   ],
   "source": [
    "nfc_north = [\"Bears\",\"Lions\",\"Packers\",\"Vikings\"]\n",
    "print(\"The Bears are in the NFC North Division.\\n\"\n",
    "\"The Lions are in the NFC North Division.\\n\"\n",
    "\"The Packers are in the NFC North Division.\\n\"\n",
    "\"The Vikings are in the NFC North Division.\\n\")\n",
    "\n",
    "for x in nfc_north:\n",
    "    print(f\"The {x} are in the NFC North Division.\")"
   ]
  },
  {
   "cell_type": "markdown",
   "id": "a18d6316",
   "metadata": {
    "id": "a18d6316"
   },
   "source": [
    "<div class=\"alert alert-block alert-success\"><b>Practice Problem #2:</b>\n",
    "\n",
    "Write code that incorporates the range() function in a for loop to print out the first 5 terms of the following arithmetic sequence:<br>\n",
    "<p>&nbsp;</p>    \n",
    "7, 12, 17, 22, 27\n",
    "</div>"
   ]
  },
  {
   "cell_type": "code",
   "execution_count": 7,
   "id": "cb0f1b04",
   "metadata": {
    "id": "cb0f1b04"
   },
   "outputs": [
    {
     "name": "stdout",
     "output_type": "stream",
     "text": [
      "7 12 17 22 27 "
     ]
    }
   ],
   "source": [
    "for x in range(7, 30,5):\n",
    "    print(x, end=\" \")"
   ]
  },
  {
   "cell_type": "markdown",
   "id": "fea76665",
   "metadata": {
    "id": "fea76665"
   },
   "source": [
    "<div class=\"alert alert-block alert-success\"><b>Practice Problem #3:</b>\n",
    "\n",
    "Write code that incorporates the range() function and produces the specified output.<br>\n",
    "<p>&nbsp;</p>    \n",
    "a. [0, 1, 2, 4, 4, 5, 6]<br>\n",
    "b. [8, 9, 10, 11, 12]<br>\n",
    "c. [5, 9, 13, 17, 21, 25]<br>\n",
    "d. [5, 4, 3, 2]<br>\n",
    "e. [31, 24, 17, 10, 3]\n",
    "</div>"
   ]
  },
  {
   "cell_type": "code",
   "execution_count": 8,
   "id": "a69ffd96",
   "metadata": {
    "id": "a69ffd96"
   },
   "outputs": [
    {
     "name": "stdout",
     "output_type": "stream",
     "text": [
      "[0, 1, 2, 3, 4, 5, 6]\n",
      "[8, 9, 10, 11, 12]\n",
      "[5, 9, 13, 17, 21, 25]\n",
      "[5, 4, 3, 2]\n",
      "[31, 24, 17, 10, 3]\n"
     ]
    }
   ],
   "source": [
    "a = []\n",
    "for x in range(7):\n",
    "    a.append(x)\n",
    "print(a)\n",
    "\n",
    "b = []\n",
    "for x in range(8,13):\n",
    "    b.append(x)\n",
    "print(b)\n",
    "\n",
    "c = []\n",
    "for x in range(5, 26,4):\n",
    "    c.append(x)\n",
    "print(c)\n",
    "\n",
    "d = []\n",
    "for x in range(5, 1,-1):\n",
    "    d.append(x)\n",
    "print(d)\n",
    "\n",
    "e = []\n",
    "for x in range(31, 2, -7):\n",
    "    e.append(x)\n",
    "print(e)"
   ]
  },
  {
   "cell_type": "markdown",
   "id": "a51a8ff2",
   "metadata": {
    "id": "a51a8ff2"
   },
   "source": [
    "<div class=\"alert alert-block alert-success\"><b>Practice Problem #4:</b>\n",
    "\n",
    "a. Use a for loop to add the first 7 perfect squares.<br>\n",
    "<p>&nbsp;</p>\n",
    "b. Use a while statement to add the first 7 perfect squares.\n",
    "</div>"
   ]
  },
  {
   "cell_type": "code",
   "execution_count": 9,
   "id": "6f824b10",
   "metadata": {
    "id": "6f824b10"
   },
   "outputs": [
    {
     "name": "stdout",
     "output_type": "stream",
     "text": [
      "140\n",
      "140\n"
     ]
    }
   ],
   "source": [
    "total = 0\n",
    "for x in range(8):\n",
    "    total += (x**2)\n",
    "print(total)\n",
    "\n",
    "total = 0\n",
    "x=0\n",
    "while x < 8:\n",
    "    total += (x**2)\n",
    "    x+=1\n",
    "print(total)"
   ]
  },
  {
   "cell_type": "markdown",
   "id": "f6b41d53",
   "metadata": {
    "id": "f6b41d53"
   },
   "source": [
    "<div class=\"alert alert-block alert-success\"><b>Practice Problem #5:</b>\n",
    "\n",
    "Use a for loop to iterate over each character in the string \"Matt Amodio just won 38 straiht games of Jeopardy.\"\n",
    "\n",
    "</div>"
   ]
  },
  {
   "cell_type": "code",
   "execution_count": 10,
   "id": "e833daba",
   "metadata": {
    "id": "e833daba"
   },
   "outputs": [
    {
     "name": "stdout",
     "output_type": "stream",
     "text": [
      "Matt Amodio just won 38 straiht games of Jeopardy."
     ]
    }
   ],
   "source": [
    "Matt_String = \"Matt Amodio just won 38 straiht games of Jeopardy.\"\n",
    "\n",
    "for ch in Matt_String:\n",
    "    print(ch,end=\"\")"
   ]
  },
  {
   "cell_type": "markdown",
   "id": "957b164d",
   "metadata": {
    "id": "957b164d"
   },
   "source": [
    "<div class=\"alert alert-block alert-success\"><b>Practice Problem #6:</b>\n",
    "\n",
    "a. Use the len of the given string as the range() function parameter value to iterate over each character in the string \"Halloween\".\n",
    "    <p>&nbsp;</p>\n",
    "b.  Use the len of the given string as part of a range() function parameter value to iterate in reverse over each character in the string \"Halloween\".\n",
    "</div>"
   ]
  },
  {
   "cell_type": "code",
   "execution_count": 11,
   "id": "72c57c9b",
   "metadata": {
    "id": "72c57c9b"
   },
   "outputs": [
    {
     "name": "stdout",
     "output_type": "stream",
     "text": [
      "Halloween\n",
      "\n",
      "neewollaH"
     ]
    }
   ],
   "source": [
    "halloween = \"Halloween\"\n",
    "for x in range(len(halloween)):\n",
    "    print(halloween[x], end=\"\")\n",
    "print(\"\\n\")\n",
    "    \n",
    "for x in range(len(halloween) - 1, -1, -1):\n",
    "    print(halloween[x],end=\"\")"
   ]
  },
  {
   "cell_type": "markdown",
   "id": "b73ddbdb",
   "metadata": {
    "id": "b73ddbdb"
   },
   "source": [
    "<div class=\"alert alert-block alert-success\"><b>Practice Problem #7:</b>\n",
    "\n",
    "Use a while loop to generate index values to iterate over each character in the string \"Jack O'Lantern\".\n",
    "\n",
    "</div>"
   ]
  },
  {
   "cell_type": "code",
   "execution_count": 12,
   "id": "08be0198",
   "metadata": {
    "id": "08be0198"
   },
   "outputs": [
    {
     "name": "stdout",
     "output_type": "stream",
     "text": [
      "Jack O'Lantern"
     ]
    }
   ],
   "source": [
    "jack = \"Jack O'Lantern\"\n",
    "x = 0\n",
    "while x < len(jack):\n",
    "    print(jack[x],end=\"\")\n",
    "    x+=1"
   ]
  },
  {
   "cell_type": "markdown",
   "id": "36ecc8ad",
   "metadata": {
    "id": "36ecc8ad"
   },
   "source": [
    "<div class=\"alert alert-block alert-success\"><b>Practice Problem #8:</b>\n",
    "\n",
    "Use list traversal to print out the following list one item at a time.<br>\n",
    "<p>&nbsp;</p>\n",
    "candy_bars = [\"Milky Way\", \"Snickers\", \"3 Muskateers\"]\n",
    "\n",
    "</div>"
   ]
  },
  {
   "cell_type": "code",
   "execution_count": 13,
   "id": "9d8932d0",
   "metadata": {
    "id": "9d8932d0"
   },
   "outputs": [
    {
     "name": "stdout",
     "output_type": "stream",
     "text": [
      "Milky Way\n",
      "Snickers\n",
      "3 Musketeers\n"
     ]
    }
   ],
   "source": [
    "candy_bars = [\"Milky Way\", \"Snickers\", \"3 Musketeers\"]\n",
    "for x in candy_bars:\n",
    "    print(x)"
   ]
  },
  {
   "cell_type": "markdown",
   "id": "4cd99865",
   "metadata": {
    "id": "4cd99865"
   },
   "source": [
    "<div class=\"alert alert-block alert-success\"><b>Practice Problem #9:</b>\n",
    "\n",
    "Use list comprehension to print out the sequence 2, 9, 16, 23, 30, 37 as a list.<br>\n",
    "<p>&nbsp;</p>\n",
    "\n",
    "</div>"
   ]
  },
  {
   "cell_type": "code",
   "execution_count": 14,
   "id": "fe64145d",
   "metadata": {
    "id": "fe64145d"
   },
   "outputs": [
    {
     "name": "stdout",
     "output_type": "stream",
     "text": [
      "[2, 9, 16, 23, 30, 37]\n"
     ]
    }
   ],
   "source": [
    "list = []\n",
    "for x in range(2,38,7):\n",
    "    list.append(x)\n",
    "print(list)"
   ]
  },
  {
   "cell_type": "code",
   "execution_count": null,
   "id": "f5264041",
   "metadata": {},
   "outputs": [],
   "source": []
  }
 ],
 "metadata": {
  "colab": {
   "name": "14 Loops and List Comprehensions Asg 2 (JN).ipynb",
   "provenance": []
  },
  "kernelspec": {
   "display_name": "Python 3 (ipykernel)",
   "language": "python",
   "name": "python3"
  },
  "language_info": {
   "codemirror_mode": {
    "name": "ipython",
    "version": 3
   },
   "file_extension": ".py",
   "mimetype": "text/x-python",
   "name": "python",
   "nbconvert_exporter": "python",
   "pygments_lexer": "ipython3",
   "version": "3.9.12"
  }
 },
 "nbformat": 4,
 "nbformat_minor": 5
}
