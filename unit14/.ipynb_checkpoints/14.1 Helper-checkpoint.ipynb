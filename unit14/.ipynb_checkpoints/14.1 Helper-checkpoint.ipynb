{
 "cells": [
  {
   "cell_type": "code",
   "execution_count": 8,
   "id": "791a92c2",
   "metadata": {},
   "outputs": [
    {
     "name": "stdout",
     "output_type": "stream",
     "text": [
      "2\n",
      "6\n",
      "10\n"
     ]
    }
   ],
   "source": [
    "for x in range(2,14,4):\n",
    "    print(x)"
   ]
  },
  {
   "cell_type": "code",
   "execution_count": 10,
   "id": "3c6c4c72",
   "metadata": {},
   "outputs": [
    {
     "name": "stdout",
     "output_type": "stream",
     "text": [
      "7 15\n"
     ]
    }
   ],
   "source": [
    "n = 1 \n",
    "x = 2 \n",
    "while n < 5: \n",
    "    n = n + 1 \n",
    "    x = x + 1 \n",
    "    n = n + 2 \n",
    "    x = x + n \n",
    "print(n, x) "
   ]
  },
  {
   "cell_type": "code",
   "execution_count": 15,
   "id": "c235add6",
   "metadata": {},
   "outputs": [
    {
     "data": {
      "text/plain": [
       "5"
      ]
     },
     "execution_count": 15,
     "metadata": {},
     "output_type": "execute_result"
    }
   ],
   "source": [
    "s = \"python rocks\"\n",
    "list = []\n",
    "for ch in s[3:8]: \n",
    "    list.append(\"HELLO\")\n",
    "len(list)"
   ]
  },
  {
   "cell_type": "code",
   "execution_count": 17,
   "id": "919d6300",
   "metadata": {},
   "outputs": [
    {
     "name": "stdout",
     "output_type": "stream",
     "text": [
      "p\n",
      "t\n",
      "o\n",
      " \n",
      "o\n",
      "k\n"
     ]
    }
   ],
   "source": [
    "s = \"python rocks\" \n",
    "for idx in range(len(s)): \n",
    "    if idx % 2 == 0: \n",
    "        print(s[idx]) "
   ]
  },
  {
   "cell_type": "code",
   "execution_count": 18,
   "id": "ffbf588d",
   "metadata": {},
   "outputs": [
    {
     "name": "stdout",
     "output_type": "stream",
     "text": [
      "y\n",
      "h\n",
      "n\n",
      "r\n",
      "c\n",
      "s\n"
     ]
    }
   ],
   "source": [
    "s = \"python rocks\" \n",
    "idx = 1 \n",
    "while idx < len(s): \n",
    "    print(s[idx]) \n",
    "    idx = idx + 2"
   ]
  },
  {
   "cell_type": "code",
   "execution_count": 20,
   "id": "9b3a9ed8",
   "metadata": {},
   "outputs": [
    {
     "name": "stdout",
     "output_type": "stream",
     "text": [
      "[9, 7, 13, 11, 10]\n"
     ]
    }
   ],
   "source": [
    "alist = [4, 2, 8, 6, 5] \n",
    "blist = [ ] \n",
    "for item in alist: \n",
    "    blist.append(item+5) \n",
    "print(blist) "
   ]
  },
  {
   "cell_type": "code",
   "execution_count": 21,
   "id": "fac3f32c",
   "metadata": {},
   "outputs": [
    {
     "name": "stdout",
     "output_type": "stream",
     "text": [
      "[10]\n"
     ]
    }
   ],
   "source": [
    "alist = [4,2,8,6,5] \n",
    "blist = [num*2 for num in alist if num%2==1] \n",
    "print(blist) "
   ]
  },
  {
   "cell_type": "code",
   "execution_count": 23,
   "id": "ae8de5bf",
   "metadata": {},
   "outputs": [
    {
     "name": "stdout",
     "output_type": "stream",
     "text": [
      "1 2 3 4 5 6 7 8 9 10 11 12 13 14 15 16 17 18 19 20 21 22 23 24 25 26 27 28 29 30 31 32 33 34 35 36 37 38 39 40 41 42 43 44 45 46 47 48 49 50 51 52 53 54 55 56 57 58 59 60 61 62 63 64 65 66 67 68 69 70 71 72 73 74 75 76 77 78 79 80 81 82 83 84 85 86 87 88 89 90 "
     ]
    }
   ],
   "source": [
    "x = 0\n",
    "for i in range(10):\n",
    "    for j in range(-1, -10, -1):\n",
    "        x+= 1\n",
    "        print(x, end=\" \")"
   ]
  },
  {
   "cell_type": "code",
   "execution_count": 24,
   "id": "7abe975a",
   "metadata": {},
   "outputs": [
    {
     "name": "stdout",
     "output_type": "stream",
     "text": [
      "10 Chair\n",
      "10 Table\n",
      "20 Chair\n",
      "20 Table\n"
     ]
    }
   ],
   "source": [
    "numbers = [10,20]\n",
    "items = [\"Chair\", \"Table\"]\n",
    "for x in numbers:\n",
    "    for y in items:\n",
    "        print(x,y)"
   ]
  },
  {
   "cell_type": "code",
   "execution_count": 25,
   "id": "e15b9524",
   "metadata": {},
   "outputs": [
    {
     "name": "stdout",
     "output_type": "stream",
     "text": [
      "-2, -3, -4, "
     ]
    }
   ],
   "source": [
    "for num in range(-2,-5,-1):\n",
    "    print(num, end=\", \")"
   ]
  },
  {
   "cell_type": "code",
   "execution_count": 26,
   "id": "47ffe33c",
   "metadata": {},
   "outputs": [
    {
     "name": "stdout",
     "output_type": "stream",
     "text": [
      "100\n"
     ]
    }
   ],
   "source": [
    "x = 0\n",
    "while(x<100):\n",
    "    x+=2\n",
    "print(x)"
   ]
  },
  {
   "cell_type": "code",
   "execution_count": 27,
   "id": "54c14c4a",
   "metadata": {},
   "outputs": [
    {
     "name": "stdout",
     "output_type": "stream",
     "text": [
      "10\n",
      "11\n",
      "12\n",
      "13\n"
     ]
    }
   ],
   "source": [
    "for num in range(10, 14):\n",
    "    for i in range(2, num):\n",
    "        if(num % i == 1):\n",
    "            print(num)\n",
    "            break\n",
    "        "
   ]
  },
  {
   "cell_type": "code",
   "execution_count": 30,
   "id": "45ddb578",
   "metadata": {},
   "outputs": [
    {
     "name": "stdout",
     "output_type": "stream",
     "text": [
      "21\n"
     ]
    }
   ],
   "source": [
    "var = 10\n",
    "for i in range(10):\n",
    "    for j in range(2,10,1):\n",
    "        if(var % 2 ==0):\n",
    "            continue\n",
    "            var+=1\n",
    "    var += 1\n",
    "else:\n",
    "    var+= 1\n",
    "print(var)"
   ]
  },
  {
   "cell_type": "code",
   "execution_count": 28,
   "id": "1d04926a",
   "metadata": {},
   "outputs": [
    {
     "name": "stdout",
     "output_type": "stream",
     "text": [
      "1\n",
      "2\n"
     ]
    }
   ],
   "source": [
    "i =1 \n",
    "while True:\n",
    "    if(i % 3 == 0):\n",
    "        break\n",
    "    print(i)\n",
    "    \n",
    "    i+=1"
   ]
  },
  {
   "cell_type": "code",
   "execution_count": 29,
   "id": "b98139a0",
   "metadata": {},
   "outputs": [
    {
     "name": "stdout",
     "output_type": "stream",
     "text": [
      "['ab', 'cd']\n"
     ]
    }
   ],
   "source": [
    "x = ['ab','cd']\n",
    "for i in x:\n",
    "    i.upper()\n",
    "print(x)"
   ]
  },
  {
   "cell_type": "code",
   "execution_count": null,
   "id": "1472dc5c",
   "metadata": {},
   "outputs": [],
   "source": []
  }
 ],
 "metadata": {
  "kernelspec": {
   "display_name": "Python 3 (ipykernel)",
   "language": "python",
   "name": "python3"
  },
  "language_info": {
   "codemirror_mode": {
    "name": "ipython",
    "version": 3
   },
   "file_extension": ".py",
   "mimetype": "text/x-python",
   "name": "python",
   "nbconvert_exporter": "python",
   "pygments_lexer": "ipython3",
   "version": "3.9.12"
  }
 },
 "nbformat": 4,
 "nbformat_minor": 5
}
