{
 "cells": [
  {
   "cell_type": "markdown",
   "id": "a2020fd5",
   "metadata": {},
   "source": [
    "# <center><b>Lessons 06 & 07</b></center> \n",
    "# <center><b>Asg 7.1</b></center> \n",
    "# <center><b>The Absolute Basics</b></center>\n",
    "# <center><b>&</b></center> \n",
    "# <center><b>The \"sep=\" and \"end=\" Python print() Function Parameters</b></center>"
   ]
  },
  {
   "cell_type": "markdown",
   "id": "b7aae4f2",
   "metadata": {},
   "source": [
    "<div class=\"alert alert-block alert-success\"><b>Question #1:</b>\n",
    "\n",
    "a. Write code to print <b>NUMPY</b> using the sep= parameter.<br>\n",
    "\n",
    "b. Write code to print <b>P   a   n   d   a   s</b> using the sep= parameter.<br>\n",
    "\n",
    "c. Write code to print <b>P + y + t + h + o + n</b> using the sep= parameter.\n",
    "\n",
    "</div>"
   ]
  },
  {
   "cell_type": "code",
   "execution_count": 10,
   "id": "b7b2b670",
   "metadata": {},
   "outputs": [
    {
     "name": "stdout",
     "output_type": "stream",
     "text": [
      "NUMPY\n",
      "P a n d a s\n",
      "P + y + t + h + o + n\n"
     ]
    }
   ],
   "source": [
    "print('N','U','M','P','Y', sep='')\n",
    "print(\"P\",\"a\",\"n\",\"d\",\"a\",\"s\", sep=' ')\n",
    "print(\"P\",\"y\",\"t\",\"h\",\"o\",\"n\", sep=' + ')"
   ]
  },
  {
   "cell_type": "markdown",
   "id": "0fc9c148",
   "metadata": {},
   "source": [
    "<div class=\"alert alert-block alert-success\"><b>Question #2:</b>\n",
    "\n",
    "a. Create a variable called hour and assign the value 10 to that variable.  Create a second variable called minute and assign the value 30 to that variable.  Create a third variable called seconds and assign the value 45 to that variable.  Then use the sep= parameter to write code that prints out the time 10:30:45.<br>\n",
    "<p>&nbsp;</p>   \n",
    "b.  Do the same question as Part(a), but also use the end= parameter to write code that prints out the time 10:30:45 AM.<br>\n",
    "<p>&nbsp;</p>    \n",
    "c. Create three variables month, day, and year.  Assign values to those variables that correspond to today's date (September 21, 2022). Then use the sep= parameter to write code that takes today's date  and prints it out in the format 09-21-2022.<br>\n",
    "<p>&nbsp;</p>     \n",
    "d. Create a variable user_name and assign a value of smithj to that variable.  Create a second variable organization and assign a value of elmbrookschool.org to that variable. Then use the sep= parameter to write code that incorporates the two variable that you created to print out the following email address: smithj@elmbrookschools.org\n",
    "                                                                                                                                 \n",
    "</div>"
   ]
  },
  {
   "cell_type": "code",
   "execution_count": 21,
   "id": "345faba2",
   "metadata": {},
   "outputs": [
    {
     "name": "stdout",
     "output_type": "stream",
     "text": [
      "10:30:45.\n"
     ]
    }
   ],
   "source": [
    "hour = 10\n",
    "minute = 30\n",
    "seconds = 45\n",
    "print(hour, minute, str(seconds) +\".\",sep=':')"
   ]
  },
  {
   "cell_type": "code",
   "execution_count": 24,
   "id": "cb8b536b",
   "metadata": {},
   "outputs": [
    {
     "name": "stdout",
     "output_type": "stream",
     "text": [
      "09-21-2022\n"
     ]
    }
   ],
   "source": [
    "month = \"9\"\n",
    "day = 21\n",
    "year = 2022\n",
    "month = month.zfill(2)\n",
    "print(month, day, year, sep=\"-\")"
   ]
  },
  {
   "cell_type": "code",
   "execution_count": 25,
   "id": "f850cb47",
   "metadata": {},
   "outputs": [
    {
     "name": "stdout",
     "output_type": "stream",
     "text": [
      "smithj@elmbrookschools.org\n"
     ]
    }
   ],
   "source": [
    "user_name = \"smithj\"\n",
    "organziation = \"elmbrookschools.org\"\n",
    "print(user_name, organziation, sep=\"@\")\n"
   ]
  },
  {
   "cell_type": "markdown",
   "id": "69398e88",
   "metadata": {},
   "source": [
    "<div class=\"alert alert-block alert-success\"><b>Question #3:</b>\n",
    "    \n",
    "Write code that prints out the following dialogue:<br>\n",
    "Note: Each time you finish a line, skip one more line than you previously did.\n",
    "\n",
    "-------\n",
    "\n",
    "<b>Dialogue</b>\n",
    "<p>&nbsp;</p>    \n",
    "Hey!\n",
    "What's Up?\n",
    "<p>&nbsp;</p>  \n",
    "It's great to see that you are learning Python.\n",
    "<p>&nbsp;</p> \n",
    "<p>&nbsp;</p> \n",
    "Thank You! I'm having a lot of fun doing so.\n",
    "<p>&nbsp;</p> \n",
    "<p>&nbsp;</p> \n",
    "<p>&nbsp;</p> \n",
    "You are welcome! I'm glad that you are having fun.\n",
    "\n",
    "</div>"
   ]
  },
  {
   "cell_type": "code",
   "execution_count": 35,
   "id": "d77c92ad",
   "metadata": {},
   "outputs": [
    {
     "name": "stdout",
     "output_type": "stream",
     "text": [
      "Hey! What's Up?\n",
      "\n",
      "\n",
      "It's great to see that you are learning Python.\n",
      "\n",
      "\n",
      "\n",
      "\n",
      "Thank You! I'm having a lot of fun doing so.\n",
      "\n",
      "\n",
      "\n",
      "\n",
      "\n",
      "\n",
      "\n",
      "\n",
      "You are welcome! I'm glad that you are having fun.\n",
      "\n",
      "\n",
      "\n",
      "\n",
      "\n",
      "\n",
      "\n",
      "\n",
      "\n",
      "\n",
      "\n",
      "\n",
      "\n",
      "\n",
      "\n",
      "\n"
     ]
    }
   ],
   "source": [
    "list=[\"Hey! What's Up?\", \"It's great to see that you are learning Python.\", \"Thank You! I'm having a lot of fun doing so.\", \"You are welcome! I'm glad that you are having fun.\"]\n",
    "counter = 1\n",
    "for dialogue in list:\n",
    "    print(dialogue)\n",
    "    for x in range(0, counter):\n",
    "        print(\"\\n\")\n",
    "        counter += 1"
   ]
  },
  {
   "cell_type": "markdown",
   "id": "ff870e17",
   "metadata": {},
   "source": [
    "<div class=\"alert alert-block alert-success\"><b>Question #4:</b>\n",
    "\n",
    "Use two print statements to print out the following phrase:\n",
    "    \n",
    "<i><b>This is a question about the \"end\" parameter.</b></i>\n",
    "    \n",
    "- The first print statement should include the words ... <i>This is a question about</i> \n",
    "- The second print statement should include the words ... <i>the \"end\" parameter.</i>\n",
    "\n",
    "</div>"
   ]
  },
  {
   "cell_type": "code",
   "execution_count": 38,
   "id": "661bccd4",
   "metadata": {},
   "outputs": [
    {
     "name": "stdout",
     "output_type": "stream",
     "text": [
      "This is a question about the \"end\" parameter\n"
     ]
    }
   ],
   "source": [
    "print(\"This is a question about\", end=\" \")\n",
    "print(\"the \\\"end\\\" parameter\")"
   ]
  }
 ],
 "metadata": {
  "kernelspec": {
   "display_name": "Python 3 (ipykernel)",
   "language": "python",
   "name": "python3"
  },
  "language_info": {
   "codemirror_mode": {
    "name": "ipython",
    "version": 3
   },
   "file_extension": ".py",
   "mimetype": "text/x-python",
   "name": "python",
   "nbconvert_exporter": "python",
   "pygments_lexer": "ipython3",
   "version": "3.9.12"
  }
 },
 "nbformat": 4,
 "nbformat_minor": 5
}
