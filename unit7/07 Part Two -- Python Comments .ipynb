{
 "cells": [
  {
   "cell_type": "markdown",
   "id": "2367a1e4",
   "metadata": {},
   "source": [
    "# <center><b>Python for Data Science</b></center>\n",
    "# <center><b>Lesson 07 -- Part Two:</b></center>\n",
    "# <center><b>Python Comments</b></center>"
   ]
  },
  {
   "cell_type": "markdown",
   "id": "c918757a",
   "metadata": {},
   "source": [
    "<center><i>Adapted from:</i></center>\n",
    "<center>*****************</center>\n",
    "\n",
    "<center>Real Python -- Writing Comments in Python (Guide)</center>"
   ]
  },
  {
   "cell_type": "markdown",
   "id": "484c1583",
   "metadata": {},
   "source": [
    "[Real Python -- Writing Comments in Python (Guide)](https://realpython.com/python-comments-guide/)"
   ]
  },
  {
   "cell_type": "markdown",
   "id": "4129da02",
   "metadata": {},
   "source": [
    "##  <span style=\"color:green\">TABLE OF CONTENTS</span>\n",
    "\n",
    "1. [How to Make Your Code More Easily Understood by Others](#1)<br>\n",
    "2. [Why Commenting Your Code Is So Important](#2)<br>\n",
    "3. [How to Write Comments in Python](#3)<br>\n",
    "4. [Multiline Comments in Python](#4)<br>\n",
    "5. [Multiline Comments in Python Method 1 -- Use the Hash (\\#) Symbol](#5)<br>\n",
    "6. [Multiline Comments in Python Method 2 -- Use Triple Quotations](#6)<br>    \n",
    "7. [Commenting Out Code Shortcut](#7)<br>\n",
    "8. [Python Commenting Best Practices -- When Writing Code For Yourself](#8)\n",
    "9. [Python Commenting Best Practices -- When Writing Code For Others](#9)\n",
    "10. [Python Commenting Worst Practices](#10)"
   ]
  },
  {
   "cell_type": "code",
   "execution_count": 7,
   "id": "ed28d89b",
   "metadata": {},
   "outputs": [],
   "source": [
    "# set up notebook to display multiple output in one cell\n",
    "from IPython.core.interactiveshell import InteractiveShell\n",
    "InteractiveShell.ast_node_interactivity = \"all\""
   ]
  },
  {
   "cell_type": "markdown",
   "id": "0b5d0086",
   "metadata": {},
   "source": [
    "<a class=\"anchor\" id=\"1\"></a>\n",
    "### <b>How to Make Your Code More Easily Understood by Others</b>"
   ]
  },
  {
   "cell_type": "markdown",
   "id": "e60d5994",
   "metadata": {},
   "source": [
    "When writing code in Python, it’s important to make sure that your code can be easily understood by others. \n",
    "\n",
    "To do this you can ...\n",
    "\n",
    "- give [variables](https://realpython.com/python-variables/) obvious names\n",
    "\n",
    "- [define explicit functions](https://realpython.com/defining-your-own-python-function/) (we will learn how to write user-defined functions later in the course)\n",
    "\n",
    "- organize your code \n",
    "\n",
    "***\n",
    "\n",
    "- and another awesome and easy way to increase the readability of your code is by <b>using comments</b>!\n"
   ]
  },
  {
   "cell_type": "markdown",
   "id": "11698008",
   "metadata": {},
   "source": [
    "<a class=\"anchor\" id=\"2\"></a>\n",
    "### <b>Why Commenting Your Code Is So Important</b>"
   ]
  },
  {
   "cell_type": "markdown",
   "id": "2ebc3928",
   "metadata": {},
   "source": [
    "1.\tTo be nice to the Future You!\n",
    "\n",
    "2.\tTo help others who have to read your code gain a quick understanding of how it all works.\n"
   ]
  },
  {
   "cell_type": "markdown",
   "id": "226cb3a3",
   "metadata": {},
   "source": [
    "<a class=\"anchor\" id=\"3\"></a>\n",
    "### <b>How to Write Comments in Python</b>"
   ]
  },
  {
   "cell_type": "markdown",
   "id": "bd887853",
   "metadata": {},
   "source": [
    "- To write a comment in Python, simply put the hash mark # before your desired comment."
   ]
  },
  {
   "cell_type": "code",
   "execution_count": 2,
   "id": "30580416",
   "metadata": {},
   "outputs": [],
   "source": [
    "# This is an example of a comment"
   ]
  },
  {
   "cell_type": "markdown",
   "id": "ce36fe19",
   "metadata": {},
   "source": [
    "- Python ignores everything after the hash mark and up to the end of the line.\n",
    "\n",
    "*** \n",
    "\n",
    "- You can insert comments anywhere in your code, even inline with other code."
   ]
  },
  {
   "cell_type": "code",
   "execution_count": 5,
   "id": "fc3e227c",
   "metadata": {},
   "outputs": [
    {
     "name": "stdout",
     "output_type": "stream",
     "text": [
      "This print command will run, but the inline comment won't run.\n"
     ]
    }
   ],
   "source": [
    "print(\"This print command will run, but the inline comment won't run.\")   # Inline comment"
   ]
  },
  {
   "cell_type": "markdown",
   "id": "70f08b9f",
   "metadata": {},
   "source": [
    "- When you run the above code, you will only see the output <span style=\"color:red\">This print command will run, but the inline comment won't run.</span>\n",
    "- Everything else is ignored.\n",
    "\n",
    "***"
   ]
  },
  {
   "cell_type": "markdown",
   "id": "865c17eb",
   "metadata": {},
   "source": [
    "- Comments should be short, sweet, and to the point. \n",
    "\n",
    "- While [PEP 8](https://peps.python.org/pep-0008/#maximum-line-length) advises keeping code at 79 characters or fewer per line, it suggests a max of 72 characters for inline comments and docstrings (we will learn about docstrings in the unit where we study functions). \n",
    "\n",
    "- If your comment is approaching or exceeding that length, then you’ll want to spread it out over multiple lines."
   ]
  },
  {
   "cell_type": "markdown",
   "id": "e38b397b",
   "metadata": {},
   "source": [
    "<a class=\"anchor\" id=\"4\"></a>\n",
    "### <b>Multiline Comments in Python</b>"
   ]
  },
  {
   "cell_type": "code",
   "execution_count": 6,
   "id": "ccfaa1dd",
   "metadata": {},
   "outputs": [
    {
     "ename": "SyntaxError",
     "evalue": "EOL while scanning string literal (<ipython-input-6-30d34d451105>, line 2)",
     "output_type": "error",
     "traceback": [
      "\u001b[1;36m  File \u001b[1;32m\"<ipython-input-6-30d34d451105>\"\u001b[1;36m, line \u001b[1;32m2\u001b[0m\n\u001b[1;33m    can't just write a\u001b[0m\n\u001b[1;37m                      ^\u001b[0m\n\u001b[1;31mSyntaxError\u001b[0m\u001b[1;31m:\u001b[0m EOL while scanning string literal\n"
     ]
    }
   ],
   "source": [
    "# In Python, you ...\n",
    "can't just write a\n",
    "multiline comment like\n",
    "this!"
   ]
  },
  {
   "cell_type": "markdown",
   "id": "322fce19",
   "metadata": {},
   "source": [
    "- In the above example, the first line will be ignored by the program, but the other lines will raise a \n",
    "[Syntax Error](https://realpython.com/invalid-syntax-python/).\n",
    "\n",
    "- While Python doesn’t have native multiline commenting functionality, you can create multiline comments in Python. \n",
    "\n",
    "- There are two simple ways to do so."
   ]
  },
  {
   "cell_type": "markdown",
   "id": "c895784b",
   "metadata": {},
   "source": [
    "<a class=\"anchor\" id=\"5\"></a>\n",
    "### <b>Multiline Comments in Python Method 1 -- Use the Hash (\\#) Symbol</b>"
   ]
  },
  {
   "cell_type": "markdown",
   "id": "7b265960",
   "metadata": {},
   "source": [
    "- The first way to write a multiline comment is simply by pressing the return key after each line, adding a new hash mark and continuing your comment from there:"
   ]
  },
  {
   "cell_type": "code",
   "execution_count": 9,
   "id": "66d09349",
   "metadata": {},
   "outputs": [],
   "source": [
    "# This is an example of how you\n",
    "# can spread out comments over\n",
    "# multiple lines in Python just by\n",
    "# adding a hash mark at the beginning of\n",
    "# each new line of your comment."
   ]
  },
  {
   "cell_type": "markdown",
   "id": "ab3690fd",
   "metadata": {},
   "source": [
    "- Each line that starts with a hash mark will be ignored by the program."
   ]
  },
  {
   "cell_type": "markdown",
   "id": "a57dc005",
   "metadata": {},
   "source": [
    "<a class=\"anchor\" id=\"6\"></a>\n",
    "### <b>Multiline Comments in Python Method 2 -- Use Triple Quotations</b>"
   ]
  },
  {
   "cell_type": "markdown",
   "id": "c004f853",
   "metadata": {},
   "source": [
    "- Another way that you can write multiline comments is by wrapping your comment inside a set of triple quotes."
   ]
  },
  {
   "cell_type": "code",
   "execution_count": 13,
   "id": "49e3151c",
   "metadata": {},
   "outputs": [
    {
     "data": {
      "text/plain": [
       "'\\nIf you really dislike writing a multiline \\ncomment by starting each line with a hash \\nmark you can just put your multiline comment\\ninside triple quotes instead.\\n'"
      ]
     },
     "execution_count": 13,
     "metadata": {},
     "output_type": "execute_result"
    }
   ],
   "source": [
    "\"\"\"\n",
    "If you really dislike writing a multiline \n",
    "comment by starting each line with a hash \n",
    "mark you can just put your multiline comment\n",
    "inside triple quotes instead.\n",
    "\"\"\""
   ]
  },
  {
   "cell_type": "code",
   "execution_count": 14,
   "id": "cc62ba7e",
   "metadata": {},
   "outputs": [
    {
     "data": {
      "text/plain": [
       "'\\nWhen triple quotations are used, the comments will be enclosed by one set of quotations.\\nThere is no need to start new quotations on each line. Just make sure all of your comments are wrapped\\nwith quotations.\\n'"
      ]
     },
     "execution_count": 14,
     "metadata": {},
     "output_type": "execute_result"
    }
   ],
   "source": [
    "'''\n",
    "When triple quotations are used, the comments will be enclosed by one set of quotations.\n",
    "There is no need to start new quotations on each line. Just make sure all of your comments are wrapped\n",
    "with quotations.\n",
    "'''"
   ]
  },
  {
   "cell_type": "markdown",
   "id": "c01aad98",
   "metadata": {},
   "source": [
    "- Everything enclosed in the triple quotes will function as a comment."
   ]
  },
  {
   "cell_type": "markdown",
   "id": "2d96ab20",
   "metadata": {},
   "source": [
    "- While using quotations gives you the multiline functionality, this isn’t technically a comment. \n",
    "\n",
    "- It’s technically a [string](https://realpython.com/python-strings/) that’s not assigned to any variable, so it’s not called or referenced by your program. \n",
    "\n",
    "- Still, since it’ll be ignored at runtime and won’t appear in the bytecode, it can effectively act as a comment. \n",
    "\n",
    "- Be careful where you place these triple quotation multiline “comments.” \n",
    "\n",
    "- Depending on where they sit in your program, they could turn into [docstrings](https://www.geeksforgeeks.org/python-docstrings/), which are pieces of documentation that are associated with a function or method. \n",
    "\n",
    "- If you slip one of these triple quotation multiline “comments” in right after a function definition, then what you intended to be a comment will become associated with that function object.\n",
    "\n",
    "- So, be careful where you use these triple quotation multiline “comments”, and when in doubt,  just put a hash mark on each subsequent line.\n"
   ]
  },
  {
   "cell_type": "markdown",
   "id": "f53882dc",
   "metadata": {},
   "source": [
    "<a class=\"anchor\" id=\"7\"></a>\n",
    "### <b>Commenting Out Code Shortcut</b>"
   ]
  },
  {
   "cell_type": "markdown",
   "id": "3b4fb86a",
   "metadata": {},
   "source": [
    "- What if you’ve got a long stretch of text that needs to be commented out? \n",
    "- For example, if you don’t want a defined function to run in order to check for a bug. \n",
    "- Clicking each and every line to comment it out could take a lot of time! \n",
    "- In these cases, you’ll want to toggle comments instead. \n",
    "- Simply select the desired code and press Ctrl+/ on PC, or Cmd+/ on Mac (see the following example):\n",
    "\n",
    "    [Commenting Out Code Shortcut](https://files.realpython.com/media/gif_toggle.6424d45ed925.gif)\n",
    "\n",
    "\n",
    "- All the highlighted text will be prepended with a hash mark and ignored by the program.\n",
    "- You can use the same approach to undo the “commenting out code”."
   ]
  },
  {
   "cell_type": "markdown",
   "id": "f13a78fd",
   "metadata": {},
   "source": [
    "<a class=\"anchor\" id=\"8\"></a>\n",
    "### <b>Python Commenting Best Practices -- When Writing Code For Yourself</b>"
   ]
  },
  {
   "cell_type": "markdown",
   "id": "29b146e5",
   "metadata": {},
   "source": [
    "- You can make life easier for yourself by commenting your own code properly. \n",
    "- Even if no one else will ever see it, you’ll see it, and that’s enough reason to make it right. \n",
    "- You’re a (an) analyst / data scientist / programmer / developer after all, so your code should be easy for you to understand as well.\n",
    "- One extremely useful way to use comments for yourself is as an outline for your code. \n",
    "- If you’re not sure how your program is going to turn out, then you can use comments as a way to keep track of what’s left to do, or even as a way of tracking the high-level flow of your program. \n",
    "- See the example below."
   ]
  },
  {
   "cell_type": "markdown",
   "id": "db983dfe",
   "metadata": {},
   "source": [
    "Example: Using comments to outline a function in pseudocode:"
   ]
  },
  {
   "cell_type": "code",
   "execution_count": 20,
   "id": "ee114f0c",
   "metadata": {},
   "outputs": [],
   "source": [
    "from collections import defaultdict\n",
    "\n",
    "def get_top_cities(prices):\n",
    "    top_cities = defaultdict(int)\n",
    "    \n",
    "    # For each price range\n",
    "        # Get city searches in that price\n",
    "        # Count number of times city was searched\n",
    "        # Take top 3 cities and add to dict\n",
    "        \n",
    "    return dic(top_cities)"
   ]
  },
  {
   "cell_type": "markdown",
   "id": "5003e4d9",
   "metadata": {},
   "source": [
    "- These comments plan out get_top_cities(). \n",
    "- Once you know exactly what you want your function to do, you can work on translating that to code.\n",
    "- Using comments like this can help keep everything straight in your head. \n",
    "- As you walk through your program, you’ll know what’s left to do in order to have a fully functional script. \n",
    "- After “translating” the comments to code, remember to remove any comments that have become redundant so that your code stays crisp and clean."
   ]
  },
  {
   "cell_type": "markdown",
   "id": "45069860",
   "metadata": {},
   "source": [
    "<b>When Debugging</b>\n",
    "\n",
    "- You can also use comments as part of the [debugging](https://realpython.com/python-debugging-pdb/) process. \n",
    "- Comment out the old code and see how that affects your output. \n",
    "- If you agree with the change, then don’t leave the code commented out in your program, as it decreases readability. \n",
    "-Delete it and use version control if you need to bring it back.\n",
    "\n",
    "<b>When Defining Tricky Parts of Your Code</b>\n",
    "\n",
    "- Finally, use comments to define tricky parts of your own code. \n",
    "- If you put a project down and come back to it months or years later, you’ll spend a lot of time trying to get reacquainted with what you wrote. \n",
    "- In case you forget what your own code does, do \"Future You\" a favor and mark it down so that it will be easier to get back up to speed later on."
   ]
  },
  {
   "cell_type": "markdown",
   "id": "e4a17031",
   "metadata": {},
   "source": [
    "<a class=\"anchor\" id=\"9\"></a>\n",
    "### <b>Python Commenting Best Practices -- When Writing Code For Others</b>"
   ]
  },
  {
   "cell_type": "markdown",
   "id": "6acf19c0",
   "metadata": {},
   "source": [
    "- People like to skim and jump back and forth through text, and reading code is no different. \n",
    "- The only time you’ll probably read through code line by line is when it isn’t working and you have to figure out what’s going on.\n",
    "- In most other cases, you’ll take a quick glance at variables and function definitions in order to get the gist. \n",
    "- Having comments to explain what’s happening in plain English can really assist a programmer / developer in this position.\n",
    "- Be kind to your fellow programmers / developers and use comments to help them skim through your code. \n",
    "- Inline comments should be used sparingly to clear up bits of code that aren’t obvious on their own. (Of course, your first priority should be to make your code stand on its own, but inline comments can be useful in this regard.)\n"
   ]
  },
  {
   "cell_type": "markdown",
   "id": "b81d29e3",
   "metadata": {},
   "source": [
    "- If you have a complicated method or function whose name isn’t easily understandable, you may want to include a short comment after the def line to shed some light:"
   ]
  },
  {
   "cell_type": "code",
   "execution_count": null,
   "id": "a723debb",
   "metadata": {},
   "outputs": [],
   "source": [
    "def complicated_function(s):\n",
    "    # This function does something complicsted"
   ]
  },
  {
   "cell_type": "markdown",
   "id": "3780acc7",
   "metadata": {},
   "source": [
    "- This can help other programmers / developers who are skimming your code get a feel for what the \n",
    "function does.\n"
   ]
  },
  {
   "cell_type": "markdown",
   "id": "c4a045d4",
   "metadata": {},
   "source": [
    "- For any public functions, you’ll want to include an associated docstring, whether it’s complicated or not:"
   ]
  },
  {
   "cell_type": "code",
   "execution_count": 22,
   "id": "d8289836",
   "metadata": {},
   "outputs": [],
   "source": [
    "import numpy as np\n",
    "\n",
    "def sparsity_ratio(x: np.array) -> float:\n",
    "    \"\"\"\"Return a float\n",
    "    \n",
    "    Percentage of values in array that are zero or NaN\n",
    "    \"\"\""
   ]
  },
  {
   "cell_type": "markdown",
   "id": "5a70b99c",
   "metadata": {},
   "source": [
    "- These docstrings appear right at the top of a file and include a high-level overview of the entire script and what it’s supposed to do."
   ]
  },
  {
   "cell_type": "markdown",
   "id": "7bf145a6",
   "metadata": {},
   "source": [
    "<a class=\"anchor\" id=\"10\"></a>\n",
    "### <b>Python Commenting Worst Practices</b>"
   ]
  },
  {
   "cell_type": "markdown",
   "id": "a3bfcb3f",
   "metadata": {},
   "source": [
    "<b>Avoid: W.E.T. Comments</b>\n",
    "\n",
    "- Your comments should be D.R.Y. The acronym stands for the programming maxim “Don’t Repeat Yourself.” \n",
    "- This means that your code should have little to no redundancy. You don’t need to comment a piece of code that sufficiently explains itself, like this one:\n"
   ]
  },
  {
   "cell_type": "code",
   "execution_count": null,
   "id": "dd457fab",
   "metadata": {},
   "outputs": [],
   "source": [
    "return a   # Returns a"
   ]
  },
  {
   "cell_type": "markdown",
   "id": "85ea1c35",
   "metadata": {},
   "source": [
    "- We can clearly see that a is returned, so there’s no need to explicitly state this in a comment. \n",
    "- This makes comments W.E.T., meaning you “wrote everything twice.” (Or, for the more cynical out there, “wasted everyone’s time.”)\n",
    "- W.E.T. comments can be a simple mistake, especially if you used comments to plan out your code before writing it. \n",
    "- But once you’ve got the code running well, be sure to go back and remove comments that have become unnecessary.\n"
   ]
  },
  {
   "cell_type": "markdown",
   "id": "7509a8d5",
   "metadata": {},
   "source": [
    "<b>Avoid: Smelly Comments</b>\n",
    "\n",
    "- Comments can be a sign of “code smell,” which is anything that indicates there might be a deeper problem with your code. \n",
    "- Code smells try to mask the underlying issues of a program, and comments are one way to try and hide those problems. \n",
    "- Comments should support your code, not try to explain it away. \n",
    "- If your code is poorly written, no amount of commenting is going to fix it.\n",
    "\n",
    "***\n",
    "\n",
    "- Also, by using obvious naming conventions, you will be able to remove all unnecessary comments and reduce the length of the code as well!\n",
    "- Your comments should rarely be longer than the code they support. \n",
    "- If you’re spending too much time explaining what you did, then you need to go back and [refactor](https://www.google.com/search?q=refactor+code&rlz=1C1JZAP_enUS927US927&oq=refactor+&aqs=chrome.1.69i57j0i512l9.6644j0j7&sourceid=chrome&ie=UTF-8) to make your code more clear and concise."
   ]
  },
  {
   "cell_type": "markdown",
   "id": "711deb5c",
   "metadata": {},
   "source": [
    "<b>Avoid: Rude Comments</b>\n",
    "\n",
    "- This is something that’s likely to come up when working on a development team. \n",
    "- When several people are all working on the same code, others are going to be going in and reviewing what you’ve written and making changes. \n",
    "- From time to time, you might come across someone who dared to write a comment like this one:"
   ]
  },
  {
   "cell_type": "code",
   "execution_count": null,
   "id": "debdefbd",
   "metadata": {},
   "outputs": [],
   "source": [
    "# Put this here to fix Ryan's stupid-a** mistake"
   ]
  },
  {
   "cell_type": "markdown",
   "id": "21d207a9",
   "metadata": {},
   "source": [
    "- Honestly, it’s just a good idea to not do this. \n",
    "- It’s not okay if it’s your friend’s code, and you’re sure they won’t be offended by it. \n",
    "- You never know what might get shipped to production, and how is it going to look if you’d accidentally left that comment in there, and a client discovered it down the road? \n",
    "- You’re a professional, and including vulgar words in your comments is not the way to show that.\n"
   ]
  },
  {
   "cell_type": "code",
   "execution_count": null,
   "id": "07483cad",
   "metadata": {},
   "outputs": [],
   "source": []
  }
 ],
 "metadata": {
  "kernelspec": {
   "display_name": "Python 3",
   "language": "python",
   "name": "python3"
  },
  "language_info": {
   "codemirror_mode": {
    "name": "ipython",
    "version": 3
   },
   "file_extension": ".py",
   "mimetype": "text/x-python",
   "name": "python",
   "nbconvert_exporter": "python",
   "pygments_lexer": "ipython3",
   "version": "3.8.8"
  }
 },
 "nbformat": 4,
 "nbformat_minor": 5
}
