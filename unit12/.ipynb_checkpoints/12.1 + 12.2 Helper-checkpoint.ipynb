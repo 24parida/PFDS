{
 "cells": [
  {
   "cell_type": "code",
   "execution_count": 1,
   "id": "7203e004",
   "metadata": {},
   "outputs": [
    {
     "name": "stdout",
     "output_type": "stream",
     "text": [
      "True\n"
     ]
    }
   ],
   "source": [
    "print(False != False or 2 ** 2 ** 3 // 25 > 20 * 3 % 7)"
   ]
  },
  {
   "cell_type": "code",
   "execution_count": 2,
   "id": "3f52c2d0",
   "metadata": {},
   "outputs": [
    {
     "data": {
      "text/plain": [
       "False"
      ]
     },
     "execution_count": 2,
     "metadata": {},
     "output_type": "execute_result"
    }
   ],
   "source": [
    "321 == \"321\""
   ]
  },
  {
   "cell_type": "code",
   "execution_count": 4,
   "id": "acd7c4aa",
   "metadata": {},
   "outputs": [
    {
     "name": "stdout",
     "output_type": "stream",
     "text": [
      "False\n"
     ]
    }
   ],
   "source": [
    "x = 21\n",
    "y = \"21\"\n",
    "z = 2 ** 3 + 13\n",
    "\n",
    "print((x == y) or (x is z and not (x >= z)))\n"
   ]
  },
  {
   "cell_type": "code",
   "execution_count": 6,
   "id": "d713c501",
   "metadata": {},
   "outputs": [
    {
     "name": "stdout",
     "output_type": "stream",
     "text": [
      "True\n"
     ]
    }
   ],
   "source": [
    "print((\"Apple\" >= \"apple\") or (\"cat\" != \"Cat\"))"
   ]
  },
  {
   "cell_type": "code",
   "execution_count": 7,
   "id": "913f609d",
   "metadata": {},
   "outputs": [
    {
     "name": "stdout",
     "output_type": "stream",
     "text": [
      "False\n"
     ]
    }
   ],
   "source": [
    "print((\"Apple\" >= \"apple\") and (\"cat\" != \"Cat\"))"
   ]
  },
  {
   "cell_type": "code",
   "execution_count": 8,
   "id": "5e051a72",
   "metadata": {},
   "outputs": [
    {
     "name": "stdout",
     "output_type": "stream",
     "text": [
      "False\n"
     ]
    }
   ],
   "source": [
    "x = 4\n",
    "y = 3 + 1\n",
    "\n",
    "print(not(x == y) or ((\"book\" not in \"bookstore\") and (x is y)))\n"
   ]
  },
  {
   "cell_type": "code",
   "execution_count": 9,
   "id": "96cc4147",
   "metadata": {},
   "outputs": [
    {
     "name": "stdout",
     "output_type": "stream",
     "text": [
      "True\n"
     ]
    }
   ],
   "source": [
    "x = \"brook\"\n",
    "y = \"field\"\n",
    "z =\"Brookfield\"\n",
    "\n",
    "print(((x + y) != z) or ((x+y).capitalize() == z))\n"
   ]
  },
  {
   "cell_type": "code",
   "execution_count": null,
   "id": "4da09d36",
   "metadata": {},
   "outputs": [],
   "source": []
  }
 ],
 "metadata": {
  "kernelspec": {
   "display_name": "Python 3 (ipykernel)",
   "language": "python",
   "name": "python3"
  },
  "language_info": {
   "codemirror_mode": {
    "name": "ipython",
    "version": 3
   },
   "file_extension": ".py",
   "mimetype": "text/x-python",
   "name": "python",
   "nbconvert_exporter": "python",
   "pygments_lexer": "ipython3",
   "version": "3.9.12"
  }
 },
 "nbformat": 4,
 "nbformat_minor": 5
}
