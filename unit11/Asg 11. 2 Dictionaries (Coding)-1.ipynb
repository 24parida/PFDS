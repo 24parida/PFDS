{
 "cells": [
  {
   "cell_type": "markdown",
   "id": "879bcdd3",
   "metadata": {},
   "source": [
    "# <center><b>ASG 11.2 DICTIONARIES (CODING) </b></center>"
   ]
  },
  {
   "cell_type": "markdown",
   "id": "0923f8b2",
   "metadata": {},
   "source": [
    "## <center>*Make sure to run the code in the following cell before you start the assignment!*!</i>"
   ]
  },
  {
   "cell_type": "code",
   "execution_count": 8,
   "id": "baae6235",
   "metadata": {},
   "outputs": [],
   "source": [
    "# set up notebook to display multiple output in one cell\n",
    "\n",
    "from IPython.core.interactiveshell import InteractiveShell\n",
    "InteractiveShell.ast_node_interactivity = \"all\""
   ]
  },
  {
   "cell_type": "markdown",
   "id": "4db398c9",
   "metadata": {},
   "source": [
    "<div class=\"alert alert-block alert-success\"><b>Question #1:</b>:\n",
    "\n",
    "Below you have been given two lists. Convert the two lists into a dictionary.<br>\n",
    "<p>&nbsp;</p>\n",
    "    \n",
    "keys = ['Aaron Rodgers', 'Giannis Antetokounmpo', 'Christian Yelich']<br>\n",
    "values = [\"football\", \"basketball\", \"baseball\"]<br>\n",
    "<p>&nbsp;</p>    \n",
    "<b>Expected Output: {'Aaron Rodgers': 'football', 'Giannis Antetokounmpo': 'basketball', 'Christian Yelich': 'baseball'}</b></br>\n",
    "<p>&nbsp;</p>\n",
    "Hint: Look up the zip() and dict() functions.\n",
    "\n",
    "</div>\n"
   ]
  },
  {
   "cell_type": "markdown",
   "id": "8083b061",
   "metadata": {},
   "source": [
    "## Answers for Question #1"
   ]
  },
  {
   "cell_type": "code",
   "execution_count": 1,
   "id": "da2f4b29",
   "metadata": {},
   "outputs": [
    {
     "name": "stdout",
     "output_type": "stream",
     "text": [
      "{'Aaron Rodgers': 'football', 'Giannis Antetokounmpo': 'basketball', 'Christian Yelich': 'baseball'}\n"
     ]
    }
   ],
   "source": [
    "keys = ['Aaron Rodgers', 'Giannis Antetokounmpo', 'Christian Yelich']\n",
    "values = [\"football\", \"basketball\", \"baseball\"]\n",
    "dict1 = dict(zip(keys, values))\n",
    "print(dict1)"
   ]
  },
  {
   "cell_type": "markdown",
   "id": "1be31bca",
   "metadata": {},
   "source": [
    "<div class=\"alert alert-block alert-success\"><b>Question #2:</b>:\n",
    "<p>&nbsp;</p>    \n",
    "Add the following items (i.e., key-value pairs) to the dictionary that you created in Question #1.\n",
    "<p>&nbsp;</p>\n",
    "keys = ['Matt LaFluer', 'Mike Budenhoelzer', 'Craig Counsel']<br>\n",
    "values = ['football', 'basketball', 'baseball']\n",
    "<p>&nbsp;</p> \n",
    "</div>"
   ]
  },
  {
   "cell_type": "markdown",
   "id": "7cc4437d",
   "metadata": {},
   "source": [
    "## Answers for Question #2\n"
   ]
  },
  {
   "cell_type": "code",
   "execution_count": 6,
   "id": "df53a47c",
   "metadata": {},
   "outputs": [
    {
     "name": "stdout",
     "output_type": "stream",
     "text": [
      "{'Aaron Rodgers': 'football', 'Giannis Antetokounmpo': 'basketball', 'Christian Yelich': 'baseball', 'Matt LaFluer': 'football', 'Mike Budenhoelzer': 'basketball', 'Craig Counsel': 'baseball'}\n"
     ]
    }
   ],
   "source": [
    "keys = ['Matt LaFluer', 'Mike Budenhoelzer', 'Craig Counsel']\n",
    "values = ['football', 'basketball', 'baseball']\n",
    "dict2 = dict(zip(keys, values))\n",
    "dict1.update(dict2)\n",
    "print(dict1)"
   ]
  },
  {
   "cell_type": "markdown",
   "id": "e22f9850",
   "metadata": {},
   "source": [
    "<div class=\"alert alert-block alert-success\"><b>Question #3:</b>:\n",
    "<p>&nbsp;</p>\n",
    "<b><u>Given:</u></b><br>\n",
    "cities_south = {'Atlanta': 'Georgia', 'Miami': 'Florida'}<br>\n",
    "cities_north = {'Chicago': 'Illinois', 'Minneapolis': 'Minnesota'}\n",
    "<p>&nbsp;</p>      \n",
    "Create a new dictionary named cities that is created by merging the dictionaries cities_south and cities_north. Do this in two different ways.\n",
    "<p>&nbsp;</p> \n",
    "Hint:<br>\n",
    "Method #1: Look up using ** to merge dictionaries in Python.<br>\n",
    "Method #2: Use the copy() and update() methods.  "
   ]
  },
  {
   "cell_type": "markdown",
   "id": "327f78df",
   "metadata": {},
   "source": [
    "## Answers for Question #3"
   ]
  },
  {
   "cell_type": "code",
   "execution_count": 8,
   "id": "2775f11a",
   "metadata": {},
   "outputs": [
    {
     "name": "stdout",
     "output_type": "stream",
     "text": [
      "{'Chicago': 'Illinois', 'Minneapolis': 'Minnesota', 'Atlanta': 'Georgia', 'Miami': 'Florida'}\n"
     ]
    }
   ],
   "source": [
    "cities_south = {'Atlanta': 'Georgia', 'Miami': 'Florida'}\n",
    "cities_north = {'Chicago': 'Illinois', 'Minneapolis': 'Minnesota'}\n",
    "cities = {}\n",
    "cities.update(cities_north)\n",
    "cities.update(cities_south)\n",
    "print(cities)"
   ]
  },
  {
   "cell_type": "markdown",
   "id": "8ef6f141",
   "metadata": {},
   "source": [
    "<div class=\"alert alert-block alert-success\"><b>Question #4:</b>:\n",
    "<p>&nbsp;</p> \n",
    "<b><u>Given:</u></b><br>\n",
    "<p>&nbsp;</p> \n",
    "grades_dict = {\n",
    "   \"class\":{ \n",
    "      \"student\":{\n",
    "         \"name\":\"Jennifer\",\n",
    "         \"marks\":{ \n",
    "            \"APUSH\":89,\n",
    "            \"Calculus\":92,\n",
    "             \"AP Chem\":95,\n",
    "             \"Spanish 4\": 96\n",
    "         }\n",
    "      }\n",
    "   }\n",
    "}    \n",
    "<p>&nbsp;</p> \n",
    "Access the value of the key ‘AP Chem’ from grades_dict.\n",
    "<p>&nbsp;</p> \n",
    "<b>Expected Output: 95</b>\n",
    "</div>"
   ]
  },
  {
   "cell_type": "markdown",
   "id": "0e3a5ca2",
   "metadata": {},
   "source": [
    "## Answers for Question #4"
   ]
  },
  {
   "cell_type": "code",
   "execution_count": 16,
   "id": "e9dd94d3",
   "metadata": {},
   "outputs": [
    {
     "name": "stdout",
     "output_type": "stream",
     "text": [
      "95\n"
     ]
    }
   ],
   "source": [
    "grades_dict = { \n",
    "    \"class\":{\n",
    "        \"student\":{\n",
    "            \"name\":\"Jennifer\",\n",
    "            \"marks\":{\n",
    "                \"APUSH\":89, \n",
    "                \"Calculus\":92,\n",
    "                \"AP Chem\":95, \n",
    "                \"Spanish 4\": 96 \n",
    "            } \n",
    "        } \n",
    "    } \n",
    "}\n",
    "print(grades_dict[\"class\"][\"student\"][\"marks\"][\"AP Chem\"])"
   ]
  },
  {
   "cell_type": "markdown",
   "id": "6e44f11a",
   "metadata": {},
   "source": [
    "<div class=\"alert alert-block alert-success\"><b>Question #5:</b>:\n",
    "<p>&nbsp;</p> \n",
    "1. Create and print out a dictionary that is initialized with the defualt values found below: (Note: Initialized means that all 3 of the given employees will start with the same default values.)<br>\n",
    "<p>&nbsp;</p> \n",
    "<b><u>Given:</u></b><br>    \n",
    "employees = ['Sam', 'Gina', 'Carol']<br>\n",
    "defaults = {\"position\": \"Machine Learning Engineer\", \"salary\": 95000, \"status\": \"new employee\"}\n",
    "<p>&nbsp;</p> \n",
    "Hint: Look up the Python Dictionary fromkeys() Method<br>\n",
    "<p>&nbsp;</p>     \n",
    "2. Once you have created the initialized dictionary in Step (1), print out the individual data for each of the 3 employees.\n",
    "</div>\n"
   ]
  },
  {
   "cell_type": "markdown",
   "id": "0f29e368",
   "metadata": {},
   "source": [
    "## Answers for Question #5"
   ]
  },
  {
   "cell_type": "code",
   "execution_count": 25,
   "id": "aee218c6",
   "metadata": {
    "scrolled": true
   },
   "outputs": [
    {
     "name": "stdout",
     "output_type": "stream",
     "text": [
      "Sam {'position': 'Machine Learning Engineer', 'salary': 95000, 'status': 'new employee'}\n",
      "Gina {'position': 'Machine Learning Engineer', 'salary': 95000, 'status': 'new employee'}\n",
      "Carol {'position': 'Machine Learning Engineer', 'salary': 95000, 'status': 'new employee'}\n"
     ]
    }
   ],
   "source": [
    "employees = ['Sam', 'Gina', 'Carol']\n",
    "defaults = {\"position\": \"Machine Learning Engineer\", \"salary\": 95000, \"status\": \"new employee\"}\n",
    "new_dict = dict.fromkeys(employees,defaults)\n",
    "for x in new_dict:\n",
    "    print(x,new_dict[x])"
   ]
  },
  {
   "cell_type": "markdown",
   "id": "f4ab9474",
   "metadata": {},
   "source": [
    "<div class=\"alert alert-block alert-success\"><b>Question #6:</b>:\n",
    "<p>&nbsp;</p> \n",
    "1. Check if the value 12 exists in the given dictionary.<br>\n",
    "<p>&nbsp;</p>     \n",
    "dict = {'x': 10, 'y': 5, 'z': 3}\n",
    "<p>&nbsp;</p> \n",
    "2. Check if the value 3 exists in the given dictionary.<br>\n",
    "<p>&nbsp;</p> \n",
    "dict = {'x': 10, 'y': 5, 'z': 3}\n",
    "<p>&nbsp;</p> \n",
    "<b>Expected Output:</b><br>\n",
    "False<br>\n",
    "True\n",
    "</div>"
   ]
  },
  {
   "cell_type": "markdown",
   "id": "72d4ae10",
   "metadata": {},
   "source": [
    "## Answers for Question #6"
   ]
  },
  {
   "cell_type": "code",
   "execution_count": 50,
   "id": "0f67b07c",
   "metadata": {},
   "outputs": [
    {
     "name": "stdout",
     "output_type": "stream",
     "text": [
      "False\n"
     ]
    },
    {
     "data": {
      "text/plain": [
       "True"
      ]
     },
     "execution_count": 50,
     "metadata": {},
     "output_type": "execute_result"
    }
   ],
   "source": [
    "dict1 = {'x': 10, 'y': 5, 'z': 3}\n",
    "dict2 = {'x': 10, 'y': 5, 'z': 3}\n",
    "def stuff():\n",
    "    for x in dict1:\n",
    "        if dict1[x] == 12:\n",
    "            print(\"True\")\n",
    "    print(\"False\")\n",
    "        \n",
    "def stuff2():\n",
    "    for x in dict2:\n",
    "        if dict2[x] == 3:\n",
    "            return True\n",
    "    print(\"False\")\n",
    "stuff()\n",
    "stuff2()"
   ]
  },
  {
   "cell_type": "markdown",
   "id": "007644e3",
   "metadata": {},
   "source": [
    "<div class=\"alert alert-block alert-success\"><b>Question #7:</b>:\n",
    "<p>&nbsp;</p> \n",
    "Rename key city to location in the following dictionary and print out the results.\n",
    "<p>&nbsp;</p> \n",
    "employee_dict = {\n",
    "  \"name\": \"Michelle\",\n",
    "  \"age\":32,\n",
    "  \"salary\": 110000,\n",
    "  \"city\": \"Chicago\"\n",
    "}\n",
    "<p>&nbsp;</p>  \n",
    " \n",
    "</div>"
   ]
  },
  {
   "cell_type": "markdown",
   "id": "29583a03",
   "metadata": {},
   "source": [
    "## Answers for Question #7"
   ]
  },
  {
   "cell_type": "code",
   "execution_count": 54,
   "id": "b527c4b5",
   "metadata": {},
   "outputs": [
    {
     "name": "stdout",
     "output_type": "stream",
     "text": [
      "{'name': 'Michelle', 'age': 32, 'salary': 110000, 'location': 'Chicago'}\n"
     ]
    }
   ],
   "source": [
    "employee_dict = { \"name\": \"Michelle\", \"age\":32, \"salary\": 110000, \"city\": \"Chicago\" }\n",
    "\n",
    "employee_dict[\"location\"] = employee_dict.pop(\"city\")\n",
    "print(employee_dict)"
   ]
  },
  {
   "cell_type": "markdown",
   "id": "c56036bd",
   "metadata": {},
   "source": [
    "<div class=\"alert alert-block alert-success\"><b>Question #8:</b>:\n",
    "\n",
    "Change Sandra’s salary to 100000 in the given Python dictionary.<br>\n",
    "<p>&nbsp;</p>  \n",
    "salary_dict = {\n",
    "     'emp1': {'name': 'Maddie', 'salary': 85000},\n",
    "     'emp2': {'name': 'Kelsey', 'salary': 90000},\n",
    "     'emp3': {'name': 'Sandra', 'salary': 80000}\n",
    "}\n",
    "</div>"
   ]
  },
  {
   "cell_type": "markdown",
   "id": "59caf178",
   "metadata": {},
   "source": [
    "## Answers for Question #8"
   ]
  },
  {
   "cell_type": "code",
   "execution_count": 59,
   "id": "514b76fc",
   "metadata": {},
   "outputs": [
    {
     "name": "stdout",
     "output_type": "stream",
     "text": [
      "{'emp1': {'name': 'Maddie', 'salary': 85000}, 'emp2': {'name': 'Kelsey', 'salary': 90000}, 'emp3': {'name': 'Sandra', 'salary': 100000}}\n"
     ]
    }
   ],
   "source": [
    "salary_dict = { \n",
    "    'emp1': {\n",
    "        'name': 'Maddie', \n",
    "        'salary': 85000}, \n",
    "    'emp2': {\n",
    "        'name': 'Kelsey',\n",
    "        'salary': 90000}, \n",
    "    'emp3': {\n",
    "        'name': 'Sandra', \n",
    "        'salary': 80000} \n",
    "}\n",
    "\n",
    "salary_dict[\"emp3\"][\"salary\"] = 100000\n",
    "print(salary_dict)"
   ]
  },
  {
   "cell_type": "markdown",
   "id": "8a01b311",
   "metadata": {},
   "source": [
    "<div class=\"alert alert-block alert-success\"><b>Question #9:</b>:<br>\n",
    "<p>&nbsp;</p>    \n",
    "<b><u>Given:</u></b><br> \n",
    "<p>&nbsp;</p>\n",
    "market_dict = {'market_name': 'Foods R Us', 'market_address': '123 Main Street', 'market_phone': '(212)555-6789'}<br>\n",
    "<p>&nbsp;</p> \n",
    "1. Add a key/value pair to the market_dict dictionary defined above. We want the key to be \"fruits\" and its corresponding value to be an \"inventory\" dictionary. This \"inventory\" dictionary should consist of fruit names as keys (i.e. apples, oranges and pears). The value of each key should be the number of such fruits being sold at the market. Assume that there are 123 apples, 98 oranges and 53 pears on sale. After adding this key/value pair to market_dict, print out market_dict and market_dict[\"fruits\"] to verify your work.\n",
    "<p>&nbsp;</p>\n",
    "2. Write code to change the number of apples to 198. Print out market_dict and market_dict[\"fruits\"] to verify your work.\n",
    "<p>&nbsp;</p>\n",
    "3. Write code to delete pears from the fruit inventory. Print out market_dict to verify your work.\n",
    "</div>"
   ]
  },
  {
   "cell_type": "markdown",
   "id": "4283f65c",
   "metadata": {},
   "source": [
    "## Answers for Question #9"
   ]
  },
  {
   "cell_type": "code",
   "execution_count": 7,
   "id": "542aa6cd",
   "metadata": {},
   "outputs": [
    {
     "name": "stdout",
     "output_type": "stream",
     "text": [
      "{'market_name': 'Foods R Us', 'market_address': '123 Main Street', 'market_phone': '(212)555-6789', 'fruits': {'apples': 123, 'oranges': 98, 'pears': 53}}\n",
      "\n",
      "\n",
      "{'market_name': 'Foods R Us', 'market_address': '123 Main Street', 'market_phone': '(212)555-6789', 'fruits': {'apples': 123, 'oranges': 98}}\n"
     ]
    }
   ],
   "source": [
    "market_dict = {'market_name': 'Foods R Us', 'market_address': '123 Main Street', 'market_phone': '(212)555-6789'}\n",
    "inventory = {\"apples\":123, \"oranges\":98, \"pears\":53}\n",
    "market_dict[\"fruits\"] = inventory\n",
    "print(market_dict)\n",
    "del market_dict[\"fruits\"][\"pears\"]\n",
    "print(\"\\n\")\n",
    "print(market_dict)"
   ]
  },
  {
   "cell_type": "markdown",
   "id": "60d4bb73",
   "metadata": {},
   "source": [
    "<div class=\"alert alert-block alert-success\"><b>Question #10:</b>:\n",
    "<p>&nbsp;</p>    \n",
    "Take a few minutes to review/explore the following link: \n",
    "<p>&nbsp;</p> \n",
    "\n",
    "[Python Dictionary Methods](https://drive.google.com/file/d/1AUNg94hA09NlqsDYInAJpTW7QcA346Pg/view?usp=sharing)\n",
    "\n",
    "</div>"
   ]
  },
  {
   "cell_type": "markdown",
   "id": "545531c3",
   "metadata": {},
   "source": [
    "## Answer for Question #10"
   ]
  },
  {
   "cell_type": "code",
   "execution_count": null,
   "id": "c3398d7b",
   "metadata": {},
   "outputs": [],
   "source": [
    "# No answer needed. You are done with this assignment!!!"
   ]
  },
  {
   "cell_type": "markdown",
   "id": "5af5a58f",
   "metadata": {},
   "source": [
    "<div class=\"alert alert-block alert-danger\"><b>Note:</b> \n",
    "<p>&nbsp;</p> \n",
    "- Once you are satisfied with the results, submit your .ipynb notebook and html file (or PDF version) to Canvas. \n",
    "<p>&nbsp;</p> \n",
    "-Your files should include all output, i.e. run each cell and save your file before submitting.\n",
    "<p>&nbsp;</p> \n",
    "</div>"
   ]
  },
  {
   "cell_type": "code",
   "execution_count": null,
   "id": "ecb168ca",
   "metadata": {},
   "outputs": [],
   "source": []
  }
 ],
 "metadata": {
  "kernelspec": {
   "display_name": "Python 3 (ipykernel)",
   "language": "python",
   "name": "python3"
  },
  "language_info": {
   "codemirror_mode": {
    "name": "ipython",
    "version": 3
   },
   "file_extension": ".py",
   "mimetype": "text/x-python",
   "name": "python",
   "nbconvert_exporter": "python",
   "pygments_lexer": "ipython3",
   "version": "3.9.12"
  }
 },
 "nbformat": 4,
 "nbformat_minor": 5
}
