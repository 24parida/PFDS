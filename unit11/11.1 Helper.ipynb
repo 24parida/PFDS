{
 "cells": [
  {
   "cell_type": "code",
   "execution_count": 1,
   "id": "b626ddb3",
   "metadata": {},
   "outputs": [
    {
     "name": "stdout",
     "output_type": "stream",
     "text": [
      "6\n"
     ]
    }
   ],
   "source": [
    "mydict = {\"cat\":12, \"dog\":6, \"elephant\":23} \n",
    "print(mydict[\"dog\"])"
   ]
  },
  {
   "cell_type": "code",
   "execution_count": 3,
   "id": "4ddc3413",
   "metadata": {},
   "outputs": [
    {
     "name": "stdout",
     "output_type": "stream",
     "text": [
      "18\n",
      "{'cat': 12, 'dog': 6, 'elephant': 23, 'mouse': 18}\n"
     ]
    }
   ],
   "source": [
    "mydict = {\"cat\":12, \"dog\":6, \"elephant\":23} \n",
    "mydict[\"mouse\"] = mydict[\"cat\"] + mydict[\"dog\"] \n",
    "print(mydict[\"mouse\"]) \n",
    "print(mydict)"
   ]
  },
  {
   "cell_type": "code",
   "execution_count": 5,
   "id": "f4aca805",
   "metadata": {},
   "outputs": [
    {
     "name": "stdout",
     "output_type": "stream",
     "text": [
      "elephant\n"
     ]
    }
   ],
   "source": [
    "mydict = {\"cat\":12, \"dog\":6, \"elephant\":23, \"bear\":20} \n",
    "keylist = list(mydict.keys()) \n",
    "keylist.sort() \n",
    "print(keylist[3]) "
   ]
  },
  {
   "cell_type": "code",
   "execution_count": 7,
   "id": "13b8db9f",
   "metadata": {},
   "outputs": [
    {
     "name": "stdout",
     "output_type": "stream",
     "text": [
      "2\n"
     ]
    }
   ],
   "source": [
    "mydict = {\"cat\":12, \"dog\":6, \"elephant\":23, \"bear\":20} \n",
    "answer = mydict.get(\"cat\") // mydict.get(\"dog\") \n",
    "print(answer) "
   ]
  },
  {
   "cell_type": "code",
   "execution_count": 9,
   "id": "e9e82d3f",
   "metadata": {},
   "outputs": [
    {
     "name": "stdout",
     "output_type": "stream",
     "text": [
      "True\n"
     ]
    }
   ],
   "source": [
    "mydict = {\"cat\":12, \"dog\":6, \"elephant\":23, \"bear\":20} \n",
    "print(\"dog\" in mydict) "
   ]
  },
  {
   "cell_type": "code",
   "execution_count": 10,
   "id": "bbaa3784",
   "metadata": {},
   "outputs": [
    {
     "name": "stdout",
     "output_type": "stream",
     "text": [
      "False\n"
     ]
    }
   ],
   "source": [
    "mydict = {\"cat\":12, \"dog\":6, \"elephant\":23, \"bear\":20}\n",
    "print(23 in mydict) "
   ]
  },
  {
   "cell_type": "code",
   "execution_count": 13,
   "id": "dbb06bbe",
   "metadata": {},
   "outputs": [
    {
     "name": "stdout",
     "output_type": "stream",
     "text": [
      "999\n"
     ]
    }
   ],
   "source": [
    "mydict = {\"cat\":12, \"dog\":6, \"elephant\":23, \"bear\":20} \n",
    "yourdict = mydict \n",
    "yourdict[\"elephant\"] = 999 \n",
    "print(mydict[\"elephant\"]) \n"
   ]
  },
  {
   "cell_type": "code",
   "execution_count": 19,
   "id": "0501b079",
   "metadata": {},
   "outputs": [
    {
     "name": "stdout",
     "output_type": "stream",
     "text": [
      "75\n"
     ]
    }
   ],
   "source": [
    "student = {\n",
    "    \"name\": \"Emma\",\n",
    "    \"class\" : 9,\n",
    "    \"marks\":75\n",
    "}\n",
    "print(student['marks'])"
   ]
  },
  {
   "cell_type": "code",
   "execution_count": 31,
   "id": "afa63ab1",
   "metadata": {},
   "outputs": [
    {
     "name": "stdout",
     "output_type": "stream",
     "text": [
      "True\n"
     ]
    }
   ],
   "source": [
    "dict1 = {\"key1\":1, \"key2\":2}\n",
    "dict2 ={\"key2\":2, \"key1\":1}\n",
    "print(dict1 == dict2)"
   ]
  },
  {
   "cell_type": "code",
   "execution_count": 21,
   "id": "9a7c8c1d",
   "metadata": {},
   "outputs": [
    {
     "name": "stdout",
     "output_type": "stream",
     "text": [
      "{'first': 1, 'second': 2, 'third': 3}\n"
     ]
    }
   ],
   "source": [
    "sampleDict = dict([\n",
    "('first',1),\n",
    "('second', 2),\n",
    "('third', 3)\n",
    "])\n",
    "print(sampleDict)"
   ]
  },
  {
   "cell_type": "code",
   "execution_count": 32,
   "id": "8aa47689",
   "metadata": {},
   "outputs": [
    {
     "name": "stdout",
     "output_type": "stream",
     "text": [
      "{}\n"
     ]
    }
   ],
   "source": [
    "sampleDict = dict()\n",
    "print(sampleDict)"
   ]
  },
  {
   "cell_type": "code",
   "execution_count": 42,
   "id": "a7ca4f9d",
   "metadata": {},
   "outputs": [
    {
     "name": "stdout",
     "output_type": "stream",
     "text": [
      "2\n"
     ]
    }
   ],
   "source": [
    "dict1 = {\n",
    "    \"name\": \"Mike\", \"salary\":8000\n",
    "}\n",
    "\n",
    "dict1[\"name\"] = \"Joe\"\n",
    "print(len(dict1))"
   ]
  },
  {
   "cell_type": "code",
   "execution_count": 38,
   "id": "4be9710b",
   "metadata": {},
   "outputs": [
    {
     "name": "stdout",
     "output_type": "stream",
     "text": [
      "100\n"
     ]
    }
   ],
   "source": [
    "sampleDict = {\n",
    "    \"class\":{\n",
    "        \"student\": {\n",
    "            \"name\":\"Mike\",\n",
    "            \"marks\": {\n",
    "                \"physics\": 85,\n",
    "                \"history\": 100\n",
    "            }\n",
    "        }\n",
    "    }\n",
    "}\n",
    "print(sampleDict['class']['student']['marks']['history'] )"
   ]
  },
  {
   "cell_type": "code",
   "execution_count": null,
   "id": "3143f526",
   "metadata": {},
   "outputs": [],
   "source": []
  }
 ],
 "metadata": {
  "kernelspec": {
   "display_name": "Python 3 (ipykernel)",
   "language": "python",
   "name": "python3"
  },
  "language_info": {
   "codemirror_mode": {
    "name": "ipython",
    "version": 3
   },
   "file_extension": ".py",
   "mimetype": "text/x-python",
   "name": "python",
   "nbconvert_exporter": "python",
   "pygments_lexer": "ipython3",
   "version": "3.9.12"
  }
 },
 "nbformat": 4,
 "nbformat_minor": 5
}
