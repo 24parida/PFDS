{
 "cells": [
  {
   "cell_type": "code",
   "execution_count": 4,
   "id": "059e2d23",
   "metadata": {},
   "outputs": [
    {
     "name": "stdout",
     "output_type": "stream",
     "text": [
      "pythonrocks\n"
     ]
    }
   ],
   "source": [
    "s = \"python\"\n",
    "t = \"rocks\"\n",
    "print(s+t)"
   ]
  },
  {
   "cell_type": "code",
   "execution_count": 21,
   "id": "558f3fc7",
   "metadata": {},
   "outputs": [
    {
     "name": "stdout",
     "output_type": "stream",
     "text": [
      "python!!!\n"
     ]
    }
   ],
   "source": [
    "n = \"python\"\n",
    "excl = \"!\"\n",
    "print(n+excl*3)"
   ]
  },
  {
   "cell_type": "code",
   "execution_count": 5,
   "id": "066bab35",
   "metadata": {},
   "outputs": [
    {
     "name": "stdout",
     "output_type": "stream",
     "text": [
      "h\n"
     ]
    }
   ],
   "source": [
    "s = \"python rocks\" \n",
    "print(s[3]) "
   ]
  },
  {
   "cell_type": "code",
   "execution_count": 7,
   "id": "5c968502",
   "metadata": {},
   "outputs": [
    {
     "name": "stdout",
     "output_type": "stream",
     "text": [
      "tr\n",
      "r\n"
     ]
    }
   ],
   "source": [
    "s = \"python rocks\" \n",
    "print(s[2] + s[-5])"
   ]
  },
  {
   "cell_type": "code",
   "execution_count": 8,
   "id": "6397a1a1",
   "metadata": {},
   "outputs": [
    {
     "name": "stdout",
     "output_type": "stream",
     "text": [
      "3\n"
     ]
    }
   ],
   "source": [
    "s=\"python rocks\"\n",
    "print(s.count(\"o\") + s.count(\"p\")) "
   ]
  },
  {
   "cell_type": "code",
   "execution_count": 9,
   "id": "9c6bf1ac",
   "metadata": {},
   "outputs": [
    {
     "name": "stdout",
     "output_type": "stream",
     "text": [
      "yyyyy\n"
     ]
    }
   ],
   "source": [
    "s = \"python rocks\" \n",
    "print(s[1] * s.index(\"n\"))"
   ]
  },
  {
   "cell_type": "code",
   "execution_count": 10,
   "id": "c2efce66",
   "metadata": {},
   "outputs": [
    {
     "name": "stdout",
     "output_type": "stream",
     "text": [
      "sum of 2 and 6 is 8; product: 12.\n"
     ]
    }
   ],
   "source": [
    "x = 2 \n",
    "y = 6 \n",
    "print('sum of {} and {} is {}; product: {}.'.format( x, y, x+y, x*y)) "
   ]
  },
  {
   "cell_type": "code",
   "execution_count": 11,
   "id": "5f2f1adc",
   "metadata": {},
   "outputs": [
    {
     "name": "stdout",
     "output_type": "stream",
     "text": [
      "2.3 2.35 2.3456700\n"
     ]
    }
   ],
   "source": [
    "v = 2.34567 \n",
    "print('{:.1f} {:.2f} {:.7f}'.format(v, v, v)) "
   ]
  },
  {
   "cell_type": "code",
   "execution_count": 12,
   "id": "4d7531f9",
   "metadata": {},
   "outputs": [
    {
     "name": "stdout",
     "output_type": "stream",
     "text": [
      "12\n"
     ]
    }
   ],
   "source": [
    "print(len(\"python rocks\"))"
   ]
  },
  {
   "cell_type": "code",
   "execution_count": 13,
   "id": "7ea306e3",
   "metadata": {},
   "outputs": [
    {
     "name": "stdout",
     "output_type": "stream",
     "text": [
      "r\n"
     ]
    }
   ],
   "source": [
    "s= \"python rocks\" \n",
    "print(s[len(s)-5]) \n"
   ]
  },
  {
   "cell_type": "code",
   "execution_count": 14,
   "id": "9e40e66c",
   "metadata": {},
   "outputs": [
    {
     "name": "stdout",
     "output_type": "stream",
     "text": [
      "c\n"
     ]
    }
   ],
   "source": [
    "s = \"python rocks\" \n",
    "print(s[-3]) "
   ]
  },
  {
   "cell_type": "code",
   "execution_count": 15,
   "id": "06396a6f",
   "metadata": {},
   "outputs": [
    {
     "name": "stdout",
     "output_type": "stream",
     "text": [
      "hon r\n"
     ]
    }
   ],
   "source": [
    "s = \"python rocks\" \n",
    "print(s[3:8]) "
   ]
  },
  {
   "cell_type": "code",
   "execution_count": 16,
   "id": "ea3b9dd6",
   "metadata": {},
   "outputs": [
    {
     "name": "stdout",
     "output_type": "stream",
     "text": [
      "rockrockrock\n"
     ]
    }
   ],
   "source": [
    "s = \"python rocks\" \n",
    "print(s[7:11] * 3) "
   ]
  },
  {
   "cell_type": "code",
   "execution_count": 17,
   "id": "8b57890f",
   "metadata": {},
   "outputs": [
    {
     "data": {
      "text/plain": [
       "True"
      ]
     },
     "execution_count": 17,
     "metadata": {},
     "output_type": "execute_result"
    }
   ],
   "source": [
    "\"Dog\" < \"Doghouse\""
   ]
  },
  {
   "cell_type": "code",
   "execution_count": 18,
   "id": "67c356b6",
   "metadata": {},
   "outputs": [
    {
     "data": {
      "text/plain": [
       "False"
      ]
     },
     "execution_count": 18,
     "metadata": {},
     "output_type": "execute_result"
    }
   ],
   "source": [
    "\"dog\" < \"Dog\""
   ]
  },
  {
   "cell_type": "code",
   "execution_count": 19,
   "id": "69994489",
   "metadata": {},
   "outputs": [
    {
     "data": {
      "text/plain": [
       "False"
      ]
     },
     "execution_count": 19,
     "metadata": {},
     "output_type": "execute_result"
    }
   ],
   "source": [
    "\"dog\" < \"Doghouse\" "
   ]
  },
  {
   "cell_type": "code",
   "execution_count": 25,
   "id": "524c87f3",
   "metadata": {},
   "outputs": [
    {
     "data": {
      "text/plain": [
       "'A pandas groupby'"
      ]
     },
     "execution_count": 25,
     "metadata": {},
     "output_type": "execute_result"
    }
   ],
   "source": [
    "\"A pandas groupby operation involves some combination of splitting the object, applying a function, and combining the results.\"[:16]"
   ]
  },
  {
   "cell_type": "code",
   "execution_count": null,
   "id": "591d8ffc",
   "metadata": {},
   "outputs": [],
   "source": []
  }
 ],
 "metadata": {
  "kernelspec": {
   "display_name": "Python 3 (ipykernel)",
   "language": "python",
   "name": "python3"
  },
  "language_info": {
   "codemirror_mode": {
    "name": "ipython",
    "version": 3
   },
   "file_extension": ".py",
   "mimetype": "text/x-python",
   "name": "python",
   "nbconvert_exporter": "python",
   "pygments_lexer": "ipython3",
   "version": "3.9.12"
  }
 },
 "nbformat": 4,
 "nbformat_minor": 5
}
