{
 "cells": [
  {
   "cell_type": "markdown",
   "id": "416d89cd",
   "metadata": {},
   "source": [
    "# <center><b>08 STRINGS</b></center>\n",
    "# <center><b>ASG 8.2</b></center>"
   ]
  },
  {
   "cell_type": "markdown",
   "id": "6357446b",
   "metadata": {},
   "source": [
    "## <center>*Make sure to run the code in the following cell before you start the assignment!*!</i>"
   ]
  },
  {
   "cell_type": "code",
   "execution_count": 9,
   "id": "97b3efb8",
   "metadata": {},
   "outputs": [],
   "source": [
    "# set up notebook to display multiple output in one cell\n",
    "\n",
    "from IPython.core.interactiveshell import InteractiveShell\n",
    "InteractiveShell.ast_node_interactivity = \"all\""
   ]
  },
  {
   "cell_type": "markdown",
   "id": "53bee6d2",
   "metadata": {},
   "source": [
    "<div class=\"alert alert-block alert-success\"><b>Question #1:</b>\n",
    "\n",
    "What is the result of each of the following?\n",
    "<p>&nbsp;</p>    \n",
    "a. \"Python\"[3]\n",
    "<p>&nbsp;</p> \n",
    "b. \"Python\"[-1]\n",
    "<p>&nbsp;</p> \n",
    "c. \"Python\"[0]\n",
    "<p>&nbsp;</p> \n",
    "d. \"Seaborn is a Python data visualization library based on matplotlib.\"[3:15]\n",
    "<p>&nbsp;</p> \n",
    "e. \"Seaborn is a Python data visualization library based on matplotlib.\"[-10:-1]\n",
    "<p>&nbsp;</p> \n",
    "f.  \"Seaborn is a Python data visualization library based on matplotlib.\"[ : ]\n",
    "<p>&nbsp;</p> \n",
    "g. \"A pandas groupby operation involves some combination of splitting the object, applying a function, and combining the results.\"[:16] \n",
    "<p>&nbsp;</p> \n",
    "h. \"A pandas groupby operation involves some combination of splitting the object, applying a function, and combining the results.\"[117:] \n",
    "<p>&nbsp;</p> \n",
    "</div>"
   ]
  },
  {
   "cell_type": "markdown",
   "id": "ece16f6e",
   "metadata": {},
   "source": [
    "## Answers for Question #1\n",
    "<p>&nbsp;</p> \n",
    "a. h\n",
    "<p>&nbsp;</p>\n",
    "b.n\n",
    "<p>&nbsp;</p> \n",
    "c.P\n",
    "<p>&nbsp;</p> \n",
    "d.born is a Py\n",
    "<p>&nbsp;</p> \n",
    "e.atplotlib\n",
    "<p>&nbsp;</p> \n",
    "f.Seaborn is a Python data visualization library based on matplotlib.\n",
    "<p>&nbsp;</p> \n",
    "g.A pandas groupby\n",
    "<p>&nbsp;</p> \n",
    "h.results.\n",
    "<p>&nbsp;</p> "
   ]
  },
  {
   "cell_type": "markdown",
   "id": "c87dcf0a",
   "metadata": {},
   "source": [
    "<div class=\"alert alert-block alert-success\"><b>Question #2:</b>\n",
    "<p>&nbsp;</p>    \n",
    "What is the result of each of the following?\n",
    "<p>&nbsp;</p>  \n",
    "a. print('x' in 'matplotlib')\n",
    "<p>&nbsp;</p> \n",
    "b. print('t' in 'matplotlib')\n",
    "<p>&nbsp;</p> \n",
    "c. print('plot' in 'matplotlib')\n",
    "<p>&nbsp;</p> \n",
    "d. print('math' in 'matplotlib')\n",
    "<p>&nbsp;</p> \n",
    "e. print('math' not in 'matplotlib')\n",
    "<p>&nbsp;</p> \n",
    "f. print('plot' not in 'matplotlib')\n",
    "<p>&nbsp;</p> \n",
    "g. print('M' in 'matplotlib')\n",
    "<p>&nbsp;</p> \n",
    "</div>"
   ]
  },
  {
   "cell_type": "markdown",
   "id": "4a88bae7",
   "metadata": {},
   "source": [
    "## Answers for Question #2\n",
    "<p>&nbsp;</p> \n",
    "a. False\n",
    "<p>&nbsp;</p>\n",
    "b.True\n",
    "<p>&nbsp;</p> \n",
    "c.True\n",
    "<p>&nbsp;</p> \n",
    "d.False\n",
    "<p>&nbsp;</p> \n",
    "e.True\n",
    "<p>&nbsp;</p> \n",
    "f.False\n",
    "<p>&nbsp;</p> \n",
    "g.False\n",
    "<p>&nbsp;</p> "
   ]
  },
  {
   "cell_type": "markdown",
   "id": "72d9f57f",
   "metadata": {},
   "source": [
    "<div class=\"alert alert-block alert-success\"><b>Question #3:</b>\n",
    "<p>&nbsp;</p>    \n",
    "What is the result of each of the following?\n",
    "<p>&nbsp;</p> \n",
    "a. ‘pandas’ > ‘numpy’\n",
    "<p>&nbsp;</p> \n",
    "b. ‘pandas’ == ‘Pandas’\n",
    "<p>&nbsp;</p> \n",
    "c. 'pandas' > 'Pandas'\n",
    "<p>&nbsp;</p> \n",
    "d. 'numpy' == 'numpy'\n",
    "<p>&nbsp;</p> "
   ]
  },
  {
   "cell_type": "markdown",
   "id": "babef6a1",
   "metadata": {},
   "source": [
    "## Answers for Question #3\n",
    "<p>&nbsp;</p> \n",
    "a.True\n",
    "<p>&nbsp;</p>\n",
    "b.False\n",
    "<p>&nbsp;</p> \n",
    "c.True\n",
    "<p>&nbsp;</p> \n",
    "d.True\n",
    "<p>&nbsp;</p> "
   ]
  },
  {
   "cell_type": "markdown",
   "id": "2d84f4ce",
   "metadata": {},
   "source": [
    "<div class=\"alert alert-block alert-success\"><b>Question #4:</b>\n",
    "<p>&nbsp;</p>    \n",
    "a. Define a string that contains the word <i><b>Problem</b></i> and define another string as the word <i><b>Solving</b></i>. Combine these two strings to make the phrase <i><b>Problem Solving</b></i>. Do this two different ways with regard to getting the space between the two words. Print a blank line when you are done with this part.\n",
    "<p>&nbsp;</p> \n",
    "b. Define a string that contains the number 4 and a string that contains the number 7. Combine these two strings with the + operator. Print a blank line when you are done with this part.\n",
    "<p>&nbsp;</p> \n",
    "c. Define an integer as the number 4 and an integer as the number 7. Combine these two integers with the + operator. Print a blank line when you are done with this part.\n",
    "<p>&nbsp;</p> \n",
    "d. Explain why the output from (b) was different than the output from (c). To do this, assign your string explanation to a variable named explanation_1 and print out that variable. Print a blank line when you are done with this part.\n",
    "<p>&nbsp;</p> \n",
    "e. Define a string that contains the number <b>3</b> and a string that contains the number <b>14</b>. Write code that uses these strings to produce the string output <b>3.14</b>. Print a blank line when you are done with this part.\n",
    "<p>&nbsp;</p> \n",
    "f. Multiply the string 5 by the string 4 using the multiplication operator *. Print a blank line when you are done with this part.\n",
    "<p>&nbsp;</p> \n",
    "g. Multiply the integer 5 by the integer 4 using the multiplication operator *. Print a blank line when you are done with this part.\n",
    "<p>&nbsp;</p> \n",
    "h. Explain why the output in (f) was different from the output in (g). To do this, assign your string explanation to a variable named explanation_2 and print out that variable. Print a blank line when you are done with this part.\n",
    "<p>&nbsp;</p> \n",
    "</div>"
   ]
  },
  {
   "cell_type": "markdown",
   "id": "c6d4e1a1",
   "metadata": {},
   "source": [
    "## Answers for Question #4"
   ]
  },
  {
   "cell_type": "code",
   "execution_count": 23,
   "id": "33d4bd44",
   "metadata": {},
   "outputs": [
    {
     "name": "stdout",
     "output_type": "stream",
     "text": [
      "Problem Solving\n",
      "Problem Solving\n",
      "\n",
      "\n",
      "47\n",
      "\n",
      "\n",
      "8\n",
      "\n",
      "\n",
      "Part B and C print out different outputs because when concatenating strings, it just combines the two strings together but does not actually add them together. When the numbers are integers, they are added together.\n",
      "\n",
      "\n",
      "3.14\n",
      "\n",
      "\n",
      "5555\n",
      "\n",
      "\n",
      "20\n",
      "\n",
      "\n",
      "Part F and G print out different outputs because the numbers in part F are strings. On the contrary, part G are integers which do basic multiplication unlike the strings that just repeat.\n"
     ]
    }
   ],
   "source": [
    "# Put Answer to Part (a) here\n",
    "problem = \"Problem \"\n",
    "solving = \" Solving\"\n",
    "print(problem+solving[1:])\n",
    "print(problem[:-1]+solving)\n",
    "print(\"\\n\")\n",
    "\n",
    "# Put Answer to Part (b) here\n",
    "\n",
    "number_four = \"4\"\n",
    "number_seven = \"7\"\n",
    "print(number_four+number_seven)\n",
    "print(\"\\n\")\n",
    "\n",
    "\n",
    "# Put Answer to Part (c) here\n",
    "number_four = 4\n",
    "number_seven = 4\n",
    "print(number_four+number_seven)\n",
    "print(\"\\n\")\n",
    "\n",
    "\n",
    "# Put Answer to Part (d) here\n",
    "explanation_1 = \"Part B and C print out different outputs because when concatenating strings, it just combines the two strings together but does not actually add them together. When the numbers are integers, they are added together.\"\n",
    "print(explanation_1)\n",
    "print(\"\\n\")\n",
    "\n",
    "# Put Answer to Part (e) here\n",
    "number_three = \"3\"\n",
    "number_fourteen = \"14\"\n",
    "print(f\"{number_three}.{number_fourteen}\")\n",
    "print(\"\\n\")\n",
    "\n",
    "\n",
    "# Put Answer to Part (f) here\n",
    "number_five = \"5\"\n",
    "number_four = \"4\"\n",
    "print(number_five*int(number_four))\n",
    "print(\"\\n\")\n",
    "\n",
    "# Put Answer to Part (g) here\n",
    "number_five = 5\n",
    "number_four = 4\n",
    "print(number_five*number_four)\n",
    "print(\"\\n\")\n",
    "\n",
    "# Put Answer to Part (h) here\n",
    "explanation_two = \"Part F and G print out different outputs because the numbers in part F are strings. On the contrary, part G are integers which do basic multiplication unlike the strings that just repeat.\"\n",
    "print(explanation_two)\n"
   ]
  },
  {
   "cell_type": "markdown",
   "id": "b88c74f4",
   "metadata": {},
   "source": [
    "<div class=\"alert alert-block alert-success\"><b>Question #5:</b>\n",
    "\n",
    "Complete the following index and slicing operations after assigning the string 'Concatenate' to the variable <b>word</b>.\n",
    "<p>&nbsp;</p> \n",
    "<center><i><b>Note: Write a print statement at the end of each part to output a blank line.</b></i></center>\n",
    "<p>&nbsp;</p> \n",
    "a. Pull out the letter <i>C</i> from word.\n",
    "<p>&nbsp;</p>    \n",
    "b. Pull out the first four letters <i>Conc</i> from word.\n",
    "<p>&nbsp;</p> \n",
    "c. Pull out the sixth through 8th letters <i>ten</i> from word.\n",
    "<p>&nbsp;</p> \n",
    "d. Pull out every other letter from word starting with C (i.e. produce <i>Cnaeae</i> as your output.)\n",
    "<p>&nbsp;</p> \n",
    "e. Pull out every third letter from word starting with o (i.e. produce <i>oane</i> as your output.)\n",
    "<p>&nbsp;</p> \n",
    "f. Use indexing and slicing to output word backwards to produce <i>etanetacnoC</i>\n",
    "<p>&nbsp;</p> \n",
    "</div>\n"
   ]
  },
  {
   "cell_type": "markdown",
   "id": "cc6329b1",
   "metadata": {},
   "source": [
    "## Answers for Question #5\n",
    "\n",
    "Note: Before doing Question #5 you may want to read the following handout:\n",
    "\n",
    "[Advanced String Slicing](https://drive.google.com/file/d/153mM7pEgLHzNdJtip_bxOottivtZGx20/view?usp=sharing)\n",
    "\n",
    "Source:  <b>Problem Solving with Python</b> by Peter D. Kazarinoff"
   ]
  },
  {
   "cell_type": "code",
   "execution_count": 50,
   "id": "a41930fd",
   "metadata": {},
   "outputs": [
    {
     "name": "stdout",
     "output_type": "stream",
     "text": [
      "C\n",
      "\n",
      "\n",
      "Conc\n",
      "\n",
      "\n",
      "ten\n",
      "\n",
      "\n",
      "Cnaeae\n",
      "\n",
      "\n",
      "oane\n",
      "\n",
      "\n",
      "etanetacnoC\n"
     ]
    }
   ],
   "source": [
    "# Put Answer to Part (a) here\n",
    "conString = \"Concatenate\"\n",
    "print(conString[0])\n",
    "print(\"\\n\")\n",
    "\n",
    "# Put Answer to Part (b) here\n",
    "print(conString[0:4])\n",
    "print(\"\\n\")\n",
    "\n",
    "\n",
    "# Put Answer to Part (c) here\n",
    "print(conString[5:8])\n",
    "print(\"\\n\")\n",
    "\n",
    "# Put Answer to Part (d) here\n",
    "arrayOfString = list(conString)\n",
    "newWord = \"\"\n",
    "for x in range(0, len(arrayOfString),2):\n",
    "    newWord += conString[x]\n",
    "print(newWord)\n",
    "print(\"\\n\")\n",
    "\n",
    "# Put Answer to Part (e) here\n",
    "arrayOfString = list(conString)\n",
    "newWord = \"\"\n",
    "for x in range(1, len(arrayOfString),3):\n",
    "    newWord += conString[x]\n",
    "print(newWord)\n",
    "print(\"\\n\")\n",
    "\n",
    "# Put Answer to Part (f) here\n",
    "print(conString[::-1])"
   ]
  },
  {
   "cell_type": "markdown",
   "id": "4229c3d5",
   "metadata": {},
   "source": [
    "<div class=\"alert alert-block alert-success\"><b>Question #6:</b>\n",
    "<p>&nbsp;</p> \n",
    "Define a string v as <i><b>Lemonade</b></i>, define a string w as <i><b>it's</b></i>, define a string x as <i><b>really</b></i>, define a string y as <i><b>cold!</b></i>, and a string z as <i><b>,</b></i> (... i.e as a comma).\n",
    "<p>&nbsp;</p>     \n",
    "a. Combine the strings v, w, x, y, and z to produce the string <i><b>Lemonade, it's really cold!</b></b> \n",
    "<p>&nbsp;</p> \n",
    "<center><i><b>Note: Write a print statement at the end of part (a) to output a blank line.</b></i></center>\n",
    "<p>&nbsp;</p>     \n",
    "b. Print out the statement <i><b>\"Donald Trump said \"Lemonade, it's reallyreally cold!\"</b></i> using the variables v, w, x, y, and z. \n",
    "<p>&nbsp;</p> \n",
    "    <center><i><b>(Note:'reallyreally' was intentionally written that way -- do not change it!)</b></i></center>\n",
    "<p>&nbsp;</p> \n",
    "</div>"
   ]
  },
  {
   "cell_type": "markdown",
   "id": "a4d4f584",
   "metadata": {},
   "source": [
    "## Answers for Question #6"
   ]
  },
  {
   "cell_type": "code",
   "execution_count": 56,
   "id": "3a9b5ba8",
   "metadata": {},
   "outputs": [
    {
     "name": "stdout",
     "output_type": "stream",
     "text": [
      "Lemonade, it's really cold\n",
      "\n",
      "\n",
      "Donald Trump said \"Lemonade, it's reallyreally cold\"\n"
     ]
    }
   ],
   "source": [
    "# Put Answer to Part (a) here\n",
    "v = \"Lemonade\"\n",
    "w = \"it's\"\n",
    "x = \"really\"\n",
    "y = \"cold\"\n",
    "z = \",\"\n",
    "print(f\"{v}{z} {w} {x} {y}\")\n",
    "print(\"\\n\")\n",
    "# Put Answer to Part (b) here\n",
    "print(f\"Donald Trump said \\\"{v}{z} {w} {x}{x} {y}\\\"\")\n"
   ]
  },
  {
   "cell_type": "markdown",
   "id": "39ed88c4",
   "metadata": {},
   "source": [
    "<div class=\"alert alert-block alert-success\"><b>Question #6:</b><br>\n",
    "    \n",
    "Use the string <b>functions and packages</b> and slicing to produce the following words:\n",
    "<p>&nbsp;</p>  \n",
    "a. pack\n",
    "<p>&nbsp;</p> \n",
    "b. fun\n",
    "<p>&nbsp;</p> \n",
    "c. age\n",
    "<p>&nbsp;</p> \n",
    "</div>"
   ]
  },
  {
   "cell_type": "markdown",
   "id": "4378639e",
   "metadata": {},
   "source": [
    "## Answers for Question #7"
   ]
  },
  {
   "cell_type": "code",
   "execution_count": 60,
   "id": "1d8b1817",
   "metadata": {},
   "outputs": [
    {
     "name": "stdout",
     "output_type": "stream",
     "text": [
      "pack\n",
      "\n",
      "\n",
      "fun\n",
      "\n",
      "\n",
      "age\n"
     ]
    }
   ],
   "source": [
    "# Put Answer to Part (a) here\n",
    "packages  = \"packages\"\n",
    "functions = \"functions\"\n",
    "print(packages[:4])\n",
    "print(\"\\n\")\n",
    "# Put Answer to Part (b) here\n",
    "print(functions[:3])\n",
    "print(\"\\n\")\n",
    "\n",
    "# Put Answer to Part (c) here\n",
    "print(packages[4:7])\n",
    "\n"
   ]
  },
  {
   "cell_type": "markdown",
   "id": "879f438f",
   "metadata": {},
   "source": [
    "<div class=\"alert alert-block alert-success\"><b>Question #8:</b>\n",
    "\n",
    "city = Elm Grove\n",
    "<p>&nbsp;</p>    \n",
    "a. Use the appropriate method on the string city to return the output Elm grove.\n",
    "<p>&nbsp;</p> \n",
    "b. Use the appropriate method on the string city to return the output elm grove.\n",
    "<p>&nbsp;</p> \n",
    "c. Use the appropriate method on the string city to return the output ELM GROVE.\n",
    "<p>&nbsp;</p> \n",
    "d. Use the appropriate method on the string city to return the number of time the character 'e' appears in the string city.\n",
    "<p>&nbsp;</p> \n",
    "</div>"
   ]
  },
  {
   "cell_type": "markdown",
   "id": "19571059",
   "metadata": {},
   "source": [
    "## Answers for Question #8"
   ]
  },
  {
   "cell_type": "code",
   "execution_count": 9,
   "id": "d3e5b480",
   "metadata": {},
   "outputs": [
    {
     "name": "stdout",
     "output_type": "stream",
     "text": [
      "Elm grove\n",
      "\n",
      "\n",
      "elm grove\n",
      "\n",
      "\n",
      "ELM GROVE\n",
      "\n",
      "\n",
      "2\n"
     ]
    }
   ],
   "source": [
    "# Put Answer to Part (a) here\n",
    "city = \"Elm Grove\"\n",
    "print(city.capitalize())\n",
    "print(\"\\n\")\n",
    "# Put Answer to Part (b) here\n",
    "print(city.lower())\n",
    "print(\"\\n\")\n",
    "\n",
    "# Put Answer to Part (c) here\n",
    "print(city.upper())\n",
    "print(\"\\n\")\n",
    "\n",
    "\n",
    "# Put Answer to Part (d) here\n",
    "print(city.lower().count('e'))\n",
    "# I don't know if you wanted me to include the capital E or not.\n",
    "#If you did not want me to, then you remove the .lower() function and just make it city.count('e')\n"
   ]
  },
  {
   "cell_type": "markdown",
   "id": "bfb9804e",
   "metadata": {},
   "source": [
    "<div class=\"alert alert-block alert-success\"><b>Question #9:</b>\n",
    "<p>&nbsp;</p\n",
    "    <center><i><b>Note: Write a print statement at the end of each part to output a blank line.</b></i></center>\n",
    "<p>&nbsp;</p> \n",
    "course = \"&emsp;Python for Data Science&emsp;    \"\n",
    "<p>&nbsp;</p> \n",
    "a. print(course)\n",
    "<p>&nbsp;</p> \n",
    "b. Use the appropriate method on the string course to return a string with the leading and trailing whitespace removed.\n",
    "<p>&nbsp;</p> \n",
    "c. Use the appropriate method on the string course to return a string with the trailing whitespace removed.\n",
    "<p>&nbsp;</p> \n",
    "d. Use the appropriate method on the string course to return a string with the leading whitespace removed.\n",
    "<p>&nbsp;</p> \n",
    "e. Use the appropriate method on the string course to return the string <b>FunPythonforDataScienceFun</b>.\n",
    "<p>&nbsp;</p> \n",
    "f. Use the appropriate method on the string course to return the string <b>Fun&emsp;PythonforDataScienceFun</b>.\n",
    "<p>&nbsp;</p> \n",
    "g. Use the appropriate method on the string course to return the string <b>FunPythonforDataScience&emsp;Fun</b>.\n",
    "<p>&nbsp;</p> \n",
    "</div>"
   ]
  },
  {
   "cell_type": "markdown",
   "id": "6e9ca867",
   "metadata": {},
   "source": [
    "## Answers for Question #9"
   ]
  },
  {
   "cell_type": "code",
   "execution_count": 2,
   "id": "6911472a",
   "metadata": {},
   "outputs": [
    {
     "name": "stdout",
     "output_type": "stream",
     "text": [
      " Python for Data Science  \n",
      "\n",
      "\n",
      "Python for Data Science\n",
      "\n",
      "\n",
      " Python for Data Science\n",
      "\n",
      "\n",
      "Python for Data Science  \n",
      "\n",
      "\n",
      "FunPythonforDataScienceFun\n",
      "\n",
      "\n",
      "Fun PythonforDataScienceFun\n",
      "\n",
      "\n",
      "FunPythonforDataScience Fun\n",
      "\n",
      "\n"
     ]
    }
   ],
   "source": [
    "# Put Answer to Part (a) here\n",
    "course = \" Python for Data Science  \"\n",
    "fun = \"Fun\"\n",
    "print(course)\n",
    "print(\"\\n\")\n",
    "\n",
    "# Put Answer to Part (b) here\n",
    "print(course.strip())\n",
    "print(\"\\n\")\n",
    "\n",
    "# Put Answer to Part (c) here\n",
    "print(course.rstrip())\n",
    "print(\"\\n\")\n",
    "\n",
    "# Put Answer to Part (d) here\n",
    "print(course.lstrip())\n",
    "print(\"\\n\")\n",
    "\n",
    "# Put Answer to Part (e) here\n",
    "no_space_course = ''.join(course.split())\n",
    "print(f\"{fun}{no_space_course}{fun}\")\n",
    "print(\"\\n\")\n",
    "\n",
    "\n",
    "# Put Answer to Part (f) here\n",
    "no_space_course = ''.join(course.split())\n",
    "print(f\"{fun} {no_space_course}{fun}\")\n",
    "print(\"\\n\")\n",
    "\n",
    "\n",
    "# Put Answer to Part (g) here\n",
    "no_space_course = ''.join(course.split())\n",
    "print(f\"{fun}{no_space_course} {fun}\")\n",
    "print(\"\\n\")\n",
    "\n",
    "\n"
   ]
  },
  {
   "cell_type": "markdown",
   "id": "f6740eb6",
   "metadata": {},
   "source": [
    "<div class=\"alert alert-block alert-success\"><b>Question #10:</b>\n",
    "<p>&nbsp;</p>    \n",
    "str = 'Python is hard!'\n",
    "<p>&nbsp;</p> \n",
    "Use the appropriate method on the string str to return a string that replaces the word <b>hard</b> with the word <b>easy</b>.\n",
    "<p>&nbsp;</p> \n",
    "</div>"
   ]
  },
  {
   "cell_type": "markdown",
   "id": "2598d393",
   "metadata": {},
   "source": [
    "## Answer for Question #10"
   ]
  },
  {
   "cell_type": "code",
   "execution_count": 21,
   "id": "c9cb4be2",
   "metadata": {},
   "outputs": [
    {
     "name": "stdout",
     "output_type": "stream",
     "text": [
      "Python is easy!\n"
     ]
    }
   ],
   "source": [
    "# Put Answer to Question #10 here\n",
    "\n",
    "str = \"Python is hard!\"\n",
    "print(str.replace('hard', 'easy'))\n"
   ]
  },
  {
   "cell_type": "markdown",
   "id": "621d68d1",
   "metadata": {},
   "source": [
    "<div class=\"alert alert-block alert-danger\"><b>Note:</b> \n",
    "<p>&nbsp;</p> \n",
    "- Once you are satisfied with the results, submit your .ipynb notebook and html or PDF file to Canvas. \n",
    "<p>&nbsp;</p> \n",
    "-Your files should include all output, i.e. run each cell and save your file before submitting.\n",
    "<p>&nbsp;</p> \n",
    "</div>"
   ]
  },
  {
   "cell_type": "code",
   "execution_count": null,
   "id": "c7d25131",
   "metadata": {},
   "outputs": [],
   "source": []
  }
 ],
 "metadata": {
  "kernelspec": {
   "display_name": "Python 3 (ipykernel)",
   "language": "python",
   "name": "python3"
  },
  "language_info": {
   "codemirror_mode": {
    "name": "ipython",
    "version": 3
   },
   "file_extension": ".py",
   "mimetype": "text/x-python",
   "name": "python",
   "nbconvert_exporter": "python",
   "pygments_lexer": "ipython3",
   "version": "3.9.12"
  }
 },
 "nbformat": 4,
 "nbformat_minor": 5
}
