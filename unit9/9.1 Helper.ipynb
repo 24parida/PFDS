{
 "cells": [
  {
   "cell_type": "code",
   "execution_count": 2,
   "id": "88dc6987",
   "metadata": {},
   "outputs": [],
   "source": [
    "from IPython.core.interactiveshell import InteractiveShell\n",
    "InteractiveShell.ast_node_interactivity = \"all\"\n"
   ]
  },
  {
   "cell_type": "code",
   "execution_count": 1,
   "id": "65b446d9",
   "metadata": {},
   "outputs": [
    {
     "name": "stdout",
     "output_type": "stream",
     "text": [
      "5\n"
     ]
    }
   ],
   "source": [
    "alist = [3, 67, \"cat\", 3.14, False] \n",
    "print(len(alist))"
   ]
  },
  {
   "cell_type": "code",
   "execution_count": 3,
   "id": "599d56e9",
   "metadata": {},
   "outputs": [
    {
     "name": "stdout",
     "output_type": "stream",
     "text": [
      "7\n"
     ]
    }
   ],
   "source": [
    "alist = [3, 67, \"cat\", [56, 57, \"dog\"], [ ], 3.14, False] \n",
    "print(len(alist))"
   ]
  },
  {
   "cell_type": "code",
   "execution_count": 4,
   "id": "7208e3ed",
   "metadata": {},
   "outputs": [
    {
     "name": "stdout",
     "output_type": "stream",
     "text": [
      "3.14\n"
     ]
    }
   ],
   "source": [
    "alist = [3, 67, \"cat\", [56, 57, \"dog\"], [ ], 3.14, False] \n",
    "print(alist[5])"
   ]
  },
  {
   "cell_type": "code",
   "execution_count": 5,
   "id": "d01959c0",
   "metadata": {},
   "outputs": [
    {
     "name": "stdout",
     "output_type": "stream",
     "text": [
      "CAT\n"
     ]
    }
   ],
   "source": [
    "alist = [3, 67, \"cat\", [56, 57, \"dog\"], [ ], 3.14, False] \n",
    "print(alist[2].upper()) "
   ]
  },
  {
   "cell_type": "code",
   "execution_count": 6,
   "id": "f3047afc",
   "metadata": {},
   "outputs": [
    {
     "name": "stdout",
     "output_type": "stream",
     "text": [
      "c\n"
     ]
    }
   ],
   "source": [
    "alist = [3, 67, \"cat\", [56, 57, \"dog\"], [ ], 3.14, False] \n",
    "print(alist[2][0]) "
   ]
  },
  {
   "cell_type": "code",
   "execution_count": 7,
   "id": "026f7694",
   "metadata": {},
   "outputs": [
    {
     "name": "stdout",
     "output_type": "stream",
     "text": [
      "True\n"
     ]
    }
   ],
   "source": [
    "alist = [3, 67, \"cat\", [56, 57, \"dog\"], [ ], 3.14, False] \n",
    "print(3.14 in alist) "
   ]
  },
  {
   "cell_type": "code",
   "execution_count": 8,
   "id": "b8f676c4",
   "metadata": {},
   "outputs": [
    {
     "name": "stdout",
     "output_type": "stream",
     "text": [
      "False\n"
     ]
    }
   ],
   "source": [
    "alist = [3, 67, \"cat\", [56, 57, \"dog\"], [ ], 3.14, False] \n",
    "print(57 in alist) "
   ]
  },
  {
   "cell_type": "code",
   "execution_count": 9,
   "id": "0cf9b35e",
   "metadata": {},
   "outputs": [
    {
     "name": "stdout",
     "output_type": "stream",
     "text": [
      "[1, 3, 5, 2, 4, 6]\n"
     ]
    }
   ],
   "source": [
    "alist = [1, 3, 5] \n",
    "blist = [2, 4, 6] \n",
    "print(alist + blist) "
   ]
  },
  {
   "cell_type": "code",
   "execution_count": 10,
   "id": "dcec634e",
   "metadata": {},
   "outputs": [
    {
     "name": "stdout",
     "output_type": "stream",
     "text": [
      "[1, 3, 5, 1, 3, 5, 1, 3, 5]\n"
     ]
    }
   ],
   "source": [
    "alist = [1, 3, 5] \n",
    "print(alist * 3) "
   ]
  },
  {
   "cell_type": "code",
   "execution_count": 12,
   "id": "77d8d7fc",
   "metadata": {},
   "outputs": [
    {
     "name": "stdout",
     "output_type": "stream",
     "text": [
      "[[], 3.14, False]\n"
     ]
    }
   ],
   "source": [
    "alist = [3, 67, \"cat\", [56, 57, \"dog\"], [ ], 3.14, False]\n",
    "print(alist[4:]) "
   ]
  },
  {
   "cell_type": "code",
   "execution_count": 13,
   "id": "c42e347a",
   "metadata": {},
   "outputs": [
    {
     "name": "stdout",
     "output_type": "stream",
     "text": [
      "[[], 3.14, False]\n"
     ]
    }
   ],
   "source": [
    "alist = [3, 67, \"cat\", [56, 57, \"dog\"], [ ], 3.14, False]\n",
    "print(alist[4:]) "
   ]
  },
  {
   "cell_type": "code",
   "execution_count": 14,
   "id": "e3cf75ab",
   "metadata": {},
   "outputs": [
    {
     "name": "stdout",
     "output_type": "stream",
     "text": [
      "[4, 2, True, 6, 5]\n"
     ]
    }
   ],
   "source": [
    "alist = [4, 2, 8, 6, 5] \n",
    "alist[2] = True \n",
    "print(alist)"
   ]
  },
  {
   "cell_type": "code",
   "execution_count": 15,
   "id": "640c575d",
   "metadata": {},
   "outputs": [
    {
     "name": "stdout",
     "output_type": "stream",
     "text": [
      "[4, 2, 8, 999, 5]\n"
     ]
    }
   ],
   "source": [
    "alist = [4, 2, 8, 6, 5] \n",
    "blist = alist \n",
    "blist[3] = 999 \n",
    "print(alist)"
   ]
  },
  {
   "cell_type": "code",
   "execution_count": 16,
   "id": "23f01627",
   "metadata": {},
   "outputs": [
    {
     "name": "stdout",
     "output_type": "stream",
     "text": [
      "[4, 2, 8, 6, 5]\n"
     ]
    }
   ],
   "source": [
    "alist = [4, 2, 8, 6, 5] \n",
    "blist = alist * 2 \n",
    "blist[3] = 999 \n",
    "print(alist) "
   ]
  },
  {
   "cell_type": "code",
   "execution_count": 17,
   "id": "94e19de8",
   "metadata": {},
   "outputs": [
    {
     "name": "stdout",
     "output_type": "stream",
     "text": [
      "[[4, 2, 8, 999, 5], [4, 2, 8, 999, 5]]\n"
     ]
    }
   ],
   "source": [
    "alist = [4, 2, 8, 6, 5] \n",
    "blist = [alist] * 2 \n",
    "alist[3] = 999 \n",
    "print(blist)"
   ]
  },
  {
   "cell_type": "code",
   "execution_count": 18,
   "id": "71ff76c1",
   "metadata": {},
   "outputs": [
    {
     "name": "stdout",
     "output_type": "stream",
     "text": [
      "[4, 2, 6]\n"
     ]
    }
   ],
   "source": [
    "alist = [4, 2, 8, 6, 5] \n",
    "temp = alist.pop(2) \n",
    "temp = alist.pop() \n",
    "print(alist)"
   ]
  },
  {
   "cell_type": "code",
   "execution_count": 19,
   "id": "88b7c644",
   "metadata": {},
   "outputs": [
    {
     "name": "stdout",
     "output_type": "stream",
     "text": [
      "4\n"
     ]
    }
   ],
   "source": [
    "alist = [4, 2, 8, 6, 5] \n",
    "alist = alist.pop(0) \n",
    "print(alist)"
   ]
  },
  {
   "cell_type": "code",
   "execution_count": 20,
   "id": "d9c8885c",
   "metadata": {},
   "outputs": [
    {
     "ename": "TypeError",
     "evalue": "can only concatenate list (not \"int\") to list",
     "output_type": "error",
     "traceback": [
      "\u001b[1;31m---------------------------------------------------------------------------\u001b[0m",
      "\u001b[1;31mTypeError\u001b[0m                                 Traceback (most recent call last)",
      "Input \u001b[1;32mIn [20]\u001b[0m, in \u001b[0;36m<cell line: 2>\u001b[1;34m()\u001b[0m\n\u001b[0;32m      1\u001b[0m alist \u001b[38;5;241m=\u001b[39m [\u001b[38;5;241m4\u001b[39m, \u001b[38;5;241m2\u001b[39m, \u001b[38;5;241m8\u001b[39m, \u001b[38;5;241m6\u001b[39m, \u001b[38;5;241m5\u001b[39m] \n\u001b[1;32m----> 2\u001b[0m alist \u001b[38;5;241m=\u001b[39m \u001b[43malist\u001b[49m\u001b[43m \u001b[49m\u001b[38;5;241;43m+\u001b[39;49m\u001b[43m \u001b[49m\u001b[38;5;241;43m999\u001b[39;49m \n\u001b[0;32m      3\u001b[0m \u001b[38;5;28mprint\u001b[39m(alist)\n",
      "\u001b[1;31mTypeError\u001b[0m: can only concatenate list (not \"int\") to list"
     ]
    }
   ],
   "source": [
    "alist = [4, 2, 8, 6, 5] \n",
    "alist = alist + 999 \n",
    "print(alist)"
   ]
  },
  {
   "cell_type": "code",
   "execution_count": 21,
   "id": "b8f0e8d5",
   "metadata": {},
   "outputs": [
    {
     "ename": "TypeError",
     "evalue": "can only concatenate list (not \"int\") to list",
     "output_type": "error",
     "traceback": [
      "\u001b[1;31m---------------------------------------------------------------------------\u001b[0m",
      "\u001b[1;31mTypeError\u001b[0m                                 Traceback (most recent call last)",
      "Input \u001b[1;32mIn [21]\u001b[0m, in \u001b[0;36m<cell line: 2>\u001b[1;34m()\u001b[0m\n\u001b[0;32m      1\u001b[0m alist \u001b[38;5;241m=\u001b[39m [\u001b[38;5;241m4\u001b[39m, \u001b[38;5;241m2\u001b[39m, \u001b[38;5;241m8\u001b[39m, \u001b[38;5;241m6\u001b[39m, \u001b[38;5;241m5\u001b[39m] \n\u001b[1;32m----> 2\u001b[0m alist \u001b[38;5;241m=\u001b[39m \u001b[43malist\u001b[49m\u001b[43m \u001b[49m\u001b[38;5;241;43m+\u001b[39;49m\u001b[43m \u001b[49m\u001b[38;5;241;43m999\u001b[39;49m \n\u001b[0;32m      3\u001b[0m \u001b[38;5;28mprint\u001b[39m(alist)\n",
      "\u001b[1;31mTypeError\u001b[0m: can only concatenate list (not \"int\") to list"
     ]
    }
   ],
   "source": [
    "alist = [4, 2, 8, 6, 5] \n",
    "alist = alist + 999 \n",
    "print(alist)"
   ]
  },
  {
   "cell_type": "code",
   "execution_count": null,
   "id": "cdf5b4f5",
   "metadata": {},
   "outputs": [],
   "source": [
    "6"
   ]
  }
 ],
 "metadata": {
  "kernelspec": {
   "display_name": "Python 3 (ipykernel)",
   "language": "python",
   "name": "python3"
  },
  "language_info": {
   "codemirror_mode": {
    "name": "ipython",
    "version": 3
   },
   "file_extension": ".py",
   "mimetype": "text/x-python",
   "name": "python",
   "nbconvert_exporter": "python",
   "pygments_lexer": "ipython3",
   "version": "3.9.12"
  }
 },
 "nbformat": 4,
 "nbformat_minor": 5
}
