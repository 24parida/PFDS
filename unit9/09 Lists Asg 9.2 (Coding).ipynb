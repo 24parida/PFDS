{
 "cells": [
  {
   "cell_type": "markdown",
   "id": "879bcdd3",
   "metadata": {},
   "source": [
    "# <center><b>Lesson 09</b></center>\n",
    "# <center><b>Asg 9.2</center>\n",
    "# <center><b>Lists</center>"
   ]
  },
  {
   "cell_type": "markdown",
   "id": "0923f8b2",
   "metadata": {},
   "source": [
    "## <center>*Make sure to run the code in the following cell before you start the assignment!*!</i>"
   ]
  },
  {
   "cell_type": "code",
   "execution_count": 1,
   "id": "baae6235",
   "metadata": {},
   "outputs": [
    {
     "name": "stdout",
     "output_type": "stream",
     "text": [
      "The notebook is now set up to display multiple output in one cell'\n"
     ]
    }
   ],
   "source": [
    "# set up notebook to display multiple output in one cell\n",
    "\n",
    "from IPython.core.interactiveshell import InteractiveShell\n",
    "InteractiveShell.ast_node_interactivity = \"all\"\n",
    "\n",
    "print(\"The notebook is now set up to display multiple output in one cell'\")"
   ]
  },
  {
   "cell_type": "markdown",
   "id": "f6d06e3a",
   "metadata": {},
   "source": [
    "<div class=\"alert alert-block alert-success\"><b><font size=\"5\">Question #1:</font></b>:\n",
    "<p>&nbsp;</p>\n",
    "<center><i><b>Note: For each part below, you are allowed only one statement to accomplish the requested task and print out the result.</b></i></center>\n",
    "<p>&nbsp;</p> \n",
    "Given: our_list = [31.6, \"Honda\", [\"humility\", \"curiousity\", \"empathy\"], \"pi\", 26, [\"3\", 2, '1'], \"3\", 2, '1']\n",
    "<p>&nbsp;</p> \n",
    "a. write code to find the number of items in <b>our_list</b><br>\n",
    "<p>&nbsp;</p>\n",
    "b. write code to access the third item of <b>our_list</b><br> \n",
    "<p>&nbsp;</p>\n",
    "c. write code that uses a negative index to access the last item of <b>our_list</b><br>\n",
    "<p>&nbsp;</p>\n",
    "d. write code to access the fifth, sixth, and seventh items of <b>our_list</b><br>\n",
    "<p>&nbsp;</p>\n",
    "e. write code that uses negative indexes to access the second and third items of <b>our_list</b><br>\n",
    "<p>&nbsp;</p>\n",
    "f. write code that incorporates exponentiation, the modulus operater, and other arithmetic operators to access the fourth element of <b>our_list</b><br>\n",
    "<p>&nbsp;</p>\n",
    "g. write code that incorporates the len() function to access the sixth element of <b>our_list</b>\n",
    "<p>&nbsp;</p>\n",
    "h. write code that does not includ a start index to access the first four elements of <b>our_list</b>\n",
    "<p>&nbsp;</p>\n",
    "i. write code that does not include a stop index to print out the last three elelements of <b>our_list</b>\n",
    "<p>&nbsp;</p>\n",
    "j. write code to access the second and third items of the first nested list in <b>our_list</b>\n",
    "<p>&nbsp;</p>\n",
    "k. write code to determine if 'humility\" is an item in <b>our_list</b>\n",
    "<p>&nbsp;</p>\n",
    "l. write code to determine if [\"3\", 2, '1'] is an item in <b>our_list</b>\n",
    "<p>&nbsp;</p>\n",
    "m. write a print statement that summarizes what you discovered from Parts k and l\n",
    "<p>&nbsp;</p>    \n",
    "n. write code to clone <b>our_list</b> and store the result in a variable named  <b>our_list_clone</b>\n",
    "<p>&nbsp;</p>\n",
    "o. write code to see if <b>our_list</b> equals <b>our_list_clone</b> (i.e. do they contain the exact same items?)<br>\n",
    "<p>&nbsp;</p>\n",
    "p. write code to see if <b>our_list</b> references the same object as <b>our_list_clone</b><br>\n",
    "<p>&nbsp;</p>\n",
    "q. write a print statement that summarizes what you discovered from Parts o and p\n",
    "<p>&nbsp;</p>\n",
    "r. create a Markdown cell where you include a reference diagram to support your answer to Part q\n",
    "    <p>&emsp;</p>(<b>Suggestion:</b> You may want to use the link below in conjunction with the snipping tool / screen shot key to help you do this.)\n",
    "    \n",
    "[Python Tutor](https://pythontutor.com/visualize.html#mode=edit)"
   ]
  },
  {
   "cell_type": "markdown",
   "id": "66e1660b",
   "metadata": {},
   "source": [
    "## Answers for Question #1 "
   ]
  },
  {
   "cell_type": "code",
   "execution_count": 1,
   "id": "052bef35",
   "metadata": {},
   "outputs": [
    {
     "name": "stdout",
     "output_type": "stream",
     "text": [
      "9\n",
      "\n",
      "\n",
      "['humility', 'curiousity', 'empathy']\n",
      "\n",
      "\n",
      "1\n",
      "\n",
      "\n",
      "[26, ['3', 2, '1'], '3']\n",
      "\n",
      "\n",
      "['Honda', ['humility', 'curiousity', 'empathy']]\n",
      "\n",
      "\n",
      "The formula for the area of a circle is pi*r**2.\n",
      "\n",
      "\n",
      "['3', 2, '1']\n",
      "\n",
      "\n",
      "[31.6, 'Honda', ['humility', 'curiousity', 'empathy'], 'pi']\n",
      "\n",
      "\n",
      "[26, ['3', 2, '1'], '3', 2, '1']\n",
      "\n",
      "\n",
      "['curiousity', 'empathy']\n",
      "\n",
      "\n",
      "False\n",
      "\n",
      "\n",
      "True\n",
      "\n",
      "\n",
      "The in function does not check whether the lists inside of lists have the element we are looking for.\n",
      "\n",
      "\n",
      "True\n",
      "\n",
      "\n",
      "False\n",
      "\n",
      "\n",
      "Despite the fact our_list has the same elements as our_list_clone, our_list does not reference the same object as our_list_clone. That is why the answer to letter p is false.\n",
      "\n",
      "\n"
     ]
    }
   ],
   "source": [
    "our_list = [31.6, \"Honda\", [\"humility\", \"curiousity\", \"empathy\"], \"pi\", 26, [\"3\", 2, '1'], \"3\", 2, '1']\n",
    "\n",
    "# letter a\n",
    "print(len(our_list))\n",
    "print(\"\\n\")\n",
    "\n",
    "#letter b\n",
    "print(our_list[2])\n",
    "print(\"\\n\")\n",
    "\n",
    "#letter c\n",
    "print(our_list[-1])\n",
    "print(\"\\n\")\n",
    "\n",
    "#letter d \n",
    "print(our_list[4:7])\n",
    "print(\"\\n\")\n",
    "\n",
    "\n",
    "#letter e\n",
    "print(our_list[-8:-6])\n",
    "print(\"\\n\")\n",
    "\n",
    "\n",
    "#letter f\n",
    "print(\"The formula for the area of a circle is %s*r**2.\"%(our_list[3]))\n",
    "print(\"\\n\")\n",
    "\n",
    "#letter g\n",
    "print(our_list[len(our_list) - 4])\n",
    "print(\"\\n\")\n",
    "\n",
    "#letter h\n",
    "print(our_list[:4])\n",
    "print(\"\\n\")\n",
    "\n",
    "#letter i\n",
    "print(our_list[4:])\n",
    "print(\"\\n\")\n",
    "\n",
    "#letter j\n",
    "print(our_list[2][1:3])\n",
    "print(\"\\n\")\n",
    "\n",
    "#letter k\n",
    "print('humility' in our_list)\n",
    "print(\"\\n\")\n",
    "\n",
    "#letter l\n",
    "print([\"3\", 2, '1'] in our_list)\n",
    "print(\"\\n\")\n",
    "\n",
    "#letter m\n",
    "print(\"The in function does not check whether the lists inside of lists have the element we are looking for.\")\n",
    "print(\"\\n\")\n",
    "\n",
    "#letter n\n",
    "our_list_clone = our_list[:]\n",
    "\n",
    "#letter o\n",
    "print(our_list_clone == our_list)\n",
    "print(\"\\n\")\n",
    "\n",
    "#letter p\n",
    "print(our_list is our_list_clone)\n",
    "print(\"\\n\")\n",
    "\n",
    "#letter q\n",
    "print(\"Despite the fact our_list has the same elements as our_list_clone, our_list does not reference the same object as our_list_clone. That is why the answer to letter p is false.\")\n",
    "print(\"\\n\")"
   ]
  },
  {
   "cell_type": "markdown",
   "id": "51393263",
   "metadata": {},
   "source": [
    "<img src=\"..\\Images/VisualizerFor9.2.png\">"
   ]
  },
  {
   "cell_type": "markdown",
   "id": "449cfde8",
   "metadata": {},
   "source": [
    "<div class=\"alert alert-block alert-success\"><b><font size=\"5\">Question #2:</font></b>:\n",
    "<p>&nbsp;</p>    \n",
    "nba =['Bucks', 'Warriors', 'Nets', 'Lakers']<br>\n",
    "mlb = [\"Brewers\", 'Giants', 'Yankees', 'Dodgers']\n",
    "<p>&nbsp;</p> \n",
    "a. write code to produce a list named <b>pro_teams</b> where ...<br>\n",
    "<p>&nbsp;</p> \n",
    "pro_teams = ['Bucks', 'Warriors', 'Nets', 'Lakers', \"Brewers\", 'Giants', 'Yankees', 'Dodgers', 'Packers', 'Bears']<br>\n",
    "<p>&nbsp;</p> \n",
    "b. write code to print out <b>pro_teams</b>\n",
    "<p>&nbsp;</p> \n",
    "c. write code to produce a list named <b>nba_twice</b> where ...\n",
    "<p>&nbsp;</p>\n",
    "nba_twice = ['Bucks', 'Warriors', 'Nets', 'Lakers','Bucks', 'Warriors', 'Nets', 'Lakers']\n",
    "<p>&nbsp;</p> \n",
    "d. write code to print out <b>nba_twice</b>\n",
    "<p>&nbsp;</p> \n",
    "e. write code to produce a list named <b>pro_teams_2</b> where ...\n",
    "<p>&nbsp;</p> \n",
    "pro_teams_2 = ['Bucks', 'Warriors', 'Nets', 'Lakers', \"Brewers\", 'Giants', 'Yankees', 'Dodgers', 'Packers', 'Bears','Packers', 'Bears']\n",
    "<p>&nbsp;</p> \n",
    "f. write code to print out <b>pro_teams_2</b> "
   ]
  },
  {
   "cell_type": "markdown",
   "id": "c4f929d8",
   "metadata": {},
   "source": [
    "## Answers for Question #2 "
   ]
  },
  {
   "cell_type": "code",
   "execution_count": 40,
   "id": "eeb9505f",
   "metadata": {},
   "outputs": [
    {
     "name": "stdout",
     "output_type": "stream",
     "text": [
      "['Bucks', 'Warriors', 'Nets', 'Lakers', 'Brewers', 'Giants', 'Yankees', 'Dodgers', 'Packers', 'Bears']\n",
      "\n",
      "\n",
      "['Bucks', 'Warriors', 'Nets', 'Lakers', 'Bucks', 'Warriors', 'Nets', 'Lakers']\n",
      "['Bucks', 'Warriors', 'Nets', 'Lakers', 'Brewers', 'Giants', 'Yankees', 'Dodgers', 'Packers', 'Bears', 'Packers', 'Bears']\n"
     ]
    }
   ],
   "source": [
    "nba =['Bucks', 'Warriors', 'Nets', 'Lakers']\n",
    "mlb = [\"Brewers\", 'Giants', 'Yankees', 'Dodgers']\n",
    "nfl = ['Packers', 'Bears']\n",
    "\n",
    "#letter a\n",
    "pro_teams = nba + mlb + nfl\n",
    "\n",
    "#letter b\n",
    "print(pro_teams)\n",
    "print(\"\\n\")\n",
    "\n",
    "#letter c\n",
    "nba_twice = nba * 2\n",
    "\n",
    "#letter d\n",
    "print(nba_twice)\n",
    "\n",
    "#letter e\n",
    "pro_teams_2 = pro_teams + nfl\n",
    "\n",
    "#letter f\n",
    "print(pro_teams_2)"
   ]
  },
  {
   "cell_type": "markdown",
   "id": "4db398c9",
   "metadata": {},
   "source": [
    "<div class=\"alert alert-block alert-success\"><b><font size=\"5\">Question #3:</font></b>:\n",
    "<p>&nbsp;</p> \n",
    "Create a list called <b>mylist</b> with the following 9 items: \"I, am, excited, to, be, learning, about, Python, lists!\". \n",
    "<p>&nbsp;</p> \n",
    "<b><i>Part 1: Beginning with the empty list ...</i></b>\n",
    "<p>&nbsp;</p> \n",
    "i.   use the append() method to add the first three items to <b>mylist</b><br>\n",
    "ii.  use the extend() method to add the next three items to <b>mylist</b><br>\n",
    "iii. use concatenation to add the last three items to <b>mylist</b><br> \n",
    "iv.  write code to print out the final version of <b>mylist</b><br> \n",
    "v.   write code to print out the type of the final version of <b>mylist</b><br>\n",
    "vi.  write code to print out a blank line\n",
    "<p>&nbsp;</p> \n",
    "<p>&nbsp;</p> \n",
    "<b><i>Part 2: Using the results from Part 1 above ...</i></b>\n",
    "<p>&nbsp;</p>     \n",
    "i.   convert <b>mylist</b> to a string named <b>mystring</b><br> \n",
    "ii.  write code to print out <b>mystring</b><br>\n",
    "ii.  write code to print out the type of <b>mystring</b>\n",
    "<p>&nbsp;</p> \n",
    "</div>"
   ]
  },
  {
   "cell_type": "markdown",
   "id": "8083b061",
   "metadata": {},
   "source": [
    "## Answers for Question #3"
   ]
  },
  {
   "cell_type": "code",
   "execution_count": 11,
   "id": "665eb731",
   "metadata": {},
   "outputs": [
    {
     "name": "stdout",
     "output_type": "stream",
     "text": [
      "['I', 'am', 'excited']\n",
      "\n",
      "\n",
      "['to', 'be', 'learning']\n",
      "\n",
      "\n",
      "['I', 'am', 'excited', 'to', 'be', 'learning', 'about', 'python', 'lists!']\n",
      "\n",
      "\n",
      "I am excited to be learning about python lists!\n",
      "\n",
      "\n",
      "<class 'str'>\n"
     ]
    }
   ],
   "source": [
    "mylist = []\n",
    "mylist.append('I')\n",
    "mylist.append('am')\n",
    "mylist.append('excited')\n",
    "print(mylist)\n",
    "print(\"\\n\")\n",
    "extended_portion_of_list = ['to', 'be', 'learning']\n",
    "mylist.extend(extended_portion_of_list)\n",
    "print(extended_portion_of_list)\n",
    "print(\"\\n\")\n",
    "concatenated_portion_of_list = ['about', 'python', 'lists!']\n",
    "mylist += concatenated_portion_of_list\n",
    "print(mylist)\n",
    "print(\"\\n\")\n",
    "\n",
    "#Part 2\n",
    "mystring = ' '.join(mylist)\n",
    "print(mystring)\n",
    "print(\"\\n\")\n",
    "print(type(mystring))"
   ]
  },
  {
   "cell_type": "markdown",
   "id": "1be31bca",
   "metadata": {},
   "source": [
    "<div class=\"alert alert-block alert-success\"><b><font size=\"5\">Question #4:</font></b>:\n",
    "<p>&nbsp;</p>    \n",
    "spam_phrases_1 = ['ADDITIONAL INCOME', 'Earn extra cash', 'Make $', 'Work at home', 'Incredible deal', 'No hidden Costs']\n",
    "<p>&nbsp;</p> \n",
    "a. write code to print out <b>spam_phrases_1</b><br>\n",
    "b. write code to print out the type of <b>spam_phrases_1</b><br>\n",
    "c. write code to print out a blank line<br>\n",
    "<p>&nbsp;</p> \n",
    "d. write code to assign the value 'Eliminate bad credit' as the fourth value in <b>spam_phrases_1</b> and store the result in a variable named <b>spam_phrases_2</b><br>\n",
    "e. write code to print out <b>spam_phrases_2</b><br>\n",
    "f. write code to print out a blank line<br>\n",
    "<p>&nbsp;</p> \n",
    "g. write code to remove the sixth item from <b>spam_phrases_2</b> and store the result in a variable named <b>spam_phrases_3</b><br>\n",
    "h. write code to print out <b>spam_phrases_3</b><br>\n",
    "i. write code to print out a blank line<br>\n",
    "<p>&nbsp;</p> \n",
    "j. write code to add the following phrases to <b>spam_phrases_3</b> and store the result in a variable named <b>spam_phrases_4</b>: 'Lower monthly payment', 'Multi level marketing', \"This isn't spam\", 'One time mailing'<br>\n",
    "k. write code to print out <b>spam_phrases_4</b><br>\n",
    "l. write code to print out a blank line<br>\n",
    "<p>&nbsp;</p> \n",
    "m. write code to remove the second, third, and fourth terms from <b>spam_phrases_4</b> and store the result in a variable named <b>spam_phrases_5</b><br>\n",
    "n. write code to print out <b>spam_phrases_5</b><br>\n",
    "o. write code to print out a blank line<br>\n",
    "<p>&nbsp;</p> \n",
    "Given: new_spam = ['No medical exams', 'Reverses aging', 'Online pharmacy']\n",
    "<p>&nbsp;</p> \n",
    "p. use concatenation to add <b>new_spam</b> to <b>spam_phrases_5</b> and store the result in a variable named <b>spam_phrases_6</b><br>\n",
    "q. write code to print out <b>spam_phrases_6</b><br>\n",
    "r. write code to print out a blank line<br>\n",
    "<p>&nbsp;</p> \n",
    "s. write code to remove 'ADDITIONAL INCOME' and 'Lower monthly payment' from  <b>spam_phrases_6</b> and store the result in a variable named  <b>spam_phrases_7</b><br>\n",
    "t. write code to print out <b>spam_phrases_7</b>\n",
    "</div>"
   ]
  },
  {
   "cell_type": "markdown",
   "id": "7cc4437d",
   "metadata": {},
   "source": [
    "## Answers for Question #4"
   ]
  },
  {
   "cell_type": "code",
   "execution_count": 26,
   "id": "ed162748",
   "metadata": {},
   "outputs": [
    {
     "name": "stdout",
     "output_type": "stream",
     "text": [
      "<class 'list'>\n",
      "\n",
      "\n",
      "['ADDITIONAL INCOME', 'Earn extra cash', 'Make $', 'Eliminate bad credit', 'Incredible deal', 'No hidden Costs']\n",
      "<class 'list'>\n",
      "\n",
      "\n",
      "['ADDITIONAL INCOME', 'Earn extra cash', 'Make $', 'Eliminate bad credit', 'Incredible deal']\n",
      "\n",
      "\n",
      "['ADDITIONAL INCOME', 'Earn extra cash', 'Make $', 'Eliminate bad credit', 'Incredible deal', 'Lower monthly payment', 'Multi level marketing', \"This isn't spam\", 'One time mailing']\n",
      "\n",
      "\n",
      "['ADDITIONAL INCOME', 'Eliminate bad credit', 'Incredible deal', 'Lower monthly payment', 'Multi level marketing', \"This isn't spam\", 'One time mailing']\n",
      "\n",
      "\n",
      "['ADDITIONAL INCOME', 'Eliminate bad credit', 'Incredible deal', 'Lower monthly payment', 'Multi level marketing', \"This isn't spam\", 'One time mailing', 'No medical exams', 'Reverses aging', 'Online pharmacy']\n",
      "\n",
      "\n",
      "['Eliminate bad credit', 'Incredible deal', 'Multi level marketing', \"This isn't spam\", 'One time mailing', 'No medical exams', 'Reverses aging', 'Online pharmacy']\n"
     ]
    }
   ],
   "source": [
    "spam_phrases_1 = ['ADDITIONAL INCOME', 'Earn extra cash', 'Make $', 'Work at home', 'Incredible deal', 'No hidden Costs']\n",
    "print(type(spam_phrases_1))\n",
    "print(\"\\n\")\n",
    "spam_phrases_1[3] = \"Eliminate bad credit\"\n",
    "spam_phrases_2 = spam_phrases_1[:]\n",
    "print(spam_phrases_2)\n",
    "print(type(spam_phrases_2))\n",
    "print(\"\\n\")\n",
    "\n",
    "del spam_phrases_2[5]\n",
    "spam_phrases_3 = spam_phrases_2[:]\n",
    "print(spam_phrases_3)\n",
    "print(\"\\n\")\n",
    "\n",
    "portion_to_be_extended = ['Lower monthly payment', 'Multi level marketing', 'This isn\\'t spam', 'One time mailing']\n",
    "spam_phrases_3.extend(portion_to_be_extended)\n",
    "spam_phrases_4 = spam_phrases_3[:]\n",
    "print(spam_phrases_4)\n",
    "print(\"\\n\")\n",
    "\n",
    "del spam_phrases_4[1:3]\n",
    "spam_phrases_5 = spam_phrases_4[:]\n",
    "print(spam_phrases_5)\n",
    "print(\"\\n\")\n",
    "\n",
    "new_spam = ['No medical exams', 'Reverses aging', 'Online pharmacy']\n",
    "spam_phrases_6 = spam_phrases_5 + new_spam\n",
    "print(spam_phrases_6)\n",
    "print(\"\\n\")\n",
    "\n",
    "spam_phrases_6.remove('ADDITIONAL INCOME')\n",
    "spam_phrases_6.remove('Lower monthly payment')\n",
    "spam_phrases_7 = spam_phrases_6[:]\n",
    "print(spam_phrases_7)"
   ]
  },
  {
   "cell_type": "markdown",
   "id": "f9f1a8ad",
   "metadata": {},
   "source": [
    "<div class=\"alert alert-block alert-success\"><b><font size=\"5\">Question #5</font>:</b>:\n",
    "<p>&nbsp;</p>    \n",
    "greater_metro = ['BCHS', 'BEHS', 'Arrowhead', \"SH', 'Muskego','Men Falls', 'Heritage Christian', 'Brookfield Academy', 'WA Hale', 'WA Central', 'Franklin']\n",
    "<p>&nbsp;</p> \n",
    "a. write code to print <b>greater_metro</b>\n",
    "<p>&nbsp;</p> \n",
    "b. write code that uses item assignment to replace 'Arrowhead' with 'Gtown' and 'Muskego' with \"MUHS' in <b>greater_metro</b>\n",
    "<p>&nbsp;</p> \n",
    "c. write code to print <b>greater_metro</b>\n",
    "<p>&nbsp;</p> \n",
    "d. write code to that utilizes the empty list [ ] to delete 'Heritage Christian' and 'Brookfield Academy' from <b>greater_metro</b>\n",
    "<p>&nbsp;</p> \n",
    "e. write code to print <b>greater_metro</b>   \n",
    "<p>&nbsp;</p> \n",
    "f. write code to simultaneously update <b>greater_metro</b> by inserting'Tosa East' and 'Tosa West' as the third and fourth items of <b>greater_metro</b>\n",
    "<p>&nbsp;</p> \n",
    "g. write code to print <b>greater_metro</b>   \n",
    "<p>&nbsp;</p> \n",
    "h. write code that uses the del statement to delete 'WA Central' and 'Franklin' from <b>greater_metro</b> \n",
    "<p>&nbsp;</p> \n",
    "i. write code to print <b>greater_metro</b>   \n",
    "<p>&nbsp;</p> \n",
    "j. write code that prints out <b>greater_metro</b> in alphabetical order \n",
    "<p>&nbsp;</p> \n",
    "</div>"
   ]
  },
  {
   "cell_type": "markdown",
   "id": "327f78df",
   "metadata": {},
   "source": [
    "## Answers for Question #5"
   ]
  },
  {
   "cell_type": "code",
   "execution_count": 44,
   "id": "ddc31e8c",
   "metadata": {},
   "outputs": [
    {
     "name": "stdout",
     "output_type": "stream",
     "text": [
      "['BCHS', 'BEHS', 'Arrowhead', 'SH', 'Muskego', 'Men Falls', 'Heritage Christian', 'Brookfield Academy', 'WA Hale', 'WA Central', 'Franklin']\n",
      "\n",
      "\n",
      "['BCHS', 'BEHS', 'Gtown', 'SH', 'MUHS', 'Men Falls', 'Heritage Christian', 'Brookfield Academy', 'WA Hale', 'WA Central', 'Franklin']\n",
      "\n",
      "\n",
      "['BCHS', 'BEHS', 'Arrowhead', 'SH', 'Muskego', 'Men Falls', 'WA Hale', 'WA Central', 'Franklin']\n",
      "\n",
      "\n",
      "['BCHS', 'BEHS', 'Tosa East', 'Tosa West', 'Muskego', 'Men Falls', 'WA Hale', 'WA Central', 'Franklin']\n",
      "\n",
      "\n",
      "['BCHS', 'BEHS', 'Tosa East', 'Tosa West', 'Muskego', 'Men Falls', 'WA Hale']\n",
      "\n",
      "\n",
      "['BCHS', 'BEHS', 'Men Falls', 'Muskego', 'Tosa East', 'Tosa West', 'WA Hale']\n"
     ]
    }
   ],
   "source": [
    "greater_metro = ['BCHS', 'BEHS', 'Arrowhead', 'SH', 'Muskego','Men Falls', 'Heritage Christian', 'Brookfield Academy', 'WA Hale', 'WA Central', 'Franklin']\n",
    "print(greater_metro)\n",
    "print(\"\\n\")\n",
    "\n",
    "index_of_Arrowhead = greater_metro.index('Arrowhead')\n",
    "greater_metro[index_of_Arrowhead] = 'Gtown'\n",
    "\n",
    "index_of_Muskego = greater_metro.index('Muskego')\n",
    "greater_metro[index_of_Muskego] = 'MUHS'\n",
    "print(greater_metro)\n",
    "print(\"\\n\")\n",
    "\n",
    "\n",
    "greater_metro_filtered = ['BCHS', 'BEHS', 'Arrowhead', 'SH', 'Muskego','Men Falls', [], [], 'WA Hale', 'WA Central', 'Franklin']\n",
    "greater_metro = list(filter(None, greater_metro_filtered))\n",
    "print(greater_metro)\n",
    "print(\"\\n\")\n",
    "\n",
    "greater_metro[2] = 'Tosa East'\n",
    "greater_metro[3] = 'Tosa West'\n",
    "print(greater_metro)\n",
    "print(\"\\n\")\n",
    "\n",
    "index_of_WA_Central = greater_metro.index('WA Central')\n",
    "del greater_metro[index_of_WA_Central]\n",
    "\n",
    "index_of_Franklin = greater_metro.index('Franklin')\n",
    "del greater_metro[index_of_Franklin]\n",
    "print(greater_metro)\n",
    "print(\"\\n\")\n",
    "\n",
    "print(sorted(greater_metro))"
   ]
  },
  {
   "cell_type": "markdown",
   "id": "8ef6f141",
   "metadata": {},
   "source": [
    "<div class=\"alert alert-block alert-success\"><b><font size=\"5\">Question #6:</font></b>:\n",
    "<p>&nbsp;</p>    \n",
    "Create a markdown cell to identify / describe at least two important ways that list are different than strings.\n",
    "<p>&nbsp;</p> \n",
    "</div>"
   ]
  },
  {
   "cell_type": "markdown",
   "id": "0e3a5ca2",
   "metadata": {},
   "source": [
    "## Answers for Question #6\n",
    "One major difference is that strings are immutable while lists are mutable. </br>\n",
    "Another major difference is that strings are a sequence of characters while lists can be a list of anything. </br>\n",
    "  "
   ]
  },
  {
   "cell_type": "markdown",
   "id": "6e44f11a",
   "metadata": {},
   "source": [
    "<div class=\"alert alert-block alert-success\"><b><font size=\"5\">Question #7:</font></b>:\n",
    "<p>&nbsp;</p> \n",
    "a.  run the following code and then explain in a Markdown cell what you observed about how the pop() list method works \n",
    "<p>&nbsp;</p> \n",
    "alist_1 = [9, 18, 27, 36, 45, 54, 63, 72, 81, 90]<br>\n",
    "print(alist_1.pop())<br>\n",
    "print(alist_1)<br>\n",
    " \n",
    "print()<br>\n",
    "\n",
    "alist_2 = [9, 18, 27, 36, 45, 54, 63, 72, 81, 90]<br>\n",
    "print(alist_2.pop(4))<br>\n",
    "print(alist_2)<br>\n",
    "<p>&nbsp;</p> \n",
    "b. write code that will print out <b>alist_1</b> in reverse order<br>\n",
    "<p>&nbsp;</p> \n",
    "c. days = \"The days of the week are Sunday, Monday, Tuesday, Wednesday, Thursday, Friday, and Saturday.\"<br>\n",
    "<p>&emsp;</p>... write code that uses the appropriate string method along with the delimiter \"day\" to convert the string <b>days</b> to a list "
   ]
  },
  {
   "cell_type": "markdown",
   "id": "76b655e6",
   "metadata": {},
   "source": [
    "## Answers for Question #7"
   ]
  },
  {
   "cell_type": "code",
   "execution_count": 63,
   "id": "44b02d1f",
   "metadata": {},
   "outputs": [
    {
     "name": "stdout",
     "output_type": "stream",
     "text": [
      "[90, 81, 72, 63, 54, 45, 36, 27, 18, 9]\n",
      "\n",
      "\n",
      "['Sunday,', 'Monday,', 'Tuesday,', 'Wednesday,', 'Thursday,', 'Friday,', 'Saturday.']\n"
     ]
    }
   ],
   "source": [
    "# Code cell for Part a above\n",
    "\n",
    "alist_1 = [9, 18, 27, 36, 45, 54, 63, 72, 81, 90]\n",
    "#print(alist_1.pop())\n",
    "#print(alist_1)\n",
    "\n",
    "alist_2 = [9, 18, 27, 36, 45, 54, 63, 72, 81, 90]\n",
    "#print(alist_2.pop(4))\n",
    "#print(alist_2)\n",
    "\n",
    "#Part B\n",
    "print(alist_1[::-1])\n",
    "print(\"\\n\")\n",
    "#Part C\n",
    "days = \"The days of the week are Sunday, Monday, Tuesday, Wednesday, Thursday, Friday, and Saturday.\"\n",
    "listOfDays = days.split(' ')[6:]\n",
    "listOfDays.remove('and')\n",
    "print(listOfDays)"
   ]
  },
  {
   "cell_type": "markdown",
   "id": "8327af9a",
   "metadata": {},
   "source": [
    "\n",
    "#### Markdown cell for Part a\n",
    "Pop removes the element at the specified position"
   ]
  },
  {
   "cell_type": "markdown",
   "id": "f4ab9474",
   "metadata": {},
   "source": [
    "<div class=\"alert alert-block alert-success\"><b><font size = \"5\">Question #8:</font></b>:\n",
    "<p>&nbsp;</p> \n",
    "<u>Given:</u><br>\n",
    "<p>&nbsp;</p> \n",
    "x = (2 ** 3 ** 2 // 50 / 5)<br>\n",
    "y = (((3.14 + 2.71) * 100) ** 0 + 1)<br>\n",
    "z = 5\n",
    "<p>&nbsp;</p>  \n",
    "<b><i>For each of the Parts a - d below create a Markdown cell to provide your answer.  In those Markdown cells create reference diagrams to support your answer (Hint: use the <u><i>Python Tutor</u></i> link that is found below to help you create the reference diagrams.)<br>\n",
    "<p>&nbsp;</p>A code cell has also been provided that contains some initial lines of code for you to run.  Update this code cell with the proper code that you would need to support your answers to Parts a - d</i></b><br>\n",
    "<p>&nbsp;</p> \n",
    "first_list = [x, z]<br>\n",
    "second_list = [y, z]\n",
    "<p>&nbsp;</p> \n",
    "a. Do the first_list and second_list contain the same elements?\n",
    "<p>&nbsp;</p> \n",
    "b. Do first_list and second_list reference the same object?<br>\n",
    "<p>&nbsp;</p>\n",
    "Add the following line of code in the code cell that has been provided ...<br>\n",
    "<p>&nbsp;</p>\n",
    "first_list = second_list<br>\n",
    "<p>&nbsp;</p>\n",
    "c. Do first_list and second_list now reference the same object?<br> \n",
    "<p>&nbsp;</p> \n",
    "Add the following line of code in the code cell that has been provided ...<br>\n",
    "<p>&nbsp;</p>\n",
    "first_list[1] = 15<br>\n",
    "<p>&nbsp;</p>\n",
    "d. What would the output be for the following print command? What do you notice when you run this print command?<br>\n",
    "<p>&nbsp;</p>\n",
    "print(second_list)\n",
    "<p>&nbsp;</p>\n",
    "    \n",
    "[Python Tutor](https://pythontutor.com/visualize.html#mode=edit)"
   ]
  },
  {
   "cell_type": "markdown",
   "id": "af13ff21",
   "metadata": {},
   "source": [
    "## Answers for Question #8"
   ]
  },
  {
   "cell_type": "code",
   "execution_count": 65,
   "id": "fb1f80d3",
   "metadata": {},
   "outputs": [
    {
     "name": "stdout",
     "output_type": "stream",
     "text": [
      "[2.0, 5]\n",
      "[2.0, 5]\n"
     ]
    }
   ],
   "source": [
    "# Code cell for Question #8\n",
    "\n",
    "x = (2 ** 3 ** 2 // 50 / 5)\n",
    "y = (((3.14 + 2.71) * 100) ** 0 + 1)\n",
    "z = 5\n",
    "\n",
    "first_list = [x, z]\n",
    "second_list = [y, z]\n",
    "first_list = second_list               \n",
    "print(first_list)\n",
    "print(second_list)"
   ]
  },
  {
   "cell_type": "markdown",
   "id": "72d4ae10",
   "metadata": {},
   "source": [
    "#### Markdown cell for 8 a\n",
    "Yes, first_list and second_list contain the same element."
   ]
  },
  {
   "cell_type": "markdown",
   "id": "d21fb354",
   "metadata": {},
   "source": [
    "#### Markdown cell for 8 b\n",
    "No, first_list and second_list reference different objects"
   ]
  },
  {
   "cell_type": "markdown",
   "id": "6866e049",
   "metadata": {},
   "source": [
    "#### Markdown cell for 8 c\n",
    "Yes, now first_list and second_list reference the same objects"
   ]
  },
  {
   "cell_type": "markdown",
   "id": "f2a5da9c",
   "metadata": {},
   "source": [
    "#### Markdown cell for 8 d\n",
    "\n",
    "The first_list and second_list both got updated because they point to the same list. "
   ]
  },
  {
   "cell_type": "markdown",
   "id": "6e8266b8",
   "metadata": {},
   "source": [
    "# <div class=\"alert alert-block alert-success\"><b><font size=\"5\">Question #9:</font></b>:\n",
    "<p>&nbsp;</p>    \n",
    "a. create a string named <b>ds_advice</b> that contains the following passage:\n",
    "<p>&nbsp;</p>   \n",
    "\"Ben Franklin created a step-by-step plan to improve his writing. If you want to master data science, you can actually \n",
    "learn from what Franklin did. He broke everything down and set out to improve at every level. he set out to improve vocabulary,\n",
    "improve sentence structure, and improve organization. He also identified excellent writers and attempted to rewrite and mimic \n",
    "their work himself. Then he would compare his version to the original, so he could identify specific areas that he still \n",
    "needed to improve.\"<br>\n",
    "<p>&nbsp;</p> \n",
    "b. write code to print out <b>ds_advice</b>\n",
    "<p>&nbsp;</p> \n",
    "c. write code to print out on a single line of output the number of characters in <b>ds_advice</b> and the data type of <b>ds_advice</b><br>\n",
    "<p>&nbsp;</p>                                                                                                                    d. write code that uses the appropriate string method to convert <b>ds_advice</b> into a list named <b>ds_advice_list</b>\n",
    "<p>&nbsp;</p>    \n",
    "e. write code to print out <b>ds_advice_list</b>\n",
    "<p>&nbsp;</p> \n",
    "g. write code to print out on a single line of output the number of items in <b>ds_advice_list</b> and the data type of <b>ds_advice_list</b><br>\n",
    "<p>&nbsp;</p>\n",
    "h. write code to print out the position that the item 'improve' first occurs in <b>ds_advice_list</b><br>\n",
    "<p>&nbsp;</p> \n",
    "i.  write code to print out the number of times the item 'improve' occurs in <b>ds_advice_list</b>\n",
    "<p>&nbsp;</p> \n",
    "</div>"
   ]
  },
  {
   "cell_type": "markdown",
   "id": "29583a03",
   "metadata": {},
   "source": [
    "## Answers for Question #9"
   ]
  },
  {
   "cell_type": "code",
   "execution_count": 71,
   "id": "b527c4b5",
   "metadata": {},
   "outputs": [
    {
     "name": "stdout",
     "output_type": "stream",
     "text": [
      "Ben Franklin created a step-by-step plan to improve his writing. If you want to master data science, you can actually learn from what Franklin did. He broke everything down and set out to improve at every level. he set out to improve vocabulary, improve sentence structure, and improve organization. He also identified excellent writers and attempted to rewrite and mimic their work himself. Then he would compare his version to the original, so he could identify specific areas that he still needed to improve.\n",
      "\n",
      "\n",
      "511 <class 'str'>\n",
      "Ben Franklin created a step-by-step plan to improve his writing. If you want to master data science, you can actually learn from what Franklin did. He broke everything down and set out to improve at every level. he set out to improve vocabulary, improve sentence structure, and improve organization. He also identified excellent writers and attempted to rewrite and mimic their work himself. Then he would compare his version to the original, so he could identify specific areas that he still needed to improve.\n",
      "\n",
      "\n",
      "44\n",
      "\n",
      "\n",
      "6\n"
     ]
    }
   ],
   "source": [
    "ds_advice = \"Ben Franklin created a step-by-step plan to improve his writing. If you want to master data science, you can actually learn from what Franklin did. He broke everything down and set out to improve at every level. he set out to improve vocabulary, improve sentence structure, and improve organization. He also identified excellent writers and attempted to rewrite and mimic their work himself. Then he would compare his version to the original, so he could identify specific areas that he still needed to improve.\"\n",
    "print(ds_advice)\n",
    "print(\"\\n\")\n",
    "\n",
    "print(len(ds_advice), type(ds_advice))\n",
    "ds_advice_list = ''.join(ds_advice)\n",
    "print(ds_advice_list)\n",
    "print(\"\\n\")\n",
    "print(ds_advice_list.index('improve'))\n",
    "print(\"\\n\")\n",
    "print(ds_advice_list.count('improve'))"
   ]
  },
  {
   "cell_type": "markdown",
   "id": "60d4bb73",
   "metadata": {},
   "source": [
    "<div class=\"alert alert-block alert-success\"><b><font size=\"5\">Question #10:</font></b>:\n",
    "<p>&nbsp;</p>\n",
    "a. Create a list called <b>myList</b> with the following six items: 76, 92.3, “hello”, True, 4, 76. \n",
    "<p>&nbsp;</p>\n",
    "Using the following guidelines, begin with the empty list and add 4 statements to create <b>myList</b>:\n",
    "<p>&nbsp;</p>\n",
    "1st Statement: Use the append() method to add the first item to the list.<br>\n",
    "2nd Statement: Use the append() method to add the second item to the list.<br>\n",
    "3rd Statement: Use the extend() method to add the third and fourth items to the list.<br>\n",
    "4th Statement: Use concatenation to add the fifth and sixth items to the list.<br>\n",
    "<p>&nbsp;</p>\n",
    "b. append “apple” and 76 to the list and print the result\n",
    "<p>&nbsp;</p>\n",
    "c. insert the value “cat” at position 3 and print the result\n",
    "<p>&nbsp;</p>\n",
    "d. insert the value 99 at the start of the list and print the result\n",
    "<p>&nbsp;</p>\n",
    "e. find the index of “hello” and print the result\n",
    "<p>&nbsp;</p>\n",
    "f. count the number of 76s in the list and print the result\n",
    "<p>&nbsp;</p>\n",
    "g. remove the first occurrence of 76 from the list and print the result\n",
    "<p>&nbsp;</p>\n",
    "h. Remove True from the list using pop and index and print the result\n",
    "<p>&nbsp;</p> \n",
    "</div>"
   ]
  },
  {
   "cell_type": "markdown",
   "id": "545531c3",
   "metadata": {},
   "source": [
    "## Answer for Question #10"
   ]
  },
  {
   "cell_type": "code",
   "execution_count": 91,
   "id": "c3398d7b",
   "metadata": {},
   "outputs": [
    {
     "name": "stdout",
     "output_type": "stream",
     "text": [
      "[76, 92.3, 'hello', True, 4, 76, 'apple', 76]\n",
      "\n",
      "\n",
      "[76, 92.3, 'hello', 'cat', True, 4, 76, 'apple', 76]\n",
      "\n",
      "\n",
      "[99, 76, 92.3, 'hello', 'cat', True, 4, 76, 'apple', 76]\n",
      "\n",
      "\n",
      "3\n",
      "\n",
      "\n",
      "3\n",
      "\n",
      "\n",
      "[99, 92.3, 'hello', 'cat', True, 4, 76, 'apple', 76]\n",
      "\n",
      "\n",
      "[99, 92.3, 'hello', 'cat', 4, 76, 'apple', 76]\n",
      "\n",
      "\n"
     ]
    }
   ],
   "source": [
    "myList=[]\n",
    "myList.append(76)\n",
    "myList.append(92.3)\n",
    "myList.extend([\"hello\", True])\n",
    "myList += [4, 76]\n",
    "myList.append('apple')\n",
    "myList.append(76)\n",
    "print(myList)\n",
    "print(\"\\n\")\n",
    "myList[3:3] = ['cat']\n",
    "print(myList)\n",
    "print(\"\\n\")\n",
    "myList[0:0] = [99]\n",
    "print(myList)\n",
    "print(\"\\n\")\n",
    "print(myList.index(\"hello\"))\n",
    "print(\"\\n\")\n",
    "print(myList.count(76))\n",
    "print(\"\\n\")\n",
    "myList.remove(76)\n",
    "print(myList)\n",
    "print(\"\\n\")\n",
    "indexOfBool = myList.index(True)\n",
    "myList.pop(indexOfBool)\n",
    "print(myList)\n",
    "print(\"\\n\")"
   ]
  },
  {
   "cell_type": "markdown",
   "id": "5af5a58f",
   "metadata": {},
   "source": [
    "<div class=\"alert alert-block alert-danger\"><b>Note:</b> \n",
    "<p>&nbsp;</p> \n",
    "- Once you are satisfied with the results, submit your .ipynb notebook and a pdf and/or html file to Google Classroom. \n",
    "<p>&nbsp;</p> \n",
    "-Your files should include all output, i.e. run each cell and save your file before submitting.\n",
    "<p>&nbsp;</p> \n",
    "</div>"
   ]
  },
  {
   "cell_type": "code",
   "execution_count": null,
   "id": "ecb168ca",
   "metadata": {},
   "outputs": [],
   "source": []
  }
 ],
 "metadata": {
  "kernelspec": {
   "display_name": "Python 3 (ipykernel)",
   "language": "python",
   "name": "python3"
  },
  "language_info": {
   "codemirror_mode": {
    "name": "ipython",
    "version": 3
   },
   "file_extension": ".py",
   "mimetype": "text/x-python",
   "name": "python",
   "nbconvert_exporter": "python",
   "pygments_lexer": "ipython3",
   "version": "3.9.12"
  }
 },
 "nbformat": 4,
 "nbformat_minor": 5
}
