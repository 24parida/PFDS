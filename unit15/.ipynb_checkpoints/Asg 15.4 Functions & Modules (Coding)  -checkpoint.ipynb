{
 "cells": [
  {
   "cell_type": "markdown",
   "id": "a141f852",
   "metadata": {},
   "source": [
    "# <center>Unit 15\n",
    "# <center>Functions & Modules</center>\n",
    "# <center>Asg 15.2 (Coding)</center>"
   ]
  },
  {
   "cell_type": "code",
   "execution_count": 12,
   "id": "28565f21",
   "metadata": {
    "id": "28565f21",
    "outputId": "e53152ac-90d8-4a91-a070-b0534de28437"
   },
   "outputs": [
    {
     "name": "stdout",
     "output_type": "stream",
     "text": [
      "The notebook is set up to display multiple output in one cell.\n"
     ]
    }
   ],
   "source": [
    "# set up notebook to display multiple output in one cell\n",
    "\n",
    "from IPython.core.interactiveshell import InteractiveShell\n",
    "InteractiveShell.ast_node_interactivity = \"all\"\n",
    "\n",
    "print('The notebook is set up to display multiple output in one cell.')\n"
   ]
  },
  {
   "cell_type": "markdown",
   "id": "3184e0d6",
   "metadata": {},
   "source": [
    "<div class=\"alert alert-block alert-success\"><b>Practice Problem #1:</b>\n",
    "\n",
    "Write a fruitful function <mark>sumTo(n)</mark> that returns the sum of all natural numbers up to and including n. So sumTo(10) would be 1 + 2 + 3 + ... + 10 which would return the value 55. Use the equation (n * (n + 1)) / 2.</b><br>\n",
    "    \n",
    "</div>"
   ]
  },
  {
   "cell_type": "code",
   "execution_count": null,
   "id": "fa362ab5",
   "metadata": {},
   "outputs": [],
   "source": []
  },
  {
   "cell_type": "markdown",
   "id": "4bedef00",
   "metadata": {},
   "source": [
    "<div class=\"alert alert-block alert-success\"><b>Practice Problem #2:</b>\n",
    "\n",
    "Rewrite the function <mark>sumTo(n)</mark> that returns the sum of all integer numbers up to and including n. This time use the <b>accumulator pattern</b>.\n",
    "    \n",
    "</div>"
   ]
  },
  {
   "cell_type": "code",
   "execution_count": null,
   "id": "2862aca8",
   "metadata": {},
   "outputs": [],
   "source": []
  },
  {
   "cell_type": "markdown",
   "id": "ebcfd66d",
   "metadata": {},
   "source": [
    "<div class=\"alert alert-block alert-success\"><b>Practice Problem #3:</b>\n",
    "\n",
    "Write a fruitful function that adds the first n positive odd integers without using an <b>accumulator function</b>.<br>    \n",
    "\n",
    "</div>"
   ]
  },
  {
   "cell_type": "code",
   "execution_count": null,
   "id": "47d667e4",
   "metadata": {},
   "outputs": [],
   "source": []
  },
  {
   "cell_type": "markdown",
   "id": "1e23cd30",
   "metadata": {},
   "source": [
    "<div class=\"alert alert-block alert-success\"><b>Practice Problem #4:</b>\n",
    "\n",
    "Write a fruitful function that adds the first n positive odd integers that uses an <b>accumulator function</b>.<br>    \n",
    "\n",
    "</div>"
   ]
  },
  {
   "cell_type": "code",
   "execution_count": null,
   "id": "fcbdff2d",
   "metadata": {},
   "outputs": [],
   "source": []
  },
  {
   "cell_type": "markdown",
   "id": "385651e3",
   "metadata": {},
   "source": [
    "<div class=\"alert alert-block alert-success\"><b>Practice Problem #5:</b><br>\n",
    "    \n",
    "Write a function called <mark>mySqrt</mark> that will approximate the square root of a number, call it n, by using Newton’s algorithm. Newton’s approach is an iterative guessing algorithm where the initial guess is n/2 and each subsequent guess is computed using the formula: newguess = (1/2) * (oldguess + (n/oldguess)).\n",
    "<br>    \n",
    "\n",
    "</div>"
   ]
  },
  {
   "cell_type": "code",
   "execution_count": null,
   "id": "148fda4e",
   "metadata": {},
   "outputs": [],
   "source": []
  },
  {
   "cell_type": "markdown",
   "id": "49c2b951",
   "metadata": {},
   "source": [
    "\n",
    "    "
   ]
  }
 ],
 "metadata": {
  "colab": {
   "name": "15 Functions & Modules Presentation 1 (JN) .ipynb",
   "provenance": []
  },
  "kernelspec": {
   "display_name": "Python 3 (ipykernel)",
   "language": "python",
   "name": "python3"
  },
  "language_info": {
   "codemirror_mode": {
    "name": "ipython",
    "version": 3
   },
   "file_extension": ".py",
   "mimetype": "text/x-python",
   "name": "python",
   "nbconvert_exporter": "python",
   "pygments_lexer": "ipython3",
   "version": "3.9.12"
  }
 },
 "nbformat": 4,
 "nbformat_minor": 5
}
