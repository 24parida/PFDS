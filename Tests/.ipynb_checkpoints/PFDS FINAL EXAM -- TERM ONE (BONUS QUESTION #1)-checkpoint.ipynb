{
 "cells": [
  {
   "cell_type": "markdown",
   "id": "b8a86e57",
   "metadata": {},
   "source": [
    "# PFDS: FINAL EXAM -- TERM ONE (BONUS QUESTION #1)"
   ]
  },
  {
   "cell_type": "markdown",
   "id": "3ae13d0f",
   "metadata": {},
   "source": [
    "Write a program to print twin primes less than 1000. \n",
    "\n",
    "- If two consecutive odd numbers are both prime then they are known as twin primes"
   ]
  },
  {
   "cell_type": "code",
   "execution_count": 4,
   "id": "3cc25007",
   "metadata": {},
   "outputs": [
    {
     "name": "stdout",
     "output_type": "stream",
     "text": [
      "Twin primes less than 1000: \n",
      "0 and 2\n",
      "1 and 3\n",
      "3 and 5\n",
      "5 and 7\n",
      "11 and 13\n",
      "17 and 19\n",
      "29 and 31\n",
      "41 and 43\n",
      "59 and 61\n",
      "71 and 73\n",
      "101 and 103\n",
      "107 and 109\n",
      "137 and 139\n",
      "149 and 151\n",
      "179 and 181\n",
      "191 and 193\n",
      "197 and 199\n",
      "227 and 229\n",
      "239 and 241\n",
      "269 and 271\n",
      "281 and 283\n",
      "311 and 313\n",
      "347 and 349\n",
      "419 and 421\n",
      "431 and 433\n",
      "461 and 463\n",
      "521 and 523\n",
      "569 and 571\n",
      "599 and 601\n",
      "617 and 619\n",
      "641 and 643\n",
      "659 and 661\n",
      "809 and 811\n",
      "821 and 823\n",
      "827 and 829\n",
      "857 and 859\n",
      "881 and 883\n"
     ]
    }
   ],
   "source": [
    "def is_prime(num):\n",
    "    for i in range(2, num):\n",
    "        if num % i == 0:\n",
    "            return False\n",
    "    return True\n",
    "def generate_twins(end):\n",
    "    for i in range(end):\n",
    "        j = i +2\n",
    "        if(is_prime(i) and is_prime(j)):\n",
    "            print(f\"{i} and {j}\")\n",
    "print(\"Twin primes less than 1000: \")\n",
    "generate_twins(1000)"
   ]
  },
  {
   "cell_type": "code",
   "execution_count": null,
   "id": "3c8f380c",
   "metadata": {},
   "outputs": [],
   "source": []
  }
 ],
 "metadata": {
  "kernelspec": {
   "display_name": "Python 3 (ipykernel)",
   "language": "python",
   "name": "python3"
  },
  "language_info": {
   "codemirror_mode": {
    "name": "ipython",
    "version": 3
   },
   "file_extension": ".py",
   "mimetype": "text/x-python",
   "name": "python",
   "nbconvert_exporter": "python",
   "pygments_lexer": "ipython3",
   "version": "3.9.12"
  }
 },
 "nbformat": 4,
 "nbformat_minor": 5
}
