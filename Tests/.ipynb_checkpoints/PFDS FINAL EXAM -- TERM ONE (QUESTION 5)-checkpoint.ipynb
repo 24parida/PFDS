{
 "cells": [
  {
   "cell_type": "markdown",
   "id": "b8a86e57",
   "metadata": {},
   "source": [
    "# PFDS: FINAL EXAM -- TERM ONE (QUESTION 5)"
   ]
  },
  {
   "cell_type": "markdown",
   "id": "7a3a7589",
   "metadata": {},
   "source": [
    "### What is a leap year?\n",
    "\n",
    "The year which contains an extra day (366 days instead of 365 days) is known as a leap year. The day is added in February and it is 29th February (as per Gregorian Calendar). That’s why 29th February is called the leap day.\n",
    "\n",
    "### Why does leap year happen?\n",
    "\n",
    "Earth completes a single rotation around the sun exactly by 365.242375 days.\n",
    "But we count 365 days in a year. So there have an extra 0.242375 days in a complete rotation. After 400 years there are about 96.95 or 97 days extra. To catch up these extra days we count a year of 366 days in every 4th year. If we count an extra day in every 4th year, we can get 100 (400/4) leap years in 400 years. That means 100 extra days are added in 400 years to catch up with the extra 97 days. But this is not also accurate as there are added extra 3 days. To resolve this problem we count 97 leap years in 400 years instead of 100 leap years. So we exclude 100th, 200th and 300th years (which are exactly divided by 100) from the list of leap years.\n",
    "\n",
    "### How to calculate leap year?\n",
    "\n",
    "To calculate a year whether it leap or not, you have to go through 3 simple steps.\n",
    "\n",
    "1. If the year is not divisible by 4, then it is not a leap year. If the year is divisible by 4, then go to the next step.<br>\n",
    "2. If the year is not divisible by 100, then it is a leap year. If divisible, then go to the last step.<br>\n",
    "3. If the year is divisible by 400, then it is a leap year. If not, then it is not a leap year.<br>\n",
    "\n",
    "By these three steps, we can find out if a year is a leap or not."
   ]
  },
  {
   "cell_type": "markdown",
   "id": "f5101b47",
   "metadata": {},
   "source": [
    "<b>Your Task</b>:  Write a program that asks a user for their name and birth year and then returns a statement similar to the following statement.<br>\n",
    "<p>&nbsp;</p>\n",
    "\n",
    "<center><i>Your name is Tom and you were born in 1992, which is a leap year.</i></center>\n",
    "\n",
    "<b>How to test your program</b>: \n",
    "\n",
    "Find two years that are leap years and two years that aren't leap years and use those 4 years to test your program.<br>\n",
    "\n",
    "***\n",
    "\n",
    "Note:  As an alternative you can makea table that has two columns -- one for Year (where 1990 <= Year <= 2025) and one for Leap Year (which will return either True or False). Also include a statement that gives the number of leap years from 1990 to 2025, inclusive."
   ]
  },
  {
   "cell_type": "code",
   "execution_count": 11,
   "id": "b937cb3f",
   "metadata": {},
   "outputs": [
    {
     "name": "stdout",
     "output_type": "stream",
     "text": [
      "1990                 False\n",
      "1991                 False\n",
      "1992                 True\n",
      "1993                 False\n",
      "1994                 False\n",
      "1995                 False\n",
      "1996                 True\n",
      "1997                 False\n",
      "1998                 False\n",
      "1999                 False\n",
      "2000                 True\n",
      "2001                 False\n",
      "2002                 False\n",
      "2003                 False\n",
      "2004                 True\n",
      "2005                 False\n",
      "2006                 False\n",
      "2007                 False\n",
      "2008                 True\n",
      "2009                 False\n",
      "2010                 False\n",
      "2011                 False\n",
      "2012                 True\n",
      "2013                 False\n",
      "2014                 False\n",
      "2015                 False\n",
      "2016                 True\n",
      "2017                 False\n",
      "2018                 False\n",
      "2019                 False\n",
      "2020                 True\n",
      "2021                 False\n",
      "2022                 False\n",
      "2023                 False\n",
      "2024                 True\n",
      "2025                 False\n",
      "Total number of leap years: 9\n"
     ]
    }
   ],
   "source": [
    "def is_leap_year(year):\n",
    "    if year % 4 != 0:\n",
    "        return False\n",
    "    else:\n",
    "        if year % 100 != 0:\n",
    "            return True\n",
    "        else:\n",
    "            if year % 400 == 0:\n",
    "                return True\n",
    "            else:\n",
    "                return False\n",
    "\n",
    "total = 0     \n",
    "for year in range(1990,2026):\n",
    "    if is_leap_year(year):\n",
    "        total += 1\n",
    "    print(f\"{year: <20} {is_leap_year(year)}\")\n",
    "\n",
    "print(f\"Total number of leap years: {total}\")\n",
    "        "
   ]
  },
  {
   "cell_type": "code",
   "execution_count": null,
   "id": "39a59b57",
   "metadata": {},
   "outputs": [],
   "source": []
  }
 ],
 "metadata": {
  "kernelspec": {
   "display_name": "Python 3 (ipykernel)",
   "language": "python",
   "name": "python3"
  },
  "language_info": {
   "codemirror_mode": {
    "name": "ipython",
    "version": 3
   },
   "file_extension": ".py",
   "mimetype": "text/x-python",
   "name": "python",
   "nbconvert_exporter": "python",
   "pygments_lexer": "ipython3",
   "version": "3.9.12"
  }
 },
 "nbformat": 4,
 "nbformat_minor": 5
}
