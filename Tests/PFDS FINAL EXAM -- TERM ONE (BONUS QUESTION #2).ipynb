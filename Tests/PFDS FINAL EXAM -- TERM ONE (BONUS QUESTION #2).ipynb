{
 "cells": [
  {
   "cell_type": "markdown",
   "id": "b8a86e57",
   "metadata": {},
   "source": [
    "# PFDS: FINAL EXAM -- TERM ONE (BONUS QUESTION #2)"
   ]
  },
  {
   "cell_type": "markdown",
   "id": "3ae13d0f",
   "metadata": {},
   "source": [
    "Write a function prodDigits() that inputs a number and returns the product of digits of that number.\n",
    "\n",
    "- Test Case #1: num = 346\n",
    "- Test Case #2: num = 10521"
   ]
  },
  {
   "cell_type": "code",
   "execution_count": 9,
   "id": "3cc25007",
   "metadata": {},
   "outputs": [
    {
     "name": "stdout",
     "output_type": "stream",
     "text": [
      "The product of the digits in the number 346 is: 72\n",
      "The product of the digits in the number 10521 is: 0\n"
     ]
    }
   ],
   "source": [
    "def prodDigits(num):\n",
    "    total = 1\n",
    "    num = str(num)\n",
    "    for x in num:\n",
    "        x = int(x)\n",
    "        total *= x\n",
    "    return total\n",
    "print(f\"The product of the digits in the number 346 is: {prodDigits(346)}\")\n",
    "\n",
    "print(f\"The product of the digits in the number 10521 is: {prodDigits(10521)}\")\n",
    "        "
   ]
  }
 ],
 "metadata": {
  "kernelspec": {
   "display_name": "Python 3 (ipykernel)",
   "language": "python",
   "name": "python3"
  },
  "language_info": {
   "codemirror_mode": {
    "name": "ipython",
    "version": 3
   },
   "file_extension": ".py",
   "mimetype": "text/x-python",
   "name": "python",
   "nbconvert_exporter": "python",
   "pygments_lexer": "ipython3",
   "version": "3.9.12"
  }
 },
 "nbformat": 4,
 "nbformat_minor": 5
}
