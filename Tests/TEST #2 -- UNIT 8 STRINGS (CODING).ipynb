{
 "cells": [
  {
   "cell_type": "markdown",
   "id": "c9dc6a15",
   "metadata": {},
   "source": [
    "# <center>PYTHON FOR DATA SCIENCE</center>\n",
    "# <center>TEST #2 (UNIT 8)</center>\n",
    "# <center>PART TWO (CODING)</center>"
   ]
  },
  {
   "cell_type": "markdown",
   "id": "5bd26251",
   "metadata": {},
   "source": [
    "<div class=\"alert alert-block alert-danger\">\n",
    "1. You can add code cells as you see fit.<br>\n",
    "2. When you complete this portion of the test, upload your completed version to Google Classroom as both a Jupyter Notebook .ipynb file and as a PDF."
   ]
  },
  {
   "cell_type": "code",
   "execution_count": 28,
   "id": "37373077",
   "metadata": {},
   "outputs": [
    {
     "name": "stdout",
     "output_type": "stream",
     "text": [
      "This notebook has been set up to display multiple output in one cell.\n"
     ]
    }
   ],
   "source": [
    "# set up notebook to display multiple output in one cell\n",
    "\n",
    "from IPython.core.interactiveshell import InteractiveShell\n",
    "InteractiveShell.ast_node_interactivity = \"all\"\n",
    "\n",
    "print(\"This notebook has been set up to display multiple output in one cell.\")"
   ]
  },
  {
   "cell_type": "markdown",
   "id": "a478519b",
   "metadata": {},
   "source": [
    "<div class=\"alert alert-block alert-info\"><b>Question #1:</b> \n",
    "    \n",
    "<b>Write the code that will do the following:</b>\n",
    "\n",
    "a. assign the string ‘list, set, tuple, and dictionary’ to the variable <b>data_structures</b> and prints out the result<br>\n",
    "b. print out the letter u from <b>data_structures</b><br>\n",
    "c. print out the the letters tuple from <b>data_structures</b><br>\n",
    "d. print out the letters diction from <b>data_strucures</b> using negative indexes<br>\n",
    "e. print out every fifth letter starting with the letter s in list and ending with the letter d in dictionary<br>\n",
    "f. print out <b>data_structures</b> backward to produce yranoitcid dna ,elput ,tes ,tsil<br>\n",
    "</div>"
   ]
  },
  {
   "cell_type": "code",
   "execution_count": 29,
   "id": "02d20d49",
   "metadata": {},
   "outputs": [],
   "source": [
    "# Part (a)\n",
    "data_structures = 'list, set, tuple, and dictionary' "
   ]
  },
  {
   "cell_type": "code",
   "execution_count": 30,
   "id": "9cfdd327",
   "metadata": {},
   "outputs": [
    {
     "name": "stdout",
     "output_type": "stream",
     "text": [
      "u\n"
     ]
    }
   ],
   "source": [
    "# Part (b)\n",
    "print(data_structures[12])"
   ]
  },
  {
   "cell_type": "code",
   "execution_count": 31,
   "id": "a0723dae",
   "metadata": {},
   "outputs": [
    {
     "name": "stdout",
     "output_type": "stream",
     "text": [
      "tuple\n"
     ]
    }
   ],
   "source": [
    "# Part (c)\n",
    "print(data_structures[11:16])"
   ]
  },
  {
   "cell_type": "code",
   "execution_count": 32,
   "id": "8428918d",
   "metadata": {},
   "outputs": [
    {
     "name": "stdout",
     "output_type": "stream",
     "text": [
      "diction\n"
     ]
    }
   ],
   "source": [
    "# Part (d)\n",
    "print(data_structures[-10:-3])"
   ]
  },
  {
   "cell_type": "code",
   "execution_count": 33,
   "id": "6669f667",
   "metadata": {},
   "outputs": [
    {
     "name": "stdout",
     "output_type": "stream",
     "text": [
      "seu d\n"
     ]
    }
   ],
   "source": [
    "# Part (e)\n",
    "print(data_structures[2:23:5])"
   ]
  },
  {
   "cell_type": "code",
   "execution_count": 34,
   "id": "93fc8a74",
   "metadata": {},
   "outputs": [
    {
     "name": "stdout",
     "output_type": "stream",
     "text": [
      "yranoitcid dna ,elput ,tes ,tsil\n"
     ]
    }
   ],
   "source": [
    "# Part (f)\n",
    "print(data_structures[::-1])"
   ]
  },
  {
   "cell_type": "markdown",
   "id": "c9213fee",
   "metadata": {},
   "source": [
    "<div class=\"alert alert-block alert-info\"><b>Question #2:</b>\n",
    "\n",
    "<b>Write the code that will do the following:</b>\n",
    "\n",
    "a. Define the designated strings as indicated below:<br>\n",
    "    \n",
    "           a = “ Python”     b = “Everything ”     c = “is ”    d = “ cool!”    e = “ so”    f = “about”\n",
    "\n",
    "b. Combine the strings a, b, c, d, e, and f to print out the “Everything about Python is so cool!”<br>\n",
    "c. Print out “Everything about Python is sososo cool!”<br>\n",
    "d. Print out “Everything about Python is so cool!Everything about Python is so cool!”\n",
    "    \n",
    "</div>"
   ]
  },
  {
   "cell_type": "code",
   "execution_count": 35,
   "id": "81394626",
   "metadata": {},
   "outputs": [
    {
     "name": "stdout",
     "output_type": "stream",
     "text": [
      "Everything about Python is so cool!\n"
     ]
    }
   ],
   "source": [
    "# Part (a)\n",
    "a = \" Python\"     \n",
    "b = \"Everything \"\n",
    "c = \"is \"    \n",
    "d = \" cool!\"    \n",
    "e = \" so\"    \n",
    "f = \"about\"\n",
    "\n",
    "print(f\"{b}{f}{a} {c.rstrip()}{e}{d}\")"
   ]
  },
  {
   "cell_type": "code",
   "execution_count": 36,
   "id": "49066345",
   "metadata": {},
   "outputs": [
    {
     "name": "stdout",
     "output_type": "stream",
     "text": [
      "Everything about Python is soso cool!\n"
     ]
    }
   ],
   "source": [
    "# Part (b)\n",
    "print(f\"{b}{f}{a} {c.rstrip()}{e.rstrip()}{e.lstrip()}{d}\")"
   ]
  },
  {
   "cell_type": "code",
   "execution_count": 37,
   "id": "446284e5",
   "metadata": {},
   "outputs": [
    {
     "name": "stdout",
     "output_type": "stream",
     "text": [
      "Everything about Python is so cool!Everything about Python is so cool!\n"
     ]
    }
   ],
   "source": [
    "# Part (c)\n",
    "print(f\"{b}{f}{a} {c.rstrip()}{e.rstrip()}{d}\" * 2)"
   ]
  },
  {
   "cell_type": "markdown",
   "id": "f18b86a6",
   "metadata": {},
   "source": [
    "<div class=\"alert alert-block alert-info\"><b>Question #3:</b> \n",
    "    \n",
    "newspaper = “New York Times”\n",
    "\n",
    "<b>Write out the code that will do the following:</b><br>\n",
    "\n",
    "a. Print out NEW YORK TIMES by using the appropriate method on the string newspaper.<br>\n",
    "b. Print out New york times by using the appropriate method on the string newspaper.<br>\n",
    "c. Print out the number of times the character ‘e’ appears in newspaper.<br>\n",
    "\n",
    "</div>"
   ]
  },
  {
   "cell_type": "code",
   "execution_count": 38,
   "id": "dcafcc66",
   "metadata": {},
   "outputs": [
    {
     "name": "stdout",
     "output_type": "stream",
     "text": [
      "NEW YORK TIMES\n"
     ]
    }
   ],
   "source": [
    "# Part (a)\n",
    "newspaper = \"New York Times\"\n",
    "print(newspaper.upper())"
   ]
  },
  {
   "cell_type": "code",
   "execution_count": 39,
   "id": "5392209c",
   "metadata": {},
   "outputs": [
    {
     "name": "stdout",
     "output_type": "stream",
     "text": [
      "new york times\n"
     ]
    }
   ],
   "source": [
    "# Part (b)\n",
    "print(newspaper.lower())"
   ]
  },
  {
   "cell_type": "code",
   "execution_count": 40,
   "id": "4b7ef6ab",
   "metadata": {},
   "outputs": [
    {
     "name": "stdout",
     "output_type": "stream",
     "text": [
      "2\n"
     ]
    }
   ],
   "source": [
    "# Part (c)\n",
    "print(newspaper.count('e'))"
   ]
  },
  {
   "cell_type": "markdown",
   "id": "9d113c2a",
   "metadata": {},
   "source": [
    "<div class=\"alert alert-block alert-info\"><b>Question #4:</b>\n",
    "\n",
    "hot_field = “     Machine Learning     “\n",
    "\n",
    "str = “list, set, tuple, and thesaurus are Python data structures”\n",
    "     \n",
    "<b>Write out the code that will do the following:</b>\n",
    "\n",
    "a. Use the appropriate method on the string hot_field to print out a corresponding string with the leading and trailing white space removed<br>\n",
    "b. use the appropriate method on the string str to print out a string that replaces the word thesaurus with the word dictionary<br>\n",
    "        \n",
    "</div>"
   ]
  },
  {
   "cell_type": "code",
   "execution_count": 41,
   "id": "a7fbd3bd",
   "metadata": {},
   "outputs": [
    {
     "name": "stdout",
     "output_type": "stream",
     "text": [
      "Machine Learning\n",
      "list, set, tuple, and dictionary are Python data structures\n"
     ]
    }
   ],
   "source": [
    "# Part (a)\n",
    "hot_field = \" Machine Learning \"\n",
    "\n",
    "string = \"list, set, tuple, and thesaurus are Python data structures\"\n",
    "\n",
    "print(hot_field.strip())\n",
    "print(string.replace('thesaurus', 'dictionary'))"
   ]
  },
  {
   "cell_type": "markdown",
   "id": "e7af2c7e",
   "metadata": {},
   "source": [
    "<div class=\"alert alert-block alert-info\"><b>Question #5:</b>\n",
    "\n",
    "You will need the following formula to complete this problem. For simplicity, we will assume payments would be made monthly and the interest would be compounded monthly.\n",
    "\n",
    "Use the following formula to calculate a monthly payment:\n",
    "\\begin{equation}\n",
    "M = P\\left[ \\frac{r\\left( 1+r\\right)^n}{\\left( 1+r\\right)^n-1} \\right]\n",
    "\\end{equation}\n",
    "\n",
    "\n",
    "The variables are defined as follows:<br><br>\n",
    "\\$ r\\$ = The annual interest rate converted to a decimal then divided by \\$ 12\\$<br>\n",
    "\\$ n\\$ = The total number of monthly payments for the duration of the loan<br>\n",
    "\\$P \\$ = The principal (or loan) amount<br>\n",
    "\\$M \\$ = The monthly payment\n",
    "  \n",
    "</div>"
   ]
  },
  {
   "cell_type": "markdown",
   "id": "d9602fb3",
   "metadata": {},
   "source": [
    "<div class=\"alert alert-block alert-info\"><b>Question #5 (Continued):</b>\n",
    "\n",
    "For example, to calculate the monthly payment on a 30-year loan of 200,000 dollars with an annual interest rate of 2.25%, the variable amounts for the first formula would be:<br>\n",
    "\n",
    "\\$ r\\$ =  0.0225/12 = 0.001875<br>\n",
    "\\$ n \\$ =  360<br>\n",
    "\\$ P\\$ =  200000\n",
    "\n",
    "Which will result in a monthly payment of  𝑀=  $764.49<br>\n",
    "  \n",
    "</div>"
   ]
  },
  {
   "cell_type": "markdown",
   "id": "95d27aab",
   "metadata": {},
   "source": [
    "<div class=\"alert alert-block alert-info\"><b>Question #5 (Continued):</b>\n",
    "\n",
    "For this problem, write a program that calculates a monthly loan payment (for a large purchase). This will involve doing the following:<br>\n",
    "1. Prompt the user to enter the loan amount, the total number of monthly payments for the duration of the loan, and the annual interest rate.<br>\n",
    "2. Use the formula that has been provided above to calculate the monthly payment amount.<br>\n",
    "3. Write the appropriate code to produce output that resembles the sample output found below.<br>\n",
    "\n",
    "<b>Sample Output</b>\n",
    "    \n",
    "Loan Details:<br>\n",
    "<p>&nbsp;</p>\n",
    "The annual interest rate on your loan is ____.<br>\n",
    "The  total number of monthly payments for the duration of your loan is ____ months.<br>\n",
    "The loan amount for your loan is _____.<br>\n",
    "\n",
    "Monthly Payment Summary:<br>\n",
    "\n",
    "Given these details, your monthly payment will be _____. (Note: This answer should be given to the nearest hundredths place.)\n",
    "\n",
    "\n",
    "***\n",
    "\n",
    "Test your program by using the following information:\n",
    "\n",
    "annual interest rate = 4.2%<br>\n",
    "duration of loan = 20 years<br>\n",
    "loan amount = $450,000<br>\n",
    "  \n",
    "</div>"
   ]
  },
  {
   "cell_type": "code",
   "execution_count": 42,
   "id": "4816eb0c",
   "metadata": {},
   "outputs": [
    {
     "name": "stdout",
     "output_type": "stream",
     "text": [
      "Enter the loan amount: 450000\n",
      "Enter the total number of monthly payments for the duration of the loan: 240\n",
      "Enter the annual interest rate: 0.042\n",
      "\n",
      "Loan Details: \n",
      " \n",
      "The annual interest rate on your loan is: 0.003500\n",
      "The total number of monthly payments for the duration of your loan is 240 months\n",
      "The loan amount for your loan is: 450000\n",
      "\n",
      "\n",
      "Monthly Payment Summary:\n",
      "Given these details, your monthly payment will be: 2774.57\n"
     ]
    }
   ],
   "source": [
    "P = int(input(\"Enter the loan amount: \"))\n",
    "n = int(input(\"Enter the total number of monthly payments for the duration of the loan: \"))\n",
    "r = float(input(\"Enter the annual interest rate: \"))\n",
    "r /= 12\n",
    "formula = (P) * (  ( (r) * ((1+r)**n) ) / ( ((1+r)**n) -1   )   )\n",
    "\n",
    "print(\"\\nLoan Details: \\n \")\n",
    "\n",
    "print(\"The annual interest rate on your loan is: %.6f\"%(r))\n",
    "print(f\"The total number of monthly payments for the duration of your loan is {n} months\")\n",
    "print(f\"The loan amount for your loan is: {P}\")\n",
    "print(\"\\n\")\n",
    "print(\"Monthly Payment Summary:\")\n",
    "print(\"Given these details, your monthly payment will be: %.2f\"%(formula))"
   ]
  },
  {
   "cell_type": "markdown",
   "id": "5f6664cc",
   "metadata": {},
   "source": [
    "<div class=\"alert alert-block alert-info\"><b>Question #6:</b>\n",
    "\n",
    "The winner of the 2021 Tokyo Olympics Men's Marathon was Eliud Kipchoge in a time of 7718 seconds.<br>\n",
    "Write code to calculate and print out the winning time in hours, minutes, and seconds.<br>\n",
    "\n",
    "Your output should look as follows:\n",
    "\n",
    "<i>The winning time in this year's Olympics Men's Marathon was _________________________________ hours, _________ minutes, and _____ seconds.</i>\n",
    "\n",
    "                                                                                                                                 \n",
    "</div>"
   ]
  },
  {
   "cell_type": "code",
   "execution_count": 43,
   "id": "01ee7553",
   "metadata": {},
   "outputs": [
    {
     "name": "stdout",
     "output_type": "stream",
     "text": [
      "Enter the winning time in seconds for this year's Olympics Men's Marathon: 7718\n",
      "The winning time in this year's Olympics Men's Marathon was 2 hours, 8 minutes, and 38 seconds.\n"
     ]
    }
   ],
   "source": [
    "seconds = int(input(\"Enter the winning time in seconds for this year's Olympics Men's Marathon: \"))\n",
    "\n",
    "seconds = seconds % (24 * 3600)\n",
    "hours = seconds // 3600\n",
    "seconds %= 3600\n",
    "minutes = seconds // 60\n",
    "seconds %= 60\n",
    "print(f\"The winning time in this year's Olympics Men's Marathon was {hours} hours, {minutes} minutes, and {seconds} seconds.\")"
   ]
  }
 ],
 "metadata": {
  "kernelspec": {
   "display_name": "Python 3 (ipykernel)",
   "language": "python",
   "name": "python3"
  },
  "language_info": {
   "codemirror_mode": {
    "name": "ipython",
    "version": 3
   },
   "file_extension": ".py",
   "mimetype": "text/x-python",
   "name": "python",
   "nbconvert_exporter": "python",
   "pygments_lexer": "ipython3",
   "version": "3.9.12"
  }
 },
 "nbformat": 4,
 "nbformat_minor": 5
}
