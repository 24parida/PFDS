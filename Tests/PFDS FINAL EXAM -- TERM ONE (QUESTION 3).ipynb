{
 "cells": [
  {
   "cell_type": "code",
   "execution_count": 2,
   "id": "8f8bd8a5",
   "metadata": {},
   "outputs": [],
   "source": [
    "import math"
   ]
  },
  {
   "cell_type": "markdown",
   "id": "14f04c9a",
   "metadata": {},
   "source": [
    "# PFDS: FINAL EXAM -- TERM ONE (QUESTION 3)"
   ]
  },
  {
   "cell_type": "markdown",
   "id": "fe4024cb",
   "metadata": {},
   "source": [
    "## Question 3:\n",
    "\n",
    "Write a function that accepts a variable length set of scores and then returns the following information:\n",
    "\n",
    "a. the mean of the scores\n",
    "\n",
    "b. the median of the scores\n",
    "\n",
    "c. the variance of the scores\n",
    "\n",
    "d. the standard deviation of the scores\n",
    "\n",
    "e.  Bonus:\n",
    "\n",
    "- a 5-Number Summary for the scores\n",
    "- the IQR (interquartile range) for the scores\n",
    "- whether there are any outliers\n"
   ]
  },
  {
   "cell_type": "code",
   "execution_count": 11,
   "id": "214a238b",
   "metadata": {},
   "outputs": [
    {
     "name": "stdout",
     "output_type": "stream",
     "text": [
      "Enter a list of numbers with each number separated by a space: 27424 2724724 2724272 27274274\n",
      "The mean of these numbers is 8187673.5\n",
      "The median of these numbers is 2724498.0\n",
      "The variance of these numbers is 122645140934650.75\n",
      "The standard deviation of these numbers is 11074526.67\n"
     ]
    }
   ],
   "source": [
    "def find_mean(list):\n",
    "    total = 0\n",
    "    for x in list:\n",
    "        total += x\n",
    "    return total/len(list)\n",
    "\n",
    "def find_variance(list):\n",
    "    total = 0\n",
    "    for x in list:\n",
    "        total += (math.pow((x - find_mean(list)),2))\n",
    "    return total/len(list)\n",
    "\n",
    "def find_standard_deviation(list):\n",
    "    return math.sqrt(find_variance(list))\n",
    "\n",
    "def find_median(list):\n",
    "    sortedList = sorted(list)\n",
    "    index = (len(list) - 1) // 2\n",
    "   \n",
    "    if (len(list) % 2):\n",
    "        return sortedList[index]\n",
    "    else:\n",
    "        return (sortedList[index] + sortedList[index + 1])/2.0\n",
    "    \n",
    "num = input(\"Enter a list of numbers with each number separated by a space: \")\n",
    "stringList = num.split()\n",
    "numList = []\n",
    "for x in stringList:\n",
    "    numList.append(int(x))\n",
    "    \n",
    "print(f\"The mean of these numbers is {round(find_mean(numList),2)}\")\n",
    "print(f\"The median of these numbers is {round(find_median(numList),2)}\")\n",
    "print(f\"The variance of these numbers is {round(find_variance(numList),2)}\")\n",
    "print(f\"The standard deviation of these numbers is {round(find_standard_deviation(numList),2)}\")"
   ]
  },
  {
   "cell_type": "code",
   "execution_count": null,
   "id": "9c948b50",
   "metadata": {},
   "outputs": [],
   "source": []
  }
 ],
 "metadata": {
  "kernelspec": {
   "display_name": "Python 3 (ipykernel)",
   "language": "python",
   "name": "python3"
  },
  "language_info": {
   "codemirror_mode": {
    "name": "ipython",
    "version": 3
   },
   "file_extension": ".py",
   "mimetype": "text/x-python",
   "name": "python",
   "nbconvert_exporter": "python",
   "pygments_lexer": "ipython3",
   "version": "3.9.12"
  }
 },
 "nbformat": 4,
 "nbformat_minor": 5
}
