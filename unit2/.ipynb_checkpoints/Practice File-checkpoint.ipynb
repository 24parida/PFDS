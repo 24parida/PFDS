{
 "cells": [
  {
   "cell_type": "markdown",
   "id": "f8ca56e3",
   "metadata": {},
   "source": [
    "# <span style=\"color:#003399\"><center>Hello, my name is Rohit.</center></span>\n",
    "\n",
    "<hr>"
   ]
  },
  {
   "cell_type": "markdown",
   "id": "c1425ae4",
   "metadata": {},
   "source": [
    "# <center><p style=\"color:#003399;font-size:25px;\">In my spare time, I enjoy participating in robotics as a hobby. While it is fun, it also provides the opportunity for me to learn the fundamental concepts of engineering.</p></center>\n",
    "\n",
    "# <div style=\"display: flex;margin-left:1px; vertical-align:left\"> <img src=\"..\\Images/Freight-Frenzy.jpg\" width=\"300\" height =\"200\" style=\"margin-left:0px;margin-right:10px\"> <img src=\"..\\Images\\FTC.jpeg\" style=\"margin-left:20px\" width=\"250px\"> <img src=\"..\\Images/Powerplay.jpg\"></div>\n",
    "<br>\n",
    "\n",
    "# <center><div>  <p style=\"color:#003399;font-size:25px\"> Specifically, I am responsible for the programming side of robotics. This additional hobby allows me to pick up additional software development skills and languages.</p>   <p style=\"color:#003399;font-size:25px;margin-top:20px\">I love to learn different parts of software development and these are the languages I know:</p> </div></center>\n",
    "\n",
    "\n",
    "# <center><div style=\"display: inline-flex;margin-left:1px; vertical-align:left;\"><img src=\"..\\Images/Java.png\" style=\"margin-left:-40px;width:50%;height:75%; position:relative; bottom:-15.5px\"><img src=\"..\\Images\\Python.jpg\" style=\"margin-left:2px;margin-top:0px;width:25%;height:25%\"><img src=\"..\\Images/WebBigThree.png\" style=\"margin-left:2px;width:45%;height:60%\"></div></center>\n",
    "\n",
    "<hr>\n",
    "\n",
    "\n",
    "\n",
    "\n"
   ]
  },
  {
   "cell_type": "code",
   "execution_count": null,
   "id": "fb211a35",
   "metadata": {},
   "outputs": [],
   "source": []
  }
 ],
 "metadata": {
  "kernelspec": {
   "display_name": "Python 3 (ipykernel)",
   "language": "python",
   "name": "python3"
  },
  "language_info": {
   "codemirror_mode": {
    "name": "ipython",
    "version": 3
   },
   "file_extension": ".py",
   "mimetype": "text/x-python",
   "name": "python",
   "nbconvert_exporter": "python",
   "pygments_lexer": "ipython3",
   "version": "3.9.12"
  }
 },
 "nbformat": 4,
 "nbformat_minor": 5
}
