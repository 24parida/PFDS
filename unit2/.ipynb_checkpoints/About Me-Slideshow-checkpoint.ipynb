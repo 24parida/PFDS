{
 "cells": [
  {
   "cell_type": "code",
   "execution_count": 2,
   "id": "8085f51c",
   "metadata": {
    "scrolled": true,
    "slideshow": {
     "slide_type": "skip"
    }
   },
   "outputs": [
    {
     "name": "stdout",
     "output_type": "stream",
     "text": [
      "Requirement already satisfied: RISE in c:\\users\\rohit\\anaconda3\\lib\\site-packages (5.7.1)\n",
      "Requirement already satisfied: notebook>=6.0 in c:\\users\\rohit\\anaconda3\\lib\\site-packages (from RISE) (6.4.8)Note: you may need to restart the kernel to use updated packages.\n",
      "\n",
      "Requirement already satisfied: argon2-cffi in c:\\users\\rohit\\anaconda3\\lib\\site-packages (from notebook>=6.0->RISE) (21.3.0)\n",
      "Requirement already satisfied: tornado>=6.1 in c:\\users\\rohit\\anaconda3\\lib\\site-packages (from notebook>=6.0->RISE) (6.1)\n",
      "Requirement already satisfied: jupyter-core>=4.6.1 in c:\\users\\rohit\\anaconda3\\lib\\site-packages (from notebook>=6.0->RISE) (4.9.2)\n",
      "Requirement already satisfied: ipython-genutils in c:\\users\\rohit\\anaconda3\\lib\\site-packages (from notebook>=6.0->RISE) (0.2.0)\n",
      "Requirement already satisfied: jupyter-client>=5.3.4 in c:\\users\\rohit\\anaconda3\\lib\\site-packages (from notebook>=6.0->RISE) (6.1.12)\n",
      "Requirement already satisfied: nbformat in c:\\users\\rohit\\anaconda3\\lib\\site-packages (from notebook>=6.0->RISE) (5.3.0)\n",
      "Requirement already satisfied: nbconvert in c:\\users\\rohit\\anaconda3\\lib\\site-packages (from notebook>=6.0->RISE) (6.4.4)\n",
      "Requirement already satisfied: nest-asyncio>=1.5 in c:\\users\\rohit\\anaconda3\\lib\\site-packages (from notebook>=6.0->RISE) (1.5.5)\n",
      "Requirement already satisfied: jinja2 in c:\\users\\rohit\\anaconda3\\lib\\site-packages (from notebook>=6.0->RISE) (2.11.3)\n",
      "Requirement already satisfied: prometheus-client in c:\\users\\rohit\\anaconda3\\lib\\site-packages (from notebook>=6.0->RISE) (0.13.1)\n",
      "Requirement already satisfied: terminado>=0.8.3 in c:\\users\\rohit\\anaconda3\\lib\\site-packages (from notebook>=6.0->RISE) (0.13.1)\n",
      "Requirement already satisfied: ipykernel in c:\\users\\rohit\\anaconda3\\lib\\site-packages (from notebook>=6.0->RISE) (6.9.1)\n",
      "Requirement already satisfied: Send2Trash>=1.8.0 in c:\\users\\rohit\\anaconda3\\lib\\site-packages (from notebook>=6.0->RISE) (1.8.0)\n",
      "Requirement already satisfied: traitlets>=4.2.1 in c:\\users\\rohit\\anaconda3\\lib\\site-packages (from notebook>=6.0->RISE) (5.1.1)\n",
      "Requirement already satisfied: pyzmq>=17 in c:\\users\\rohit\\anaconda3\\lib\\site-packages (from notebook>=6.0->RISE) (22.3.0)\n",
      "Requirement already satisfied: python-dateutil>=2.1 in c:\\users\\rohit\\anaconda3\\lib\\site-packages (from jupyter-client>=5.3.4->notebook>=6.0->RISE) (2.8.2)\n",
      "Requirement already satisfied: pywin32>=1.0 in c:\\users\\rohit\\anaconda3\\lib\\site-packages (from jupyter-core>=4.6.1->notebook>=6.0->RISE) (302)\n",
      "Requirement already satisfied: six>=1.5 in c:\\users\\rohit\\anaconda3\\lib\\site-packages (from python-dateutil>=2.1->jupyter-client>=5.3.4->notebook>=6.0->RISE) (1.16.0)\n",
      "Requirement already satisfied: pywinpty>=1.1.0 in c:\\users\\rohit\\anaconda3\\lib\\site-packages (from terminado>=0.8.3->notebook>=6.0->RISE) (2.0.2)\n",
      "Requirement already satisfied: argon2-cffi-bindings in c:\\users\\rohit\\anaconda3\\lib\\site-packages (from argon2-cffi->notebook>=6.0->RISE) (21.2.0)\n",
      "Requirement already satisfied: cffi>=1.0.1 in c:\\users\\rohit\\anaconda3\\lib\\site-packages (from argon2-cffi-bindings->argon2-cffi->notebook>=6.0->RISE) (1.15.0)\n",
      "Requirement already satisfied: pycparser in c:\\users\\rohit\\anaconda3\\lib\\site-packages (from cffi>=1.0.1->argon2-cffi-bindings->argon2-cffi->notebook>=6.0->RISE) (2.21)\n",
      "Requirement already satisfied: ipython>=7.23.1 in c:\\users\\rohit\\anaconda3\\lib\\site-packages (from ipykernel->notebook>=6.0->RISE) (8.2.0)\n",
      "Requirement already satisfied: matplotlib-inline<0.2.0,>=0.1.0 in c:\\users\\rohit\\anaconda3\\lib\\site-packages (from ipykernel->notebook>=6.0->RISE) (0.1.2)\n",
      "Requirement already satisfied: debugpy<2.0,>=1.0.0 in c:\\users\\rohit\\anaconda3\\lib\\site-packages (from ipykernel->notebook>=6.0->RISE) (1.5.1)\n",
      "Requirement already satisfied: colorama in c:\\users\\rohit\\anaconda3\\lib\\site-packages (from ipython>=7.23.1->ipykernel->notebook>=6.0->RISE) (0.4.4)\n",
      "Requirement already satisfied: backcall in c:\\users\\rohit\\anaconda3\\lib\\site-packages (from ipython>=7.23.1->ipykernel->notebook>=6.0->RISE) (0.2.0)\n",
      "Requirement already satisfied: prompt-toolkit!=3.0.0,!=3.0.1,<3.1.0,>=2.0.0 in c:\\users\\rohit\\anaconda3\\lib\\site-packages (from ipython>=7.23.1->ipykernel->notebook>=6.0->RISE) (3.0.20)\n",
      "Requirement already satisfied: decorator in c:\\users\\rohit\\anaconda3\\lib\\site-packages (from ipython>=7.23.1->ipykernel->notebook>=6.0->RISE) (5.1.1)\n",
      "Requirement already satisfied: jedi>=0.16 in c:\\users\\rohit\\anaconda3\\lib\\site-packages (from ipython>=7.23.1->ipykernel->notebook>=6.0->RISE) (0.18.1)\n",
      "Requirement already satisfied: pickleshare in c:\\users\\rohit\\anaconda3\\lib\\site-packages (from ipython>=7.23.1->ipykernel->notebook>=6.0->RISE) (0.7.5)\n",
      "Requirement already satisfied: pygments>=2.4.0 in c:\\users\\rohit\\anaconda3\\lib\\site-packages (from ipython>=7.23.1->ipykernel->notebook>=6.0->RISE) (2.11.2)\n",
      "Requirement already satisfied: setuptools>=18.5 in c:\\users\\rohit\\anaconda3\\lib\\site-packages (from ipython>=7.23.1->ipykernel->notebook>=6.0->RISE) (61.2.0)\n",
      "Requirement already satisfied: stack-data in c:\\users\\rohit\\anaconda3\\lib\\site-packages (from ipython>=7.23.1->ipykernel->notebook>=6.0->RISE) (0.2.0)\n",
      "Requirement already satisfied: parso<0.9.0,>=0.8.0 in c:\\users\\rohit\\anaconda3\\lib\\site-packages (from jedi>=0.16->ipython>=7.23.1->ipykernel->notebook>=6.0->RISE) (0.8.3)\n",
      "Requirement already satisfied: wcwidth in c:\\users\\rohit\\anaconda3\\lib\\site-packages (from prompt-toolkit!=3.0.0,!=3.0.1,<3.1.0,>=2.0.0->ipython>=7.23.1->ipykernel->notebook>=6.0->RISE) (0.2.5)\n",
      "Requirement already satisfied: MarkupSafe>=0.23 in c:\\users\\rohit\\anaconda3\\lib\\site-packages (from jinja2->notebook>=6.0->RISE) (2.0.1)\n",
      "Requirement already satisfied: pandocfilters>=1.4.1 in c:\\users\\rohit\\anaconda3\\lib\\site-packages (from nbconvert->notebook>=6.0->RISE) (1.5.0)\n",
      "Requirement already satisfied: defusedxml in c:\\users\\rohit\\anaconda3\\lib\\site-packages (from nbconvert->notebook>=6.0->RISE) (0.7.1)\n",
      "Requirement already satisfied: beautifulsoup4 in c:\\users\\rohit\\anaconda3\\lib\\site-packages (from nbconvert->notebook>=6.0->RISE) (4.11.1)\n",
      "Requirement already satisfied: nbclient<0.6.0,>=0.5.0 in c:\\users\\rohit\\anaconda3\\lib\\site-packages (from nbconvert->notebook>=6.0->RISE) (0.5.13)\n",
      "Requirement already satisfied: bleach in c:\\users\\rohit\\anaconda3\\lib\\site-packages (from nbconvert->notebook>=6.0->RISE) (4.1.0)\n",
      "Requirement already satisfied: testpath in c:\\users\\rohit\\anaconda3\\lib\\site-packages (from nbconvert->notebook>=6.0->RISE) (0.5.0)\n",
      "Requirement already satisfied: entrypoints>=0.2.2 in c:\\users\\rohit\\anaconda3\\lib\\site-packages (from nbconvert->notebook>=6.0->RISE) (0.4)\n",
      "Requirement already satisfied: jupyterlab-pygments in c:\\users\\rohit\\anaconda3\\lib\\site-packages (from nbconvert->notebook>=6.0->RISE) (0.1.2)\n",
      "Requirement already satisfied: mistune<2,>=0.8.1 in c:\\users\\rohit\\anaconda3\\lib\\site-packages (from nbconvert->notebook>=6.0->RISE) (0.8.4)\n",
      "Requirement already satisfied: fastjsonschema in c:\\users\\rohit\\anaconda3\\lib\\site-packages (from nbformat->notebook>=6.0->RISE) (2.15.1)\n",
      "Requirement already satisfied: jsonschema>=2.6 in c:\\users\\rohit\\anaconda3\\lib\\site-packages (from nbformat->notebook>=6.0->RISE) (4.4.0)\n",
      "Requirement already satisfied: attrs>=17.4.0 in c:\\users\\rohit\\anaconda3\\lib\\site-packages (from jsonschema>=2.6->nbformat->notebook>=6.0->RISE) (21.4.0)\n",
      "Requirement already satisfied: pyrsistent!=0.17.0,!=0.17.1,!=0.17.2,>=0.14.0 in c:\\users\\rohit\\anaconda3\\lib\\site-packages (from jsonschema>=2.6->nbformat->notebook>=6.0->RISE) (0.18.0)\n",
      "Requirement already satisfied: soupsieve>1.2 in c:\\users\\rohit\\anaconda3\\lib\\site-packages (from beautifulsoup4->nbconvert->notebook>=6.0->RISE) (2.3.1)\n",
      "Requirement already satisfied: webencodings in c:\\users\\rohit\\anaconda3\\lib\\site-packages (from bleach->nbconvert->notebook>=6.0->RISE) (0.5.1)\n",
      "Requirement already satisfied: packaging in c:\\users\\rohit\\anaconda3\\lib\\site-packages (from bleach->nbconvert->notebook>=6.0->RISE) (21.3)\n",
      "Requirement already satisfied: pyparsing!=3.0.5,>=2.0.2 in c:\\users\\rohit\\anaconda3\\lib\\site-packages (from packaging->bleach->nbconvert->notebook>=6.0->RISE) (3.0.4)\n",
      "Requirement already satisfied: executing in c:\\users\\rohit\\anaconda3\\lib\\site-packages (from stack-data->ipython>=7.23.1->ipykernel->notebook>=6.0->RISE) (0.8.3)\n",
      "Requirement already satisfied: asttokens in c:\\users\\rohit\\anaconda3\\lib\\site-packages (from stack-data->ipython>=7.23.1->ipykernel->notebook>=6.0->RISE) (2.0.5)\n",
      "Requirement already satisfied: pure-eval in c:\\users\\rohit\\anaconda3\\lib\\site-packages (from stack-data->ipython>=7.23.1->ipykernel->notebook>=6.0->RISE) (0.2.2)\n"
     ]
    }
   ],
   "source": [
    "pip install RISE"
   ]
  },
  {
   "cell_type": "markdown",
   "id": "f8ca56e3",
   "metadata": {
    "slideshow": {
     "slide_type": "slide"
    }
   },
   "source": [
    "# <span style=\"color:#003399; font-weight:bold\"><center>Hello, my name is Rohit. I am a junior at Brookfield East High School</center></span>\n"
   ]
  },
  {
   "cell_type": "markdown",
   "id": "c1425ae4",
   "metadata": {
    "slideshow": {
     "slide_type": "slide"
    }
   },
   "source": [
    "# <hr>\n",
    "# <center><p style=\"color:#003399;font-size:25px;\">In my spare time, I enjoy participating in robotics as a hobby. While it is fun, it also provides the opportunity for me to learn the fundamental concepts of engineering.</p></center>\n",
    "\n",
    "# <div style=\"display: flex;margin-left:1px; vertical-align:left\"> <img src=\"..\\Images/Freight-Frenzy.jpg\" width=\"300\" height =\"200\" style=\"margin-left:0px;margin-right:10px\"> <img src=\"..\\Images\\FTC.jpeg\" style=\"margin-left:20px\" width=\"250px\"> <img src=\"..\\Images/Powerplay.jpg\"></div>\n",
    "<br>\n",
    "\n",
    "# <center><div>  <p style=\"color:#003399;font-size:25px\"> Specifically, I am responsible for the programming side of robotics. This additional hobby allows me to pick up additional software development skills and languages.</p></div></center>\n"
   ]
  },
  {
   "cell_type": "markdown",
   "id": "81d2c9f8",
   "metadata": {
    "slideshow": {
     "slide_type": "subslide"
    }
   },
   "source": [
    "# <center><div> <br>  <p style=\"color:#003399;font-size:25px;margin-top:20px\">I <i>love</i> to learn different parts of software development and these are the languages I know:</p> </div></center>\n",
    "\n",
    "\n",
    "# <center><div style=\"display: inline-flex;margin-left:1px; vertical-align:left;\"><img src=\"..\\Images/Java.png\" style=\"margin-left:-40px;width:50%;height:75%; position:relative; bottom:-15.5px\"><img src=\"..\\Images\\Python.jpg\" style=\"margin-left:2px;margin-top:0px;width:25%;height:25%\"><img src=\"..\\Images/WebBigThree.png\" style=\"margin-left:2px;width:45%;height:60%\"></div></center>\n"
   ]
  },
  {
   "cell_type": "markdown",
   "id": "840b45ec",
   "metadata": {
    "slideshow": {
     "slide_type": "subslide"
    }
   },
   "source": [
    "# <center> <div> <p style=\"color:#003399; font-size:25px\"> Through the skills I acquired by learning these programming languages, I have made some cool projects. </p> </div> </center>\n",
    "\n",
    "><div> <ol> <li style=\"font-size:20px; font-weight:bold;\"><a style=\"color:black;font-size:20px;text-decoration-thickness:1px;font-weight:bold;\" href=\"https://rohit685passmanager.herokuapp.com/\">Password Manager Using Flask</a></li> <li style=\"font-size:20px; font-weight:bold;\"><a style=\"color:black;font-size:20px;text-decoration-thickness:1px;font-weight:bold;\" href=\"https://www.github.com/Rohit685\">More cool projects on my Github</a></li> </ol></div>"
   ]
  }
 ],
 "metadata": {
  "celltoolbar": "Slideshow",
  "kernelspec": {
   "display_name": "Python 3 (ipykernel)",
   "language": "python",
   "name": "python3"
  },
  "language_info": {
   "codemirror_mode": {
    "name": "ipython",
    "version": 3
   },
   "file_extension": ".py",
   "mimetype": "text/x-python",
   "name": "python",
   "nbconvert_exporter": "python",
   "pygments_lexer": "ipython3",
   "version": "3.9.12"
  }
 },
 "nbformat": 4,
 "nbformat_minor": 5
}
