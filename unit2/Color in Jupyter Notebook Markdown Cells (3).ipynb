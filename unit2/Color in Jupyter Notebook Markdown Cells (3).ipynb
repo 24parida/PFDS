{
 "cells": [
  {
   "cell_type": "markdown",
   "id": "fa2c9ad8",
   "metadata": {},
   "source": [
    "# COLOR IN JUPYTER NOTEBOOK MARKDOWN CELLS"
   ]
  },
  {
   "cell_type": "markdown",
   "id": "40a1ba61",
   "metadata": {},
   "source": [
    "## See the link below:\n",
    "\n",
    "[The Ultimate Markdown Guide for Jupyter Notebook](https://medium.com/analytics-vidhya/the-ultimate-markdown-guide-for-jupyter-notebook-d5e5abf728fd)"
   ]
  },
  {
   "cell_type": "markdown",
   "id": "2024d79b",
   "metadata": {},
   "source": [
    "#  SECTION 1: COLORED NOTE BOXES"
   ]
  },
  {
   "cell_type": "markdown",
   "id": "d8b92cf2",
   "metadata": {},
   "source": [
    "### to get Blue background\n",
    "\n",
    "<div class=\"alert alert-block alert-info\">\n",
    "<b>Tip:</b> Use blue boxes (alert-info) for tips and notes.</div>"
   ]
  },
  {
   "cell_type": "markdown",
   "id": "48ec11f4",
   "metadata": {},
   "source": [
    "### to get Yellow background\n",
    "\n",
    "<div class=\"alert alert-block alert-warning\">\n",
    "<b>Example:</b> Use yellow boxes for examples that are not inside code cells, or use for mathematical formulas if needed. Typically also used to display warning messages.\n",
    "</div>"
   ]
  },
  {
   "cell_type": "markdown",
   "id": "836472ff",
   "metadata": {},
   "source": [
    "### to get Green background\n",
    "\n",
    "<div class=\"alert alert-block alert-success\">\n",
    "<b>Success:</b> This alert box indicates a successful or positive action.\n",
    "</div>"
   ]
  },
  {
   "cell_type": "markdown",
   "id": "b06f244d",
   "metadata": {},
   "source": [
    "### to get Red background\n",
    "\n",
    "<div class=\"alert alert-block alert-danger\">\n",
    "<b>Danger:</b> This alert box indicates a dangerous or potentially negative action.\n",
    "</div>"
   ]
  },
  {
   "cell_type": "markdown",
   "id": "aae2f37c",
   "metadata": {},
   "source": [
    "### Example ... all background colors"
   ]
  },
  {
   "cell_type": "markdown",
   "id": "22bb108c",
   "metadata": {},
   "source": [
    "\n",
    "<div class=\"alert alert-block alert-info\">\n",
    "<b>Tip:</b> Use blue boxes (alert-info) for tips and notes.</div>\n",
    "    \n",
    "<div class=\"alert alert-block alert-warning\">\n",
    "<b>Example:</b> Use yellow boxes for examples that are not inside code cells, or use for mathematical formulas if needed. Typically also used to display warning messages.\n",
    "</div>\n",
    "\n",
    "<div class=\"alert alert-block alert-success\">\n",
    "<b>Success:</b> This alert box indicates a successful or positive action.\n",
    "</div>\n",
    "\n",
    "<div class=\"alert alert-block alert-danger\">\n",
    "<b>Danger:</b> This alert box indicates a dangerous or potentially negative action.\n",
    "</div>\n"
   ]
  },
  {
   "cell_type": "markdown",
   "id": "ce42f4a9",
   "metadata": {},
   "source": [
    "\n",
    "\n",
    "\n",
    "# SECTION 2: TEXT COLORS"
   ]
  },
  {
   "cell_type": "markdown",
   "id": "4096ad4b",
   "metadata": {},
   "source": [
    "### To use text color BLUE \n",
    "<span style=\"color:blue\">The color that I am using is BLUE!</span>"
   ]
  },
  {
   "cell_type": "markdown",
   "id": "b40aca29",
   "metadata": {},
   "source": [
    "### To use text color YELLOW\n",
    "\n",
    "<span style=\"color:yellow\">The color that I am using is YELLOW!</span>"
   ]
  },
  {
   "cell_type": "markdown",
   "id": "d297bd91",
   "metadata": {},
   "source": [
    "### To use text color GREEN \n",
    "\n",
    "<span style=\"color:green\">The color that I am using is GREEN!</span>"
   ]
  },
  {
   "cell_type": "markdown",
   "id": "ec913e89",
   "metadata": {},
   "source": [
    "### To use text color RED\n",
    "\n",
    "<span style=\"color:red\">The color that I am using is RED!</span>"
   ]
  },
  {
   "cell_type": "markdown",
   "id": "c43f8adc",
   "metadata": {},
   "source": [
    "## Try some other colors "
   ]
  },
  {
   "cell_type": "markdown",
   "id": "3db9c646",
   "metadata": {},
   "source": [
    "### To use text color PINK\n",
    "\n",
    "<span style=\"color:pink\">The color that I am using is PINK!</span>"
   ]
  },
  {
   "cell_type": "markdown",
   "id": "5021cc35",
   "metadata": {},
   "source": [
    "### To use text color CHARTREUSE\n",
    "\n",
    "<span style=\"color:chartreuse\">The color that I am using is CHARTREUSE!</span>\n"
   ]
  },
  {
   "cell_type": "markdown",
   "id": "5e200245",
   "metadata": {},
   "source": [
    "For a list of all the supported color names, checkout [HTML Color Names](https://www.w3schools.com/colors/colors_names.asp)."
   ]
  },
  {
   "cell_type": "markdown",
   "id": "962069ae",
   "metadata": {},
   "source": [
    "# SECTION 3: HIGHLIGHTING COLORS"
   ]
  },
  {
   "cell_type": "markdown",
   "id": "02cd17b4",
   "metadata": {},
   "source": [
    "### To highlight black text with a yellow highlighter\n",
    "\n",
    "<code style=\"background:yellow;color:black\">Useful for highlighting to grab the attention of the reader towards certain points.</code>"
   ]
  },
  {
   "cell_type": "markdown",
   "id": "49839359",
   "metadata": {},
   "source": [
    "### To highlight white text with a blue highlighter\n",
    "\n",
    "<code style=\"background:blue;color:white\">Useful for highlighting to grab the attention of the reader towards certain points.</code>"
   ]
  },
  {
   "cell_type": "markdown",
   "id": "bbe50dc2",
   "metadata": {},
   "source": [
    "### To highlight white text with a black highlighter\n",
    "\n",
    "<code style=\"background:black;color:white\">Useful for highlighting to grab the attention of the reader towards certain points.</code>"
   ]
  }
 ],
 "metadata": {
  "kernelspec": {
   "display_name": "Python 3",
   "language": "python",
   "name": "python3"
  },
  "language_info": {
   "codemirror_mode": {
    "name": "ipython",
    "version": 3
   },
   "file_extension": ".py",
   "mimetype": "text/x-python",
   "name": "python",
   "nbconvert_exporter": "python",
   "pygments_lexer": "ipython3",
   "version": "3.8.8"
  }
 },
 "nbformat": 4,
 "nbformat_minor": 5
}
