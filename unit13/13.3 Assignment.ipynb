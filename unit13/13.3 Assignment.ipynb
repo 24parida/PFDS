{
 "cells": [
  {
   "cell_type": "code",
   "execution_count": 3,
   "id": "177ebeef",
   "metadata": {},
   "outputs": [
    {
     "name": "stdout",
     "output_type": "stream",
     "text": [
      "What is your name? John Smith\n",
      "What department do you work for? Accounting\n",
      "What is your salary? 90000\n",
      "How many years of service do you have? 8\n",
      "Thank you for your 8 years of service in the Accounting department. You will get a $7200.0 bonus.\n"
     ]
    }
   ],
   "source": [
    "#Question 1\n",
    "\n",
    "name = input(\"What is your name? \")\n",
    "dept = input(\"What department do you work for? \")\n",
    "salary = int(input(\"What is your salary? \"))\n",
    "years_of_service = int(input(\"How many years of service do you have? \"))\n",
    "\n",
    "if(years_of_service > 10):\n",
    "    print(f\"Thank you for your {years_of_service} years of service in the {dept} department. You will get a ${0.01 * salary} bonus.\")\n",
    "elif(years_of_service >= 6 and years_of_service <= 10):\n",
    "    print(f\"Thank you for your {years_of_service} years of service in the {dept} department. You will get a ${0.08 * salary} bonus.\")\n",
    "else:\n",
    "    print(f\"Thank you for your {years_of_service} years of service in the {dept} department. You will get a ${0.05 * salary} bonus.\")"
   ]
  },
  {
   "cell_type": "code",
   "execution_count": 1,
   "id": "e5f02528",
   "metadata": {},
   "outputs": [
    {
     "name": "stdout",
     "output_type": "stream",
     "text": [
      "What is your name? John Smith\n",
      "What department do you work for? Accounting\n",
      "What is your salary? 90000\n",
      "How many years of service do you have? 8\n",
      "What is your performance rating? Good\n",
      "Thank you for your 8 years of service in the Accounting department. Your performance rating was: Good. You will get $9000.0 in bonuses.\n"
     ]
    }
   ],
   "source": [
    "#Question 2\n",
    "\n",
    "name = input(\"What is your name? \")\n",
    "dept = input(\"What department do you work for? \")\n",
    "salary = int(input(\"What is your salary? \"))\n",
    "years_of_service = int(input(\"How many years of service do you have? \"))\n",
    "perf_rating = input(\"What is your performance rating? \")\n",
    "bonus = 0\n",
    "if(perf_rating.lower() == 'excellent'):\n",
    "    bonus += 5\n",
    "elif(perf_rating.lower() == 'good'):\n",
    "    bonus += 2\n",
    "    \n",
    "    \n",
    "if(years_of_service > 10):\n",
    "    bonus += 10\n",
    "    print(f\"Thank you for your {years_of_service} years of service in the {dept} department. Your performance rating was: {perf_rating}. You will get ${(bonus/100)*salary} in bonuses.\")\n",
    "elif(years_of_service >= 6 and years_of_service <= 10):\n",
    "    bonus += 8\n",
    "    print(f\"Thank you for your {years_of_service} years of service in the {dept} department. Your performance rating was: {perf_rating}. You will get ${(bonus/100)*salary} in bonuses.\")\n",
    "else:\n",
    "    bonus += 5\n",
    "    print(f\"Thank you for your {years_of_service} years of service in the {dept} department. Your performance rating was: {perf_rating}. You will get ${(bonus/100)*salary} in bonuses.\")"
   ]
  },
  {
   "cell_type": "code",
   "execution_count": 5,
   "id": "3394a69d",
   "metadata": {},
   "outputs": [
    {
     "name": "stdout",
     "output_type": "stream",
     "text": [
      "Input one integer: 6\n",
      "Input second integer: 6\n",
      "Input third integer: 6\n",
      "These three side lengths can form an equilateral triangle.\n"
     ]
    }
   ],
   "source": [
    "#Question 3\n",
    "\n",
    "a = int(input(\"Input one integer: \"))\n",
    "b = int(input(\"Input second integer: \"))\n",
    "c = int(input(\"Input third integer: \"))\n",
    "a = abs(a)\n",
    "b = abs(b)\n",
    "c = abs(c)\n",
    "if( ( (a+b) > c ) and  ( (a+c) > b )  and ( (b+c) > a )):\n",
    "    if( (a ==b==c) ):\n",
    "        print(\"These three side lengths can form an equilateral triangle.\")\n",
    "    elif( (a==b) or (b==c) or (a==c) ):\n",
    "        print(\"These three side lengths can form an isoceles triangle.\")\n",
    "    else: \n",
    "        print(\"These three side lengths can form a scalene triangle.\")\n",
    "else:\n",
    "    print(\"These three side lengths will not form a triangle.\")"
   ]
  },
  {
   "cell_type": "code",
   "execution_count": 3,
   "id": "515bb3a4",
   "metadata": {},
   "outputs": [
    {
     "name": "stdout",
     "output_type": "stream",
     "text": [
      "What is your name? Roheat\n",
      "What is your credit score? 630\n",
      "What is your yearly income? 45000\n",
      "What is your debt to income ratio? 43\n",
      "Congratulations! You qualify for a loan\n"
     ]
    }
   ],
   "source": [
    "# Question 4\n",
    "# Min Credit Score: 620\n",
    "# Min Income: $45,000\n",
    "# Min DTI: 43%\n",
    "name = input(\"What is your name? \")\n",
    "credit_score = int(input(\"What is your credit score? \"))\n",
    "income = int(input(\"What is your yearly income? \"))\n",
    "DTI = int(input(\"What is your debt to income ratio? \"))\n",
    "\n",
    "if(credit_score >= 620 and income >= 45000 and DTI <= 43):\n",
    "    print(\"Congratulations! You qualify for a loan\")\n",
    "\n",
    "else:\n",
    "    if(credit_score >= 500 and income > 75000 and DTI < 37):\n",
    "        print(\"Congratulations! You still qualify for the loan\")\n",
    "\n",
    "    elif(income >= 35000 and credit_score >= 750 and DTI < 37 ):    \n",
    "        print(\"Congratulations! You still qualify for the loan\")\n",
    "        \n",
    "    elif(DTI <= 50 and income > 75000 and credit_score > 750 ):\n",
    "        print(\"Congratulations! You still qualify for the loan\")\n",
    "\n",
    "    else:\n",
    "        print(\"Sorry! You did not qualify for the loan.\")"
   ]
  },
  {
   "cell_type": "code",
   "execution_count": null,
   "id": "70bcd7b3",
   "metadata": {},
   "outputs": [],
   "source": []
  }
 ],
 "metadata": {
  "kernelspec": {
   "display_name": "Python 3 (ipykernel)",
   "language": "python",
   "name": "python3"
  },
  "language_info": {
   "codemirror_mode": {
    "name": "ipython",
    "version": 3
   },
   "file_extension": ".py",
   "mimetype": "text/x-python",
   "name": "python",
   "nbconvert_exporter": "python",
   "pygments_lexer": "ipython3",
   "version": "3.9.12"
  }
 },
 "nbformat": 4,
 "nbformat_minor": 5
}
