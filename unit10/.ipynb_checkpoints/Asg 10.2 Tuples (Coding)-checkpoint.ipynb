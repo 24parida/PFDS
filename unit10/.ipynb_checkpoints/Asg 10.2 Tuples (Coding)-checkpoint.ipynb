{
 "cells": [
  {
   "cell_type": "markdown",
   "id": "48c3a9b0",
   "metadata": {},
   "source": [
    "# <center><b>Lesson 10</b></center>\n",
    "# <center><b>Asg 10.2</b></center>\n",
    "# <center><b>Tuples</b></center>"
   ]
  },
  {
   "cell_type": "markdown",
   "id": "bc4fc33a",
   "metadata": {},
   "source": [
    "## <center>*Make sure to run the code in the following cell before you start the assignment!*!</i>"
   ]
  },
  {
   "cell_type": "code",
   "execution_count": 89,
   "id": "9749c105",
   "metadata": {},
   "outputs": [
    {
     "name": "stdout",
     "output_type": "stream",
     "text": [
      "The notebook is now set up to display multiple output in one cell'\n"
     ]
    }
   ],
   "source": [
    "# set up notebook to display multiple output in one cell\n",
    "\n",
    "from IPython.core.interactiveshell import InteractiveShell\n",
    "InteractiveShell.ast_node_interactivity = \"all\"\n",
    "\n",
    "print(\"The notebook is now set up to display multiple output in one cell'\")"
   ]
  },
  {
   "cell_type": "markdown",
   "id": "2501bb12",
   "metadata": {},
   "source": [
    "<div class=\"alert alert-block alert-success\"><b>Problem 1</b>:\n",
    "\n",
    "1. Pick out a famous person and use that person's first name as the name of a variable. Create a tuple that you will assign to that variable that contains a number of pertinent pieces of information about that person (like I did in the Aaron Rodgers example above).\n",
    "2. Write code to print out the variable that you created in Step #1.\n",
    "3. Write code to print out the data type of the variable that you created in Step 1.\n",
    "4. Write code to print out the number of items that are in the tuple that you created above.\n",
    "</div>"
   ]
  },
  {
   "cell_type": "code",
   "execution_count": 90,
   "id": "817393b8",
   "metadata": {},
   "outputs": [],
   "source": [
    "# Part 1\n",
    "Giannis = (\"Greece\", 27, \"Greek Freak\", \"NBA Champion and NBA MVP\")\n",
    "(birth_country, age, nickname, achievements) = Giannis"
   ]
  },
  {
   "cell_type": "code",
   "execution_count": 91,
   "id": "b3aff927",
   "metadata": {},
   "outputs": [
    {
     "name": "stdout",
     "output_type": "stream",
     "text": [
      "('Greece', 27, 'Greek Freak', 'NBA Champion and NBA MVP')\n"
     ]
    }
   ],
   "source": [
    "# Part 2\n",
    "print(Giannis)"
   ]
  },
  {
   "cell_type": "code",
   "execution_count": 92,
   "id": "6d6825ed",
   "metadata": {},
   "outputs": [
    {
     "name": "stdout",
     "output_type": "stream",
     "text": [
      "<class 'tuple'>\n"
     ]
    }
   ],
   "source": [
    "# Part 3\n",
    "print(type(Giannis))"
   ]
  },
  {
   "cell_type": "code",
   "execution_count": 93,
   "id": "af13d680",
   "metadata": {},
   "outputs": [
    {
     "name": "stdout",
     "output_type": "stream",
     "text": [
      "4\n"
     ]
    }
   ],
   "source": [
    "# Part 4 \n",
    "print(len(Giannis))"
   ]
  },
  {
   "cell_type": "markdown",
   "id": "bf2b92a2",
   "metadata": {},
   "source": [
    "<div class=\"alert alert-block alert-success\"><b>Problem 2</b>:\n",
    "\n",
    "<b>Given</b>:\n",
    "<p>&nbsp;</p>\n",
    "Information about an employee ...\n",
    "\n",
    "Jane Smith, Female, 37, Married, Accountant, Deloitte, Marquette, Mequon, Wisconsin\n",
    "\n",
    "1. Create a tuple of values and assign that tuple to a variable named employee. Write code to print out employee, the data type that employee is, and the number of items in employee.  Feel free to use f-string formatting to enhance your output.\n",
    "2. Create a tuple of variables to represent the tuple of values from Part 1 and assign the variable employee to that tuple. Use f-string formatting to print out the following statement:\n",
    "    \n",
    "    <i>Jane Smith is a 37 year old accountant who graduated from Marquette University.</i>\n",
    "<p>&nbsp;</p>    \n",
    "3. Jane just had a birthday and she also moved to Wauwatosa and is now working for Ernst & Young.  Use the original tuple to create a new tuple with the same name that includes this updated information.  Print out the new tuple.\n",
    "4. Use f-string formatting to print out the following statement:\n",
    "    \n",
    "    <i>Jane Smith has moved to Wauwatosa and is now working for Ernst & Young.</i>\n",
    "</div>"
   ]
  },
  {
   "cell_type": "code",
   "execution_count": 94,
   "id": "087258b0",
   "metadata": {},
   "outputs": [
    {
     "name": "stdout",
     "output_type": "stream",
     "text": [
      "Employee is ('Jane Smith', 'Female', 37, 'Married', 'accountant', 'Deloitte', 'Marquette University', 'Mequon', 'Wisconsin'). The data type of employee is a <class 'tuple'>. The length of employee is 9.\n"
     ]
    }
   ],
   "source": [
    "# Part 1\n",
    "employee = (\"Jane Smith\", \"Female\", 37, \"Married\", \"accountant\", \"Deloitte\", \"Marquette University\", \"Mequon\", \"Wisconsin\")\n",
    "print(f\"Employee is {employee}. The data type of employee is a {type(employee)}. The length of employee is {len(employee)}.\")"
   ]
  },
  {
   "cell_type": "code",
   "execution_count": 95,
   "id": "7dbec0b6",
   "metadata": {},
   "outputs": [
    {
     "name": "stdout",
     "output_type": "stream",
     "text": [
      "Jane Smith is 37 year old accountant who graduated from Marquette University.\n"
     ]
    }
   ],
   "source": [
    "# Part 2\n",
    "(name, gender, age, marital_status, occupation, workplace, college, location_city, location_state) = employee\n",
    "print(f\"{name} is {age} year old {occupation} who graduated from {college}.\")"
   ]
  },
  {
   "cell_type": "code",
   "execution_count": 96,
   "id": "d293be1a",
   "metadata": {},
   "outputs": [
    {
     "name": "stdout",
     "output_type": "stream",
     "text": [
      "Jane Smith has moved to Mequon and is now working for Deloitte.\n"
     ]
    }
   ],
   "source": [
    "# Part 3\n",
    "employeeAsList = list(employee)\n",
    "employeeAsList[2] = 38\n",
    "employeeAsList[5] = \"Ernst & Young\"\n",
    "employeeAsList[len(employeeAsList)-2] = \"Wauwatosa\"\n",
    "employee = tuple(employeeAsList)\n",
    "print(employee)"
   ]
  },
  {
   "cell_type": "code",
   "execution_count": 1,
   "id": "39363ac4",
   "metadata": {},
   "outputs": [],
   "source": [
    "# Part 4\n",
    "print(f\"{name} has moved to {location_city} and is now working for {workplace}.\")"
   ]
  },
  {
   "cell_type": "markdown",
   "id": "7b22d7d4",
   "metadata": {},
   "source": [
    "<div class=\"alert alert-block alert-success\"><b>Problem 3</b>:\n",
    "\n",
    "NFC NORTH Standings week 7                 \n",
    "\n",
    "first = \"Chicago\"                        \n",
    "second = \"Green Bay\"                      \n",
    "third = \"Minnesota\"                      \n",
    "fourth = \"Detroit\"  \n",
    "    \n",
    "NFC NORTH Standings week 10<br >\n",
    "\n",
    "first = \"Green Bay\"<br>\n",
    "second = \"Minnesota\"<br>\n",
    "third = \"Chicago\"<br>\n",
    "fourth = \"Detroit\"<br>\n",
    "\n",
    "1. Create a tuple of values for place and a tuple of variables for team that represent the week 7 standings.  Assign the tuple for place to the tuple for team. Use f-string formatting to print out the week 7 standings.\n",
    "2. Perform a variable swap to represent the changes that appear in the week 10 standings. Use f-string formatting to print out the week 10 standings.\n",
    "    \n",
    "</div>"
   ]
  },
  {
   "cell_type": "code",
   "execution_count": 6,
   "id": "adc82b1e",
   "metadata": {},
   "outputs": [
    {
     "name": "stdout",
     "output_type": "stream",
     "text": [
      "Week Seven Standings\n",
      "1. Chicago\n",
      "2. Green Bay\n",
      "3. Minnesota\n",
      "4. Detroit\n"
     ]
    }
   ],
   "source": [
    "# Part 1\n",
    "Week_Seven = (\"Chicago\", \"Green Bay\", \"Minnesota\", \"Detroit\")\n",
    "(first, second, third, fourth) = Week_Seven\n",
    "print(\"Week Seven Standings\")\n",
    "for x in range(len(Week_Seven)):\n",
    "    print(f\"{x + 1}. {Week_Seven[x]}\")"
   ]
  },
  {
   "cell_type": "code",
   "execution_count": 7,
   "id": "a0faf06c",
   "metadata": {},
   "outputs": [
    {
     "name": "stdout",
     "output_type": "stream",
     "text": [
      "Week Ten Standings\n",
      "1. Green Bay\n",
      "2. Minnesota\n",
      "3. Chicago\n",
      "4. Detroit\n"
     ]
    }
   ],
   "source": [
    "# Part 2\n",
    "WeekSevenAsList = list(Week_Seven)\n",
    "WeekSevenAsList[0] = \"Green Bay\"\n",
    "WeekSevenAsList[1] = \"Minnesota\"\n",
    "WeekSevenAsList[2] = \"Chicago\"\n",
    "WeekSevenAsList[3] = \"Detroit\"\n",
    "Week_Ten = tuple(WeekSevenAsList)\n",
    "print(\"Week Ten Standings\")\n",
    "for x in range(len(Week_Ten)):\n",
    "    print(f\"{x + 1}. {Week_Ten[x]}\")"
   ]
  },
  {
   "cell_type": "markdown",
   "id": "d16270f9",
   "metadata": {},
   "source": [
    "<div class=\"alert alert-block alert-success\"><b>Problem 4</b>:\n",
    " \n",
    "Write code to reverse the given tuple. \n",
    "\n",
    "- your_tuple = (\"cat\", 51. [9, \"dog\", \"car\", 4.3]. \"house\", 16.5)\n",
    "</div>"
   ]
  },
  {
   "cell_type": "code",
   "execution_count": 10,
   "id": "4e54936f",
   "metadata": {},
   "outputs": [
    {
     "name": "stdout",
     "output_type": "stream",
     "text": [
      "(16.5, 'house', [9, 'dog', 'car', 4.3], 51.0, 'cat')\n"
     ]
    }
   ],
   "source": [
    "your_tuple = (\"cat\", 51. ,[9, \"dog\", \"car\", 4.3], \"house\", 16.5)\n",
    "print(your_tuple[::-1])"
   ]
  },
  {
   "cell_type": "markdown",
   "id": "c9039e2d",
   "metadata": {},
   "source": [
    "<div class=\"alert alert-block alert-success\"><b>Problem 5</b>:\n",
    "    \n",
    "Write code to access and print out the value 55 from the following tuple.\n",
    "\n",
    "- tuple_mixed = (27, [19, \"soccer\"], 31.6, (\"baseball\", \"football\", \"golf\"), [\"hat\", 55, \"shoes\", 29])\n",
    "  \n",
    "</div>"
   ]
  },
  {
   "cell_type": "code",
   "execution_count": 26,
   "id": "b5f8c8e6",
   "metadata": {},
   "outputs": [
    {
     "name": "stdout",
     "output_type": "stream",
     "text": [
      "55\n"
     ]
    }
   ],
   "source": [
    "tuple_mixed = (27, [19, \"soccer\"], 31.6, (\"baseball\", \"football\", \"golf\"), [\"hat\", 55, \"shoes\", 29])\n",
    "print(tuple_mixed[4][1])"
   ]
  },
  {
   "cell_type": "markdown",
   "id": "7b8ea94e",
   "metadata": {},
   "source": [
    "<div class=\"alert alert-block alert-success\"><b>Problem 6</b>:\n",
    "    \n",
    "Write code to create a tuple with the single item \"Halloween\". Name the tuple that you create <b>atuple</b>. Print out <b>atuple</b>.\n",
    "\n",
    "</div>"
   ]
  },
  {
   "cell_type": "code",
   "execution_count": 14,
   "id": "2fba5a39",
   "metadata": {},
   "outputs": [
    {
     "name": "stdout",
     "output_type": "stream",
     "text": [
      "('Halloween',)\n"
     ]
    }
   ],
   "source": [
    "atuple = (\"Halloween\",)\n",
    "print(tuple(atuple))"
   ]
  },
  {
   "cell_type": "markdown",
   "id": "e2ea75d0",
   "metadata": {},
   "source": [
    "<div class=\"alert alert-block alert-success\"><b>Problem 7</b>:\n",
    "    \n",
    "Write code to unpack the following tuple into 4 variables named a, b, c, and d.\n",
    "    \n",
    "- our_tuple = (\"North\", \"South\", \"East\", \"West\")\n",
    "\n",
    "</div>"
   ]
  },
  {
   "cell_type": "code",
   "execution_count": 15,
   "id": "917bd3db",
   "metadata": {},
   "outputs": [
    {
     "name": "stdout",
     "output_type": "stream",
     "text": [
      "North South East West\n"
     ]
    }
   ],
   "source": [
    "our_tuple = (\"North\", \"South\", \"East\", \"West\")\n",
    "(a,b,c,d)=our_tuple\n",
    "print(a,b,c,d)"
   ]
  },
  {
   "cell_type": "markdown",
   "id": "b9423ce3",
   "metadata": {},
   "source": [
    "<div class=\"alert alert-block alert-success\"><b>Problem 8</b>:\n",
    "    \n",
    "Write code to swap the following two tuples. Print out the results.\n",
    "    \n",
    "- tuple_1(17, \"Brookfield\")\n",
    "<p>&nbsp;</p> \n",
    "- tuple_2(\"Milwaukee\", 71)\n",
    "</div>"
   ]
  },
  {
   "cell_type": "code",
   "execution_count": 18,
   "id": "424353a4",
   "metadata": {},
   "outputs": [
    {
     "name": "stdout",
     "output_type": "stream",
     "text": [
      "('Milwaukee', 71) (17, 'Brookfield')\n"
     ]
    }
   ],
   "source": [
    "tuple_1=(17, \"Brookfield\")\n",
    " \n",
    "tuple_2=(\"Milwaukee\", 71)\n",
    "tuple_1, tuple_2 = tuple_2, tuple_1\n",
    "print(tuple_1, tuple_2)"
   ]
  },
  {
   "cell_type": "markdown",
   "id": "c5d36afe",
   "metadata": {},
   "source": [
    "<div class=\"alert alert-block alert-success\"><b>Problem 9</b>:\n",
    "    \n",
    "Write code to copy elements \"Brookfield\" and \"Elm Grove from the <b>tuple_1</b> into a new tuple named <b>tuple_2</b>.\n",
    "\n",
    "- tuple_1 = (\"Atlanta\", \"Brookfield\", \"Chicago\", \"Elm Grove\", \"Los Angeles\", \"New York\")\n",
    "\n",
    "</div>"
   ]
  },
  {
   "cell_type": "code",
   "execution_count": 21,
   "id": "6ffc214a",
   "metadata": {},
   "outputs": [
    {
     "name": "stdout",
     "output_type": "stream",
     "text": [
      "('Brookfield', 'Elm Grove')\n"
     ]
    }
   ],
   "source": [
    "tuple_1 = (\"Atlanta\", \"Brookfield\", \"Chicago\", \"Elm Grove\", \"Los Angeles\", \"New York\")\n",
    "tuple_2 =tuple_1[1:4:2]\n",
    "print(tuple_2)"
   ]
  },
  {
   "cell_type": "markdown",
   "id": "bb18fe6f",
   "metadata": {},
   "source": [
    "<div class=\"alert alert-block alert-success\"><b>Problem 10</b>:\n",
    "    \n",
    "Write code to modify the first item (22) of a list that is inside of the given tuple to 222\n",
    "\n",
    "- my_tuple = (11, [22, 33], 44, 55)\n",
    "\n",
    "</div>"
   ]
  },
  {
   "cell_type": "code",
   "execution_count": 22,
   "id": "4345f1c1",
   "metadata": {},
   "outputs": [
    {
     "name": "stdout",
     "output_type": "stream",
     "text": [
      "(11, [222, 33], 44, 55)\n"
     ]
    }
   ],
   "source": [
    "my_tuple = (11, [22, 33], 44, 55)\n",
    "my_tuple[1][0] = 222\n",
    "print(my_tuple)"
   ]
  },
  {
   "cell_type": "markdown",
   "id": "b8afc6b0",
   "metadata": {},
   "source": [
    "<div class=\"alert alert-block alert-success\"><b>Problem 11</b>:\n",
    "    \n",
    "11. Write code to count the number of occurrences of the element 10 from the given tuple. Print out the result.\n",
    " <p>&nbsp;</p>    \n",
    "\n",
    "- tuple_int = (30, 10, 20, 10, 10, (10, 20, 30), 10, 20, 30, [10, 20, 30], \"10\")\n",
    "    \n",
    "</div>"
   ]
  },
  {
   "cell_type": "code",
   "execution_count": 25,
   "id": "24c3d5de",
   "metadata": {},
   "outputs": [
    {
     "name": "stdout",
     "output_type": "stream",
     "text": [
      "6\n"
     ]
    }
   ],
   "source": [
    "tuple_int = (30, 10, 20, 10, 10, (10, 20, 30), 10, 20, 30, [10, 20, 30], \"10\")\n",
    "print(tuple_int.count(10) + tuple_int[5].count(10) + tuple_int[9].count(10))"
   ]
  }
 ],
 "metadata": {
  "kernelspec": {
   "display_name": "Python 3 (ipykernel)",
   "language": "python",
   "name": "python3"
  },
  "language_info": {
   "codemirror_mode": {
    "name": "ipython",
    "version": 3
   },
   "file_extension": ".py",
   "mimetype": "text/x-python",
   "name": "python",
   "nbconvert_exporter": "python",
   "pygments_lexer": "ipython3",
   "version": "3.9.12"
  }
 },
 "nbformat": 4,
 "nbformat_minor": 5
}
