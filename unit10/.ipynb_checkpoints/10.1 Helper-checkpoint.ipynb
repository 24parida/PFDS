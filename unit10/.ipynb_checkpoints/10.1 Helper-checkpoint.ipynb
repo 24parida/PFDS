{
 "cells": [
  {
   "cell_type": "code",
   "execution_count": 13,
   "id": "235d234a",
   "metadata": {},
   "outputs": [
    {
     "name": "stdout",
     "output_type": "stream",
     "text": [
      "400\n",
      "(200, 300, 400)\n"
     ]
    }
   ],
   "source": [
    "tuple1=(100,200,300,400,500)\n",
    "print(tuple1[-2])\n",
    "print(tuple1[-4:-1])"
   ]
  },
  {
   "cell_type": "code",
   "execution_count": 1,
   "id": "5954a9a3",
   "metadata": {},
   "outputs": [
    {
     "name": "stdout",
     "output_type": "stream",
     "text": [
      "{1, 'Pynative', ('abc', 'xyz')}\n"
     ]
    }
   ],
   "source": [
    "aset = {1, 'Pynative',('abc','xyz'),True}\n",
    "print(aset)"
   ]
  },
  {
   "cell_type": "code",
   "execution_count": 2,
   "id": "691cd129",
   "metadata": {},
   "outputs": [
    {
     "name": "stdout",
     "output_type": "stream",
     "text": [
      "Yellow\n"
     ]
    }
   ],
   "source": [
    "atuple = \"Yellow\", 20, \"abc\"\n",
    "a,b,c=atuple\n",
    "print(a)"
   ]
  },
  {
   "cell_type": "code",
   "execution_count": 3,
   "id": "53a31ff3",
   "metadata": {},
   "outputs": [
    {
     "name": "stdout",
     "output_type": "stream",
     "text": [
      "True\n",
      "True\n"
     ]
    }
   ],
   "source": [
    "set1={1,2,3,4,5}\n",
    "set2 = {6,7,1,3,4,8,2,5}\n",
    "print(set1.issubset(set2))\n",
    "print(set2.issuperset(set1))"
   ]
  },
  {
   "cell_type": "code",
   "execution_count": null,
   "id": "e33a6fcc",
   "metadata": {},
   "outputs": [],
   "source": []
  }
 ],
 "metadata": {
  "kernelspec": {
   "display_name": "Python 3 (ipykernel)",
   "language": "python",
   "name": "python3"
  },
  "language_info": {
   "codemirror_mode": {
    "name": "ipython",
    "version": 3
   },
   "file_extension": ".py",
   "mimetype": "text/x-python",
   "name": "python",
   "nbconvert_exporter": "python",
   "pygments_lexer": "ipython3",
   "version": "3.9.12"
  }
 },
 "nbformat": 4,
 "nbformat_minor": 5
}
