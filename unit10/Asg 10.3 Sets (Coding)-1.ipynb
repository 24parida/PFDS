{
 "cells": [
  {
   "cell_type": "markdown",
   "id": "48c3a9b0",
   "metadata": {},
   "source": [
    "# <center><b>Lesson 10</b></center>\n",
    "# <center><b>Asg 10.3</b></center>\n",
    "# <center><b>Sets</b></center>"
   ]
  },
  {
   "cell_type": "markdown",
   "id": "bc4fc33a",
   "metadata": {},
   "source": [
    "## <center>*Make sure to run the code in the following cell before you start the assignment!*!</i>"
   ]
  },
  {
   "cell_type": "code",
   "execution_count": 31,
   "id": "9749c105",
   "metadata": {},
   "outputs": [
    {
     "name": "stdout",
     "output_type": "stream",
     "text": [
      "The notebook is now set up to display multiple output in one cell'\n"
     ]
    }
   ],
   "source": [
    "# set up notebook to display multiple output in one cell\n",
    "\n",
    "from IPython.core.interactiveshell import InteractiveShell\n",
    "InteractiveShell.ast_node_interactivity = \"all\"\n",
    "\n",
    "print(\"The notebook is now set up to display multiple output in one cell'\")"
   ]
  },
  {
   "cell_type": "markdown",
   "id": "2501bb12",
   "metadata": {},
   "source": [
    "<div class=\"alert alert-block alert-success\"><b>Problem 1</b>:\n",
    "\n",
    "Given:<br>\n",
    "    \n",
    "<b>Important Python Libraries for Data Science:</b><br>\n",
    "\n",
    "Pandas, NumPy, SciPy, Scikit-Learn, Matplotlib, Plotly, Seaborm. Statsmodels<br>\n",
    "\n",
    "a. Pass a list to the set() function to intialize a set called <b>libraries_set1</b> that contains the <b>Important Python Libraries for Data Science</b> as its values.<br>\n",
    "b. Print out the the set that you initialized in Part (a) and use the type() function to check that it is a set.<br>\n",
    "c. Pass a tuple to the set() function to intialize a set called <b>libraries_set2</b> that contains the <b>Important Python Libraries for Data Science</b> as its values.<br>\n",
    "d. Print out the the set that you initialized in Part (c) and use the type() function to check that it is a set.<br>\n",
    "e. Use curly braces { } to intialize a set called <b>libraries_set3</b> that contains the <b>Important Python Libraries for Data Science</b> as its values.<br>\n",
    "f. Print out the the set that you initialized in Part (e) and use the type() function to check that it is a set.<br>\n",
    "</div>"
   ]
  },
  {
   "cell_type": "code",
   "execution_count": 4,
   "id": "817393b8",
   "metadata": {},
   "outputs": [
    {
     "name": "stdout",
     "output_type": "stream",
     "text": [
      "{'SciPy', 'NumPy', 'Scikit-Learn', 'Statsmodels', 'Pandas', 'Seaborm', 'Plotly', 'Matplotlib'} <class 'set'>\n",
      "{'SciPy', 'NumPy', 'Scikit-Learn', 'Statsmodels', 'Pandas', 'Seaborm', 'Plotly', 'Matplotlib'} <class 'set'>\n",
      "{'Scikit-Learn', 'SciPy', 'NumPy', 'Statsmodels', 'Pandas', 'Seaborm', 'Plotly', 'Matplotlib'} <class 'set'>\n"
     ]
    }
   ],
   "source": [
    "libraries_list = [\"Pandas\", \"NumPy\", \"SciPy\", \"Scikit-Learn\", \"Matplotlib\", \"Plotly\", \"Seaborm\", \"Statsmodels\"]\n",
    "libraries_set1 = set(libraries_list)\n",
    "print(libraries_set1, type(libraries_set1))\n",
    "\n",
    "libraries_tuple = (\"Pandas\", \"NumPy\", \"SciPy\", \"Scikit-Learn\", \"Matplotlib\", \"Plotly\", \"Seaborm\", \"Statsmodels\")\n",
    "\n",
    "libraries_set2 = set(libraries_tuple)\n",
    "print(libraries_set2, type(libraries_set2))\n",
    "libraries_set3 = {\"Pandas\", \"NumPy\", \"SciPy\", \"Scikit-Learn\", \"Matplotlib\", \"Plotly\", \"Seaborm\", \"Statsmodels\"}\n",
    "print(libraries_set3, type(libraries_set3))"
   ]
  },
  {
   "cell_type": "markdown",
   "id": "bf2b92a2",
   "metadata": {},
   "source": [
    "<div class=\"alert alert-block alert-success\"><b>Problem 2</b>:\n",
    "\n",
    "a. Initialize a set called <b>greater_metro_set</b> that includes the values Menomonee Falls, Germantown, Marquette, West Allis Hale, Sussex Hamilton, Brookfield Central, and Wauwatosa West.<br>\n",
    "b. Print out the set that you initialized in Part(a).<br>\n",
    "c. Write code to add the values Brookfield East and Wauwatosa East to the set that you initialized in Part(a).<br>\n",
    "d. Print out the set that resulted from doing Part (c).\n",
    "</div>"
   ]
  },
  {
   "cell_type": "code",
   "execution_count": 16,
   "id": "087258b0",
   "metadata": {},
   "outputs": [
    {
     "name": "stdout",
     "output_type": "stream",
     "text": [
      "{'Sussex Hamilton', 'Marquette', 'West Allis Hale', 'Wauwatosa West', 'Brookfield Central', 'Germantown', 'Menomonee Falls'}\n",
      "{'Sussex Hamilton', 'Brookfield East', 'Germantown', 'Wauwatosa West', 'Wauwatosa East', 'West Allis Hale', 'Marquette', 'Menomonee Falls', 'Brookfield Central'}\n"
     ]
    }
   ],
   "source": [
    "greater_metro_set = {\"Menomonee Falls\", \"Germantown\", \"Marquette\", \"West Allis Hale\", \"Sussex Hamilton\", \"Brookfield Central\", \"Wauwatosa West\"}\n",
    "print(greater_metro_set)\n",
    "greater_metro_set.add(\"Brookfield East\")\n",
    "greater_metro_set.add(\"Wauwatosa East\")\n",
    "print(greater_metro_set)"
   ]
  },
  {
   "cell_type": "markdown",
   "id": "7b22d7d4",
   "metadata": {},
   "source": [
    "<div class=\"alert alert-block alert-success\"><b>Problem 3</b>:\n",
    "\n",
    "a. Initialize a set called <b>states</b> that includes the values Texas, Florida, California, Chicago, Maryland, San Francisco, Oregon, and, Vermont.<br>\n",
    "b. Print out the set that you initialized in Part(a).<br>\n",
    "c. Use both the remove() method and the discard() method to remove Chicago and San Francisco from the set that you initialized in Part(a).<br>\n",
    "d. Print out the set that resulted from doing Part (c).<br>\n",
    "e. Write code to remove all of the values from the set that you printed in Part (d).\n",
    "</div>"
   ]
  },
  {
   "cell_type": "code",
   "execution_count": 25,
   "id": "adc82b1e",
   "metadata": {},
   "outputs": [
    {
     "name": "stdout",
     "output_type": "stream",
     "text": [
      "{'San Francisco', 'Florida', 'Oregon', 'Texas', 'Chicago', 'California', 'Maryland', 'Vermont'}\n",
      "{'Florida', 'Oregon', 'Texas', 'California', 'Maryland', 'Vermont'}\n",
      "set()\n"
     ]
    }
   ],
   "source": [
    "states = {\"Texas\", \"Florida\", \"California\", \"Chicago\",\"Maryland\",\"San Francisco\", \"Oregon\",\"Vermont\"}\n",
    "print(states)\n",
    "states.remove('Chicago')\n",
    "states.discard('San Francisco')\n",
    "print(states)\n",
    "states.clear()\n",
    "print(states)"
   ]
  },
  {
   "cell_type": "markdown",
   "id": "d16270f9",
   "metadata": {},
   "source": [
    "<div class=\"alert alert-block alert-success\"><b>Problem 4</b>:\n",
    " \n",
    "a. Initialize a set called <b>big_cities</b> that includes the values New York, Chicago, Los Angeles, Boston, Houston, and Philadelphia.<br>\n",
    "b. Print out the set that you initialized in Part(a).<br>\n",
    "c. Write and print out code to put the values of the set from Parts a & b in an ordered form. <br>\n",
    "d. Use the type() function to check the type of your result from Part (c)\n",
    "</div>"
   ]
  },
  {
   "cell_type": "code",
   "execution_count": 26,
   "id": "4e54936f",
   "metadata": {},
   "outputs": [
    {
     "name": "stdout",
     "output_type": "stream",
     "text": [
      "{'Chicago', 'New York', 'Los Angeles', 'Philadelphia', 'Boston', 'Houston'}\n",
      "['Boston', 'Chicago', 'Houston', 'Los Angeles', 'New York', 'Philadelphia']\n",
      "<class 'set'>\n"
     ]
    }
   ],
   "source": [
    "big_cities = {\"New York\", \"Chicago\", \"Los Angeles\", \"Boston\", \"Houston\", \"Philadelphia\"}\n",
    "print(big_cities)\n",
    "print(sorted(big_cities))\n",
    "print(type(big_cities))"
   ]
  },
  {
   "cell_type": "markdown",
   "id": "c9039e2d",
   "metadata": {},
   "source": [
    "<div class=\"alert alert-block alert-success\"><b>Problem 5</b>:<br>\n",
    "    \n",
    "a. Create a list called <b>foods_list</b> that includes the values pizza, cake, apples, cake, chicken, apples, lobster, pizza, and cake.<br> \n",
    "b. Print out the list that you created in Part (a).<br>\n",
    "c. Write code that uses sets to remove all of the duplicates that are found in the list that you created in Part (a).<br>\n",
    "d. Print out the set that resulted from doing Part (c).<br>\n",
    "e. Convert the set from Part (d) into a list and print out the result. \n",
    "</div>"
   ]
  },
  {
   "cell_type": "code",
   "execution_count": 28,
   "id": "b5f8c8e6",
   "metadata": {},
   "outputs": [
    {
     "name": "stdout",
     "output_type": "stream",
     "text": [
      "['pizza', 'cake', 'apples', 'cake', 'chicken', 'apples', 'lobster', 'pizza', 'cake']\n",
      "{'apples', 'pizza', 'cake', 'chicken', 'lobster'}\n",
      "['apples', 'pizza', 'cake', 'chicken', 'lobster']\n"
     ]
    }
   ],
   "source": [
    "foods_list = [\"pizza\", \"cake\", \"apples\", \"cake\", \"chicken\", \"apples\", \"lobster\", \"pizza\", \"cake\"]\n",
    "print(foods_list)\n",
    "foods_set = set(foods_list)\n",
    "print(foods_set)\n",
    "print(list(foods_set))"
   ]
  },
  {
   "cell_type": "markdown",
   "id": "7b8ea94e",
   "metadata": {},
   "source": [
    "<div class=\"alert alert-block alert-success\"><b>Problem 6</b>:<br>\n",
    "\n",
    "a. Initialize the two sets <b>subjects_set1</b> and <b>subjects_set2</b> which have the values indicated below.\n",
    "\n",
    "- subjects_set1: Calculus, Chemistry, Spanish, APUSH, PE\n",
    "- subjects_set2: Calculus, Biology, French, APUSH, Health\n",
    "    \n",
    "b. Print out the two sets that you initialized in Part (a).<br>\n",
    "c. Print out the union of the two sets that you initialized in Part (a).<br>\n",
    "d. Print out the intersection of the two sets that you initialized in Part (a).<br>\n",
    "e. Print out the difference of the two sets that you initialized in Part (a).<br>\n",
    "f. Print out the symmetric difference the two sets that you initialized in Part (a).<br>\n",
    "</div>"
   ]
  },
  {
   "cell_type": "code",
   "execution_count": 30,
   "id": "2fba5a39",
   "metadata": {},
   "outputs": [
    {
     "name": "stdout",
     "output_type": "stream",
     "text": [
      "{'PE', 'Chemistry', 'APUSH', 'Spanish', 'Calculus'} {'French', 'APUSH', 'Calculus', 'Biology', 'Health'}\n",
      "{'PE', 'Chemistry', 'French', 'Calculus', 'Health', 'APUSH', 'Spanish', 'Biology'}\n",
      "{'Calculus', 'APUSH'}\n",
      "{'PE', 'Chemistry', 'Spanish'}\n",
      "{'PE', 'French', 'Chemistry', 'Spanish', 'Biology', 'Health'}\n"
     ]
    }
   ],
   "source": [
    "subjects_set1 = {\"Calculus\", \"Chemistry\", \"Spanish\", \"APUSH\", \"PE\"}\n",
    "subjects_set2 = {\"Calculus\", \"Biology\", \"French\", \"APUSH\", \"Health\"}\n",
    "print(subjects_set1, subjects_set2)\n",
    "print(subjects_set1.union(subjects_set2))\n",
    "print(subjects_set1.intersection(subjects_set2))\n",
    "print(subjects_set1.difference(subjects_set2))\n",
    "print(subjects_set1.symmetric_difference(subjects_set2))"
   ]
  },
  {
   "cell_type": "code",
   "execution_count": null,
   "id": "8946bebc",
   "metadata": {},
   "outputs": [],
   "source": []
  }
 ],
 "metadata": {
  "kernelspec": {
   "display_name": "Python 3 (ipykernel)",
   "language": "python",
   "name": "python3"
  },
  "language_info": {
   "codemirror_mode": {
    "name": "ipython",
    "version": 3
   },
   "file_extension": ".py",
   "mimetype": "text/x-python",
   "name": "python",
   "nbconvert_exporter": "python",
   "pygments_lexer": "ipython3",
   "version": "3.9.12"
  }
 },
 "nbformat": 4,
 "nbformat_minor": 5
}
